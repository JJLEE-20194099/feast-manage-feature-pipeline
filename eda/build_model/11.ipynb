{
 "cells": [
  {
   "cell_type": "code",
   "execution_count": 20,
   "metadata": {},
   "outputs": [],
   "source": [
    "\n",
    "import pandas as pd\n",
    "import numpy as np\n",
    "import matplotlib.pyplot as plt\n",
    "import seaborn as sns\n",
    "import math"
   ]
  },
  {
   "cell_type": "code",
   "execution_count": 21,
   "metadata": {},
   "outputs": [],
   "source": [
    "df = pd.read_csv('../../data/process_v1/process_data_6.csv')\n",
    "df = df[df['city'] == 0]"
   ]
  },
  {
   "cell_type": "code",
   "execution_count": 22,
   "metadata": {},
   "outputs": [],
   "source": [
    "df['is_street_house'] = (df['accessibility'] == 2).astype(np.int32)"
   ]
  },
  {
   "cell_type": "code",
   "execution_count": 23,
   "metadata": {},
   "outputs": [],
   "source": [
    "df['landSize_ratio'] = df['landSize'] / df['acreage']"
   ]
  },
  {
   "cell_type": "code",
   "execution_count": null,
   "metadata": {},
   "outputs": [],
   "source": []
  },
  {
   "cell_type": "code",
   "execution_count": 24,
   "metadata": {},
   "outputs": [],
   "source": [
    "# mean_land_size_df = df.groupby('administrative_genre')['landSize'].mean().reset_index().rename(columns = {'landSize': 'meanLandSize'})\n",
    "\n",
    "# df = df.merge(mean_land_size_df, how='left', on = 'administrative_genre')\n",
    "\n",
    "# df['landSize_ratio_with_administrative_genre'] = df['landSize'] / df['meanLandSize']\n",
    "# df['acreage_ratio_with_meanLandSize'] = df['acreage'] / df['meanLandSize']\n",
    "\n",
    "\n",
    "# del df['meanLandSize']\n",
    "\n",
    "# def partition_for_alley_width(alley_width):\n",
    "#     if math.isnan(alley_width):\n",
    "#         return np.nan\n",
    "#     if alley_width <= 2.5:\n",
    "#         return 1\n",
    "#     if alley_width <= 5:\n",
    "#         return 2\n",
    "#     if alley_width <= 7:\n",
    "#         return 3\n",
    "#     if alley_width <= 8:\n",
    "#         return 4\n",
    "# df['type_of_width'] = df['alley_width'].apply(partition_for_alley_width)"
   ]
  },
  {
   "cell_type": "code",
   "execution_count": 25,
   "metadata": {},
   "outputs": [
    {
     "data": {
      "text/plain": [
       "{'fitThreeCars': 0,\n",
       " 'fitOneCarAndOneMotorbike': 1,\n",
       " 'notInTheAlley': 2,\n",
       " 'parkCar': 3,\n",
       " 'theBottleNeckPoint': 4,\n",
       " 'fitTwoCars': 5,\n",
       " 'narrorRoad': 6}"
      ]
     },
     "execution_count": 25,
     "metadata": {},
     "output_type": "execute_result"
    }
   ],
   "source": [
    "{'fitThreeCars': 0,\n",
    " 'fitOneCarAndOneMotorbike': 1,\n",
    " 'notInTheAlley': 2,\n",
    " 'parkCar': 3,\n",
    " 'theBottleNeckPoint': 4,\n",
    " 'fitTwoCars': 5,\n",
    " 'narrorRoad': 6}"
   ]
  },
  {
   "cell_type": "code",
   "execution_count": 33,
   "metadata": {},
   "outputs": [
    {
     "name": "stdout",
     "output_type": "stream",
     "text": [
      "28 1 52 155\n"
     ]
    }
   ],
   "source": [
    "cat_cols = ['is_street_house', 'ward', 'street', 'district', 'typeOfRealEstate', 'houseDirection', 'accessibility', 'certificateOfLandUseRight'] + [c for c in df.columns.tolist() if '_lat' in c or '_lon' in c]\n",
    "target_cols = ['target']\n",
    "remove_cols = ['price', 'description', 'city'] + [c for c in df.columns if 'distance_hcm' in c]\n",
    "num_cols = [c for c in df.columns.tolist() if c not in (cat_cols + target_cols + remove_cols)]\n",
    "\n",
    "cat_cols = list(set(cat_cols))\n",
    "target_cols = list(set(target_cols))\n",
    "remove_cols = list(set(remove_cols))\n",
    "num_cols = list(set(num_cols))\n",
    "\n",
    "print(len(cat_cols), len(target_cols), len(remove_cols), len(num_cols))"
   ]
  },
  {
   "cell_type": "code",
   "execution_count": 34,
   "metadata": {},
   "outputs": [
    {
     "data": {
      "text/plain": [
       "['nearest_0_lon',\n",
       " 'nearest_6_lat',\n",
       " 'is_street_house',\n",
       " 'district_lon',\n",
       " 'nearest_0_lat',\n",
       " 'certificateOfLandUseRight',\n",
       " 'nearest_2_lon',\n",
       " 'nearest_8_lat',\n",
       " 'ward',\n",
       " 'nearest_5_lon',\n",
       " 'nearest_5_lat',\n",
       " 'nearest_7_lat',\n",
       " 'nearest_7_lon',\n",
       " 'nearest_1_lon',\n",
       " 'nearest_3_lon',\n",
       " 'nearest_8_lon',\n",
       " 'nearest_3_lat',\n",
       " 'nearest_2_lat',\n",
       " 'district_lat',\n",
       " 'street',\n",
       " 'accessibility',\n",
       " 'nearest_4_lat',\n",
       " 'nearest_1_lat',\n",
       " 'houseDirection',\n",
       " 'typeOfRealEstate',\n",
       " 'nearest_4_lon',\n",
       " 'nearest_6_lon',\n",
       " 'district']"
      ]
     },
     "execution_count": 34,
     "metadata": {},
     "output_type": "execute_result"
    }
   ],
   "source": [
    "cat_cols"
   ]
  },
  {
   "cell_type": "code",
   "execution_count": 35,
   "metadata": {},
   "outputs": [
    {
     "data": {
      "text/plain": [
       "['distance_hn_Công viên cá Koi Rin Rin Park',\n",
       " 'num_of_fast_food_in_2000m_radius',\n",
       " 'num_of_marketplace_in_1000m_radius',\n",
       " 'nearest_2_district',\n",
       " 'w',\n",
       " 'num_of_parking_entrance_in_1000m_radius',\n",
       " 'num_of_fast_food_in_500m_radius',\n",
       " 'nearest_4_street',\n",
       " 'num_of_ward',\n",
       " 'nearest_7_ward',\n",
       " 'distance_hn_Hậu Giang',\n",
       " 'num_of_university_in_2000m_radius',\n",
       " 'num_of_parking_in_1000m_radius',\n",
       " 'num_of_parking_in_2000m_radius',\n",
       " 'num_of_atm_in_2000m_radius',\n",
       " 'num_of_school_in_500m_radius',\n",
       " 'distance_hn_Công viên Gia Định',\n",
       " 'frontWidth',\n",
       " 'num_of_hospital_in_2000m_radius',\n",
       " 'num_of_school_in_2000m_radius',\n",
       " 'distance_nearest_4',\n",
       " 'num_of_cafe_in_500m_radius',\n",
       " 'h',\n",
       " 'distance_hn_Công viên khu đô thị Sala',\n",
       " 'num_of_university_in_500m_radius',\n",
       " 'num_of_kindergarten_in_500m_radius',\n",
       " 'time',\n",
       " 'nearest_0_district',\n",
       " 'distance_hn_Aeon Mall Shopping Center Tân Phú',\n",
       " 'acreage',\n",
       " 'endWidth',\n",
       " 'distance_hn_Đường Nguyễn Huệ, quận 1, TPHCM',\n",
       " 'distance_hn_Công viên nước Củ Chi',\n",
       " 'distance_hn_Bến Vân Đồn',\n",
       " 'distance_nearest_1',\n",
       " 'landSize_ratio',\n",
       " 'nearest_5_street',\n",
       " 'num_of_restaurant_in_1000m_radius',\n",
       " 'distance_hn_Diamond Plaza Shopping Center',\n",
       " 'nearest_2_street',\n",
       " 'numberOfBedRooms',\n",
       " 'num_of_fuel_in_2000m_radius',\n",
       " 'num_of_restaurant_in_2000m_radius',\n",
       " 'distance_hn_Lê Hồng Phong',\n",
       " 'num_of_cafe_in_2000m_radius',\n",
       " 'distance_hn_Công viên Lê Văn Tám',\n",
       " 'num_of_marketplace_in_2000m_radius',\n",
       " 'num_of_place_of_worship_in_2000m_radius',\n",
       " 'distance_nearest_8',\n",
       " 'distance_hn_TTTM Saigon Centre (Takashimaya)',\n",
       " 'distance_hn_Công viên Vinhomes Central Park',\n",
       " 'distance_hn_Nguyễn Văn Linh',\n",
       " 'num_of_police_in_2000m_radius',\n",
       " 'facade',\n",
       " 'distance_hn_Công viên cầu Ánh Sao – Hồ Bán Nguyệt',\n",
       " 'distance_hn_Saigon Garden',\n",
       " 'nearest_5_ward',\n",
       " 'distance_hn_Nguyễn Thị Minh Khai',\n",
       " 'distance_hn_Công viên 23-9',\n",
       " 'num_of_cafe_in_1000m_radius',\n",
       " 'nearest_3_ward',\n",
       " 'distance_hn_Công trường Lam Sơn',\n",
       " 'nearest_1_district',\n",
       " 'distance_hn_Đường Mai Chí Thọ',\n",
       " 'num_of_fuel_in_500m_radius',\n",
       " 'nearest_8_street',\n",
       " 'num_of_kindergarten_in_2000m_radius',\n",
       " 'num_of_hospital_in_500m_radius',\n",
       " 'num_of_fast_food_in_1000m_radius',\n",
       " 'distance_hn_Đường Nguyễn Tất Thành',\n",
       " 'num_of_place_of_worship_in_1000m_radius',\n",
       " 'nearest_3_district',\n",
       " 'landSize',\n",
       " 'distance_hn_Đường Nam Kỳ Khởi Nghĩa',\n",
       " 'distance_hn_Đường Nguyễn Thị Định',\n",
       " 'distance_hn_SC VivoCity Shopping Center',\n",
       " 'nearest_0_ward',\n",
       " 'num_of_townhall - community_centre_in_500m_radius',\n",
       " 'num_of_university_in_1000m_radius',\n",
       " 'distance_hn_Bà Huyện Thanh Quan',\n",
       " 'nearest_7_district',\n",
       " 'distance_hn_Công viên Thỏ Trắng',\n",
       " 'density',\n",
       " 'distance_nearest_2',\n",
       " 'num_of_bank_in_2000m_radius',\n",
       " 'distance_hn_Đường Lê Lợi, quận 1, TPHCM',\n",
       " 'num_of_parking_entrance_in_500m_radius',\n",
       " 'distance_hn_Công viên 30-4',\n",
       " 'distance_hn_Đào Trí',\n",
       " 'distance_hn_Công viên Tao Đàn',\n",
       " 'distance_district',\n",
       " 'distance_nearest_3',\n",
       " 'distance_nearest_5',\n",
       " 'numberOfFloors',\n",
       " 'num_of_bank_in_500m_radius',\n",
       " 'lon',\n",
       " 'nearest_1_ward',\n",
       " 'lat',\n",
       " 'population',\n",
       " 'num_of_parking_in_500m_radius',\n",
       " 'distance_hn_Vincom Đồng Khởi',\n",
       " 'nearest_3_street',\n",
       " 'num_of_police_in_1000m_radius',\n",
       " 'nearest_4_district',\n",
       " 'num_of_townhall - community_centre_in_2000m_radius',\n",
       " 'distance_hn_Trần Hưng Đạo',\n",
       " 'distance_hn_Đường Mạc Thị Bưởi',\n",
       " 'nearest_6_district',\n",
       " 'distance_hn_Tôn Thất Thuyết',\n",
       " 'nearest_8_ward',\n",
       " 'num_of_marketplace_in_500m_radius',\n",
       " 'distance_hn_Công viên Hoàng Văn Thụ',\n",
       " 'distance_hn_Lê Văn Sỹ',\n",
       " 'distance_hn_Công viên trên mây tại Taka Shimaya',\n",
       " 'num_of_fuel_in_1000m_radius',\n",
       " 'nearest_4_ward',\n",
       " 'num_of_police_in_500m_radius',\n",
       " 'nearest_5_district',\n",
       " 'distance_hn_Thảo Cầm Viên',\n",
       " 'nearest_1_street',\n",
       " 'distance_hn_Nguyễn Thị Thập',\n",
       " 'distance_nearest_6',\n",
       " 'num_of_parking_entrance_in_2000m_radius',\n",
       " 'distance_hn_Đường Lê Anh Xuân, quận 1',\n",
       " 'nearest_8_district',\n",
       " 'num_of_school_in_1000m_radius',\n",
       " 'nearest_2_ward',\n",
       " 'distance_hn_Đoàn Văn Bơ',\n",
       " 'distance_hn_Đường Lê Duẩn',\n",
       " 'num_of_bank_in_1000m_radius',\n",
       " 'num_of_atm_in_1000m_radius',\n",
       " 'distance_hn_Crescent Mall',\n",
       " 'distance_hn_Đường Võ Chí Công',\n",
       " 'distance_hn_Kinh Dương Vương',\n",
       " 'distance_hn_Đường Đồng Khởi, quận 1, TPHCM',\n",
       " 'num_of_atm_in_500m_radius',\n",
       " 'distance_nearest_0',\n",
       " 'num_of_restaurant_in_500m_radius',\n",
       " 'distance_hn_Đường Hai Bà Trưng',\n",
       " 'num_of_kindergarten_in_1000m_radius',\n",
       " 'distance_hn_Nguyễn Tri Phương',\n",
       " 'distance_nearest_7',\n",
       " 'nearest_6_street',\n",
       " 'distance_hn_Nguyễn Văn Luông',\n",
       " 'num_of_townhall - community_centre_in_1000m_radius',\n",
       " 'num_of_hospital_in_1000m_radius',\n",
       " 'nearest_6_ward',\n",
       " 'nearest_0_street',\n",
       " 'distance_hn_Công viên nước Đầm Sen',\n",
       " 'nearest_7_street',\n",
       " 'numberOfBathRooms',\n",
       " 'administrative_genre',\n",
       " 'distance_hn_Hùng Vương',\n",
       " 'distance_hn_Công viên phép thuật Harry Potter',\n",
       " 'num_of_place_of_worship_in_500m_radius']"
      ]
     },
     "execution_count": 35,
     "metadata": {},
     "output_type": "execute_result"
    }
   ],
   "source": [
    "num_cols"
   ]
  },
  {
   "cell_type": "code",
   "execution_count": 36,
   "metadata": {},
   "outputs": [
    {
     "name": "stdout",
     "output_type": "stream",
     "text": [
      "155\n"
     ]
    }
   ],
   "source": [
    "print(len(num_cols))"
   ]
  },
  {
   "cell_type": "code",
   "execution_count": 37,
   "metadata": {},
   "outputs": [],
   "source": [
    "# train_independent_corr = df[num_cols].corr()\n",
    "# train_seleted_corr_columns = np.full((train_independent_corr.shape[0],), True, dtype=bool)\n",
    "# for i in range(train_independent_corr.shape[0]):\n",
    "#     for j in range(i + 1, train_independent_corr.shape[0]):\n",
    "#         if train_independent_corr.iloc[i, j] >= 0.99:\n",
    "\n",
    "#             if train_seleted_corr_columns[j]:\n",
    "#                 train_seleted_corr_columns[j] = False\n",
    "# train_selected_columns = df[num_cols].columns[train_seleted_corr_columns]\n",
    "# print(train_selected_columns.shape)"
   ]
  },
  {
   "cell_type": "code",
   "execution_count": 38,
   "metadata": {},
   "outputs": [],
   "source": [
    "# train_selected_columns = list(train_selected_columns)\n",
    "train_selected_columns = num_cols"
   ]
  },
  {
   "cell_type": "code",
   "execution_count": 39,
   "metadata": {},
   "outputs": [],
   "source": [
    "df[cat_cols] = df[cat_cols].fillna(100)\n",
    "df[cat_cols] = df[cat_cols].astype(np.int32)"
   ]
  },
  {
   "cell_type": "code",
   "execution_count": 40,
   "metadata": {},
   "outputs": [],
   "source": [
    "df = df[cat_cols + num_cols + target_cols]"
   ]
  },
  {
   "cell_type": "code",
   "execution_count": 41,
   "metadata": {},
   "outputs": [],
   "source": [
    "df = df[df[target_cols[0]] != np.inf]\n",
    "df = df[df[target_cols[0]] != -np.inf]"
   ]
  },
  {
   "cell_type": "code",
   "execution_count": 42,
   "metadata": {},
   "outputs": [
    {
     "data": {
      "text/plain": [
       "(49052, 184)"
      ]
     },
     "execution_count": 42,
     "metadata": {},
     "output_type": "execute_result"
    }
   ],
   "source": [
    "df.shape"
   ]
  },
  {
   "cell_type": "code",
   "execution_count": 43,
   "metadata": {},
   "outputs": [],
   "source": [
    "df = df[df[target_cols[0]] >= 10]\n",
    "df = df[df[target_cols[0]] < 100 * 10]\n",
    "# df = pd.concat([df[df['w'] < 50], df[df['w'].isnull()]])\n",
    "# df = pd.concat([df[df['h'] < 50], df[df['w'].isnull()]])"
   ]
  },
  {
   "cell_type": "code",
   "execution_count": 44,
   "metadata": {},
   "outputs": [],
   "source": [
    "df.to_csv('../../data/process_v1/process_data_7.csv', index = False)"
   ]
  },
  {
   "cell_type": "code",
   "execution_count": 45,
   "metadata": {},
   "outputs": [],
   "source": [
    "categorical_features_indices = [i for i, c in enumerate(df.columns.tolist()) if c in cat_cols]"
   ]
  },
  {
   "cell_type": "code",
   "execution_count": 46,
   "metadata": {},
   "outputs": [],
   "source": [
    "X = df.drop(target_cols[0], axis=1)\n",
    "y = df[target_cols[0]] / 100"
   ]
  },
  {
   "cell_type": "code",
   "execution_count": 47,
   "metadata": {},
   "outputs": [
    {
     "name": "stdout",
     "output_type": "stream",
     "text": [
      "(39788, 183) (39788,)\n",
      "(4421, 183) (4421,)\n"
     ]
    }
   ],
   "source": [
    "from sklearn.model_selection import train_test_split\n",
    "\n",
    "X_train, X_validation, y_train, y_validation = train_test_split(X, y, train_size=0.9, random_state=42)\n",
    "print(X_train.shape, y_train.shape)\n",
    "print(X_validation.shape, y_validation.shape)"
   ]
  },
  {
   "cell_type": "code",
   "execution_count": 48,
   "metadata": {},
   "outputs": [],
   "source": [
    "from catboost import CatBoostRegressor, Pool, metrics, cv\n",
    "from sklearn.metrics import accuracy_score"
   ]
  },
  {
   "cell_type": "code",
   "execution_count": 50,
   "metadata": {},
   "outputs": [],
   "source": [
    "from lightgbm import LGBMRegressor"
   ]
  },
  {
   "cell_type": "code",
   "execution_count": 54,
   "metadata": {},
   "outputs": [
    {
     "data": {
      "text/plain": [
       "array([0.51204819, 3.38723078, 2.        , ..., 1.14583333, 0.53846154,\n",
       "       0.37671233])"
      ]
     },
     "execution_count": 54,
     "metadata": {},
     "output_type": "execute_result"
    }
   ],
   "source": [
    "y_train.values"
   ]
  },
  {
   "cell_type": "code",
   "execution_count": 63,
   "metadata": {},
   "outputs": [
    {
     "name": "stderr",
     "output_type": "stream",
     "text": [
      "[LightGBM] [Fatal] GPU Tree Learner was not enabled in this build.\n",
      "Please recompile with CMake option -DUSE_GPU=1\n"
     ]
    },
    {
     "ename": "LightGBMError",
     "evalue": "GPU Tree Learner was not enabled in this build.\nPlease recompile with CMake option -DUSE_GPU=1",
     "output_type": "error",
     "traceback": [
      "\u001b[0;31m---------------------------------------------------------------------------\u001b[0m",
      "\u001b[0;31mLightGBMError\u001b[0m                             Traceback (most recent call last)",
      "Cell \u001b[0;32mIn[63], line 2\u001b[0m\n\u001b[1;32m      1\u001b[0m model \u001b[38;5;241m=\u001b[39m LGBMRegressor(device \u001b[38;5;241m=\u001b[39m \u001b[38;5;124m'\u001b[39m\u001b[38;5;124mgpu\u001b[39m\u001b[38;5;124m'\u001b[39m)\n\u001b[0;32m----> 2\u001b[0m \u001b[43mmodel\u001b[49m\u001b[38;5;241;43m.\u001b[39;49m\u001b[43mfit\u001b[49m\u001b[43m(\u001b[49m\n\u001b[1;32m      3\u001b[0m \u001b[43m    \u001b[49m\u001b[43mX_train\u001b[49m\u001b[38;5;241;43m.\u001b[39;49m\u001b[43mvalues\u001b[49m\u001b[43m[\u001b[49m\u001b[43m:\u001b[49m\u001b[43m,\u001b[49m\u001b[43m \u001b[49m\u001b[38;5;241;43m5\u001b[39;49m\u001b[43m:\u001b[49m\u001b[38;5;241;43m6\u001b[39;49m\u001b[43m]\u001b[49m\u001b[43m,\u001b[49m\u001b[43m \u001b[49m\u001b[43my_train\u001b[49m\u001b[38;5;241;43m.\u001b[39;49m\u001b[43mvalues\u001b[49m\u001b[43m,\u001b[49m\n\u001b[1;32m      4\u001b[0m \u001b[43m)\u001b[49m\n",
      "File \u001b[0;32m~/anaconda3/envs/mlops-env/lib/python3.10/site-packages/lightgbm/sklearn.py:676\u001b[0m, in \u001b[0;36mLGBMRegressor.fit\u001b[0;34m(self, X, y, sample_weight, init_score, eval_set, eval_names, eval_sample_weight, eval_init_score, eval_metric, early_stopping_rounds, verbose, feature_name, categorical_feature, callbacks)\u001b[0m\n\u001b[1;32m    670\u001b[0m \u001b[38;5;28;01mdef\u001b[39;00m \u001b[38;5;21mfit\u001b[39m(\u001b[38;5;28mself\u001b[39m, X, y,\n\u001b[1;32m    671\u001b[0m         sample_weight\u001b[38;5;241m=\u001b[39m\u001b[38;5;28;01mNone\u001b[39;00m, init_score\u001b[38;5;241m=\u001b[39m\u001b[38;5;28;01mNone\u001b[39;00m,\n\u001b[1;32m    672\u001b[0m         eval_set\u001b[38;5;241m=\u001b[39m\u001b[38;5;28;01mNone\u001b[39;00m, eval_names\u001b[38;5;241m=\u001b[39m\u001b[38;5;28;01mNone\u001b[39;00m, eval_sample_weight\u001b[38;5;241m=\u001b[39m\u001b[38;5;28;01mNone\u001b[39;00m,\n\u001b[1;32m    673\u001b[0m         eval_init_score\u001b[38;5;241m=\u001b[39m\u001b[38;5;28;01mNone\u001b[39;00m, eval_metric\u001b[38;5;241m=\u001b[39m\u001b[38;5;28;01mNone\u001b[39;00m, early_stopping_rounds\u001b[38;5;241m=\u001b[39m\u001b[38;5;28;01mNone\u001b[39;00m,\n\u001b[1;32m    674\u001b[0m         verbose\u001b[38;5;241m=\u001b[39m\u001b[38;5;28;01mTrue\u001b[39;00m, feature_name\u001b[38;5;241m=\u001b[39m\u001b[38;5;124m'\u001b[39m\u001b[38;5;124mauto\u001b[39m\u001b[38;5;124m'\u001b[39m, categorical_feature\u001b[38;5;241m=\u001b[39m\u001b[38;5;124m'\u001b[39m\u001b[38;5;124mauto\u001b[39m\u001b[38;5;124m'\u001b[39m, callbacks\u001b[38;5;241m=\u001b[39m\u001b[38;5;28;01mNone\u001b[39;00m):\n\u001b[1;32m    675\u001b[0m \u001b[38;5;250m    \u001b[39m\u001b[38;5;124;03m\"\"\"Docstring is inherited from the LGBMModel.\"\"\"\u001b[39;00m\n\u001b[0;32m--> 676\u001b[0m     \u001b[38;5;28;43msuper\u001b[39;49m\u001b[43m(\u001b[49m\u001b[43mLGBMRegressor\u001b[49m\u001b[43m,\u001b[49m\u001b[43m \u001b[49m\u001b[38;5;28;43mself\u001b[39;49m\u001b[43m)\u001b[49m\u001b[38;5;241;43m.\u001b[39;49m\u001b[43mfit\u001b[49m\u001b[43m(\u001b[49m\u001b[43mX\u001b[49m\u001b[43m,\u001b[49m\u001b[43m \u001b[49m\u001b[43my\u001b[49m\u001b[43m,\u001b[49m\u001b[43m \u001b[49m\u001b[43msample_weight\u001b[49m\u001b[38;5;241;43m=\u001b[39;49m\u001b[43msample_weight\u001b[49m\u001b[43m,\u001b[49m\n\u001b[1;32m    677\u001b[0m \u001b[43m                                   \u001b[49m\u001b[43minit_score\u001b[49m\u001b[38;5;241;43m=\u001b[39;49m\u001b[43minit_score\u001b[49m\u001b[43m,\u001b[49m\u001b[43m \u001b[49m\u001b[43meval_set\u001b[49m\u001b[38;5;241;43m=\u001b[39;49m\u001b[43meval_set\u001b[49m\u001b[43m,\u001b[49m\n\u001b[1;32m    678\u001b[0m \u001b[43m                                   \u001b[49m\u001b[43meval_names\u001b[49m\u001b[38;5;241;43m=\u001b[39;49m\u001b[43meval_names\u001b[49m\u001b[43m,\u001b[49m\n\u001b[1;32m    679\u001b[0m \u001b[43m                                   \u001b[49m\u001b[43meval_sample_weight\u001b[49m\u001b[38;5;241;43m=\u001b[39;49m\u001b[43meval_sample_weight\u001b[49m\u001b[43m,\u001b[49m\n\u001b[1;32m    680\u001b[0m \u001b[43m                                   \u001b[49m\u001b[43meval_init_score\u001b[49m\u001b[38;5;241;43m=\u001b[39;49m\u001b[43meval_init_score\u001b[49m\u001b[43m,\u001b[49m\n\u001b[1;32m    681\u001b[0m \u001b[43m                                   \u001b[49m\u001b[43meval_metric\u001b[49m\u001b[38;5;241;43m=\u001b[39;49m\u001b[43meval_metric\u001b[49m\u001b[43m,\u001b[49m\n\u001b[1;32m    682\u001b[0m \u001b[43m                                   \u001b[49m\u001b[43mearly_stopping_rounds\u001b[49m\u001b[38;5;241;43m=\u001b[39;49m\u001b[43mearly_stopping_rounds\u001b[49m\u001b[43m,\u001b[49m\n\u001b[1;32m    683\u001b[0m \u001b[43m                                   \u001b[49m\u001b[43mverbose\u001b[49m\u001b[38;5;241;43m=\u001b[39;49m\u001b[43mverbose\u001b[49m\u001b[43m,\u001b[49m\u001b[43m \u001b[49m\u001b[43mfeature_name\u001b[49m\u001b[38;5;241;43m=\u001b[39;49m\u001b[43mfeature_name\u001b[49m\u001b[43m,\u001b[49m\n\u001b[1;32m    684\u001b[0m \u001b[43m                                   \u001b[49m\u001b[43mcategorical_feature\u001b[49m\u001b[38;5;241;43m=\u001b[39;49m\u001b[43mcategorical_feature\u001b[49m\u001b[43m,\u001b[49m\n\u001b[1;32m    685\u001b[0m \u001b[43m                                   \u001b[49m\u001b[43mcallbacks\u001b[49m\u001b[38;5;241;43m=\u001b[39;49m\u001b[43mcallbacks\u001b[49m\u001b[43m)\u001b[49m\n\u001b[1;32m    686\u001b[0m     \u001b[38;5;28;01mreturn\u001b[39;00m \u001b[38;5;28mself\u001b[39m\n",
      "File \u001b[0;32m~/anaconda3/envs/mlops-env/lib/python3.10/site-packages/lightgbm/sklearn.py:538\u001b[0m, in \u001b[0;36mLGBMModel.fit\u001b[0;34m(self, X, y, sample_weight, init_score, group, eval_set, eval_names, eval_sample_weight, eval_class_weight, eval_init_score, eval_group, eval_metric, early_stopping_rounds, verbose, feature_name, categorical_feature, callbacks)\u001b[0m\n\u001b[1;32m    534\u001b[0m             valid_set \u001b[38;5;241m=\u001b[39m _construct_dataset(valid_data[\u001b[38;5;241m0\u001b[39m], valid_data[\u001b[38;5;241m1\u001b[39m],\n\u001b[1;32m    535\u001b[0m                                            valid_weight, valid_init_score, valid_group, params)\n\u001b[1;32m    536\u001b[0m         valid_sets\u001b[38;5;241m.\u001b[39mappend(valid_set)\n\u001b[0;32m--> 538\u001b[0m \u001b[38;5;28mself\u001b[39m\u001b[38;5;241m.\u001b[39m_Booster \u001b[38;5;241m=\u001b[39m \u001b[43mtrain\u001b[49m\u001b[43m(\u001b[49m\u001b[43mparams\u001b[49m\u001b[43m,\u001b[49m\u001b[43m \u001b[49m\u001b[43mtrain_set\u001b[49m\u001b[43m,\u001b[49m\n\u001b[1;32m    539\u001b[0m \u001b[43m                      \u001b[49m\u001b[38;5;28;43mself\u001b[39;49m\u001b[38;5;241;43m.\u001b[39;49m\u001b[43mn_estimators\u001b[49m\u001b[43m,\u001b[49m\u001b[43m \u001b[49m\u001b[43mvalid_sets\u001b[49m\u001b[38;5;241;43m=\u001b[39;49m\u001b[43mvalid_sets\u001b[49m\u001b[43m,\u001b[49m\u001b[43m \u001b[49m\u001b[43mvalid_names\u001b[49m\u001b[38;5;241;43m=\u001b[39;49m\u001b[43meval_names\u001b[49m\u001b[43m,\u001b[49m\n\u001b[1;32m    540\u001b[0m \u001b[43m                      \u001b[49m\u001b[43mearly_stopping_rounds\u001b[49m\u001b[38;5;241;43m=\u001b[39;49m\u001b[43mearly_stopping_rounds\u001b[49m\u001b[43m,\u001b[49m\n\u001b[1;32m    541\u001b[0m \u001b[43m                      \u001b[49m\u001b[43mevals_result\u001b[49m\u001b[38;5;241;43m=\u001b[39;49m\u001b[43mevals_result\u001b[49m\u001b[43m,\u001b[49m\u001b[43m \u001b[49m\u001b[43mfobj\u001b[49m\u001b[38;5;241;43m=\u001b[39;49m\u001b[38;5;28;43mself\u001b[39;49m\u001b[38;5;241;43m.\u001b[39;49m\u001b[43m_fobj\u001b[49m\u001b[43m,\u001b[49m\u001b[43m \u001b[49m\u001b[43mfeval\u001b[49m\u001b[38;5;241;43m=\u001b[39;49m\u001b[43mfeval\u001b[49m\u001b[43m,\u001b[49m\n\u001b[1;32m    542\u001b[0m \u001b[43m                      \u001b[49m\u001b[43mverbose_eval\u001b[49m\u001b[38;5;241;43m=\u001b[39;49m\u001b[43mverbose\u001b[49m\u001b[43m,\u001b[49m\u001b[43m \u001b[49m\u001b[43mfeature_name\u001b[49m\u001b[38;5;241;43m=\u001b[39;49m\u001b[43mfeature_name\u001b[49m\u001b[43m,\u001b[49m\n\u001b[1;32m    543\u001b[0m \u001b[43m                      \u001b[49m\u001b[43mcategorical_feature\u001b[49m\u001b[38;5;241;43m=\u001b[39;49m\u001b[43mcategorical_feature\u001b[49m\u001b[43m,\u001b[49m\n\u001b[1;32m    544\u001b[0m \u001b[43m                      \u001b[49m\u001b[43mcallbacks\u001b[49m\u001b[38;5;241;43m=\u001b[39;49m\u001b[43mcallbacks\u001b[49m\u001b[43m)\u001b[49m\n\u001b[1;32m    546\u001b[0m \u001b[38;5;28;01mif\u001b[39;00m evals_result:\n\u001b[1;32m    547\u001b[0m     \u001b[38;5;28mself\u001b[39m\u001b[38;5;241m.\u001b[39m_evals_result \u001b[38;5;241m=\u001b[39m evals_result\n",
      "File \u001b[0;32m~/anaconda3/envs/mlops-env/lib/python3.10/site-packages/lightgbm/engine.py:197\u001b[0m, in \u001b[0;36mtrain\u001b[0;34m(params, train_set, num_boost_round, valid_sets, valid_names, fobj, feval, init_model, feature_name, categorical_feature, early_stopping_rounds, evals_result, verbose_eval, learning_rates, keep_training_booster, callbacks)\u001b[0m\n\u001b[1;32m    195\u001b[0m \u001b[38;5;66;03m# construct booster\u001b[39;00m\n\u001b[1;32m    196\u001b[0m \u001b[38;5;28;01mtry\u001b[39;00m:\n\u001b[0;32m--> 197\u001b[0m     booster \u001b[38;5;241m=\u001b[39m \u001b[43mBooster\u001b[49m\u001b[43m(\u001b[49m\u001b[43mparams\u001b[49m\u001b[38;5;241;43m=\u001b[39;49m\u001b[43mparams\u001b[49m\u001b[43m,\u001b[49m\u001b[43m \u001b[49m\u001b[43mtrain_set\u001b[49m\u001b[38;5;241;43m=\u001b[39;49m\u001b[43mtrain_set\u001b[49m\u001b[43m)\u001b[49m\n\u001b[1;32m    198\u001b[0m     \u001b[38;5;28;01mif\u001b[39;00m is_valid_contain_train:\n\u001b[1;32m    199\u001b[0m         booster\u001b[38;5;241m.\u001b[39mset_train_data_name(train_data_name)\n",
      "File \u001b[0;32m~/anaconda3/envs/mlops-env/lib/python3.10/site-packages/lightgbm/basic.py:1551\u001b[0m, in \u001b[0;36mBooster.__init__\u001b[0;34m(self, params, train_set, model_file, silent)\u001b[0m\n\u001b[1;32m   1549\u001b[0m \u001b[38;5;66;03m# construct booster object\u001b[39;00m\n\u001b[1;32m   1550\u001b[0m \u001b[38;5;28mself\u001b[39m\u001b[38;5;241m.\u001b[39mhandle \u001b[38;5;241m=\u001b[39m ctypes\u001b[38;5;241m.\u001b[39mc_void_p()\n\u001b[0;32m-> 1551\u001b[0m \u001b[43m_safe_call\u001b[49m\u001b[43m(\u001b[49m\u001b[43m_LIB\u001b[49m\u001b[38;5;241;43m.\u001b[39;49m\u001b[43mLGBM_BoosterCreate\u001b[49m\u001b[43m(\u001b[49m\n\u001b[1;32m   1552\u001b[0m \u001b[43m    \u001b[49m\u001b[43mtrain_set\u001b[49m\u001b[38;5;241;43m.\u001b[39;49m\u001b[43mconstruct\u001b[49m\u001b[43m(\u001b[49m\u001b[43m)\u001b[49m\u001b[38;5;241;43m.\u001b[39;49m\u001b[43mhandle\u001b[49m\u001b[43m,\u001b[49m\n\u001b[1;32m   1553\u001b[0m \u001b[43m    \u001b[49m\u001b[43mc_str\u001b[49m\u001b[43m(\u001b[49m\u001b[43mparams_str\u001b[49m\u001b[43m)\u001b[49m\u001b[43m,\u001b[49m\n\u001b[1;32m   1554\u001b[0m \u001b[43m    \u001b[49m\u001b[43mctypes\u001b[49m\u001b[38;5;241;43m.\u001b[39;49m\u001b[43mbyref\u001b[49m\u001b[43m(\u001b[49m\u001b[38;5;28;43mself\u001b[39;49m\u001b[38;5;241;43m.\u001b[39;49m\u001b[43mhandle\u001b[49m\u001b[43m)\u001b[49m\u001b[43m)\u001b[49m\u001b[43m)\u001b[49m\n\u001b[1;32m   1555\u001b[0m \u001b[38;5;66;03m# save reference to data\u001b[39;00m\n\u001b[1;32m   1556\u001b[0m \u001b[38;5;28mself\u001b[39m\u001b[38;5;241m.\u001b[39mtrain_set \u001b[38;5;241m=\u001b[39m train_set\n",
      "File \u001b[0;32m~/anaconda3/envs/mlops-env/lib/python3.10/site-packages/lightgbm/basic.py:46\u001b[0m, in \u001b[0;36m_safe_call\u001b[0;34m(ret)\u001b[0m\n\u001b[1;32m     38\u001b[0m \u001b[38;5;250m\u001b[39m\u001b[38;5;124;03m\"\"\"Check the return value from C API call.\u001b[39;00m\n\u001b[1;32m     39\u001b[0m \n\u001b[1;32m     40\u001b[0m \u001b[38;5;124;03mParameters\u001b[39;00m\n\u001b[0;32m   (...)\u001b[0m\n\u001b[1;32m     43\u001b[0m \u001b[38;5;124;03m    The return value from C API calls.\u001b[39;00m\n\u001b[1;32m     44\u001b[0m \u001b[38;5;124;03m\"\"\"\u001b[39;00m\n\u001b[1;32m     45\u001b[0m \u001b[38;5;28;01mif\u001b[39;00m ret \u001b[38;5;241m!=\u001b[39m \u001b[38;5;241m0\u001b[39m:\n\u001b[0;32m---> 46\u001b[0m     \u001b[38;5;28;01mraise\u001b[39;00m LightGBMError(decode_string(_LIB\u001b[38;5;241m.\u001b[39mLGBM_GetLastError()))\n",
      "\u001b[0;31mLightGBMError\u001b[0m: GPU Tree Learner was not enabled in this build.\nPlease recompile with CMake option -DUSE_GPU=1"
     ]
    }
   ],
   "source": [
    "model = LGBMRegressor(device = 'gpu')\n",
    "model.fit(\n",
    "    X_train.values[:, 5:6], y_train.values,\n",
    ")"
   ]
  },
  {
   "cell_type": "code",
   "execution_count": null,
   "metadata": {},
   "outputs": [],
   "source": []
  },
  {
   "cell_type": "code",
   "execution_count": null,
   "metadata": {},
   "outputs": [],
   "source": [
    "feature_importances = pd.DataFrame(model.get_feature_importance(),columns=['importance'])\n",
    "feature = pd.DataFrame(df.columns,columns=['feature'])\n",
    "feature_importance_df = pd.concat([feature_importances,feature],axis=1)\n",
    "feature_importance_df[feature_importance_df['importance'] == 0]"
   ]
  },
  {
   "cell_type": "code",
   "execution_count": null,
   "metadata": {},
   "outputs": [],
   "source": [
    "feature_importance_df[feature_importance_df['feature'] == 'alley_width']"
   ]
  },
  {
   "cell_type": "code",
   "execution_count": null,
   "metadata": {},
   "outputs": [],
   "source": [
    "plt.figure(figsize=(16, 16))\n",
    "sns.barplot(data=feature_importance_df.sort_values(by='importance', ascending=False).head(100), x='importance', y='feature')\n",
    "plt.title('Feature Importances ')"
   ]
  },
  {
   "cell_type": "code",
   "execution_count": null,
   "metadata": {},
   "outputs": [],
   "source": [
    "val_pred_df = pd.DataFrame()\n",
    "val_pred_df['pred'] = model.predict(X_validation)\n",
    "val_pred_df['target'] = y_validation\n"
   ]
  },
  {
   "cell_type": "code",
   "execution_count": null,
   "metadata": {},
   "outputs": [],
   "source": [
    "val_pred_df"
   ]
  },
  {
   "cell_type": "code",
   "execution_count": null,
   "metadata": {},
   "outputs": [],
   "source": [
    "def plot_distribution():\n",
    "    plt.subplots(figsize=(14,7))\n",
    "    sns.distplot(x=val_pred_df['target'], color='blue', kde=True)\n",
    "    sns.distplot(x=val_pred_df['pred'], color='red', kde=True)\n",
    "    plt.title(\"Distribution\", weight=\"bold\",fontsize=20, pad=20)\n",
    "    plt.ylabel(\"Count\", weight=\"bold\", fontsize=15)\n",
    "    plt.xlabel(f'Distribution', weight=\"bold\", fontsize=12)\n",
    "    plt.legend(['target', 'pred'])\n",
    "    plt.show()\n",
    "plot_distribution()"
   ]
  }
 ],
 "metadata": {
  "kernelspec": {
   "display_name": "mlops-env",
   "language": "python",
   "name": "python3"
  },
  "language_info": {
   "codemirror_mode": {
    "name": "ipython",
    "version": 3
   },
   "file_extension": ".py",
   "mimetype": "text/x-python",
   "name": "python",
   "nbconvert_exporter": "python",
   "pygments_lexer": "ipython3",
   "version": "3.10.4"
  }
 },
 "nbformat": 4,
 "nbformat_minor": 2
}
