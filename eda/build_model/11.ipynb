{
 "cells": [
  {
   "cell_type": "code",
   "execution_count": 230,
   "metadata": {},
   "outputs": [],
   "source": [
    "\n",
    "import pandas as pd\n",
    "import numpy as np\n",
    "import matplotlib.pyplot as plt\n",
    "import seaborn as sns\n",
    "import math"
   ]
  },
  {
   "cell_type": "code",
   "execution_count": 231,
   "metadata": {},
   "outputs": [],
   "source": [
    "df = pd.read_csv('../../data/process_v1/process_data_7.csv')\n",
    "df = df[df['city'] == 0]"
   ]
  },
  {
   "cell_type": "code",
   "execution_count": 232,
   "metadata": {},
   "outputs": [],
   "source": [
    "df['is_street_house'] = (df['accessibility'] == 2).astype(np.int32)"
   ]
  },
  {
   "cell_type": "code",
   "execution_count": 233,
   "metadata": {},
   "outputs": [],
   "source": [
    "df['landSize_ratio'] = df['landSize'] / df['acreage']"
   ]
  },
  {
   "cell_type": "code",
   "execution_count": null,
   "metadata": {},
   "outputs": [],
   "source": []
  },
  {
   "cell_type": "code",
   "execution_count": 234,
   "metadata": {},
   "outputs": [],
   "source": [
    "mean_land_size_df = df.groupby('administrative_genre')['landSize'].mean().reset_index().rename(columns = {'landSize': 'meanLandSize'})\n",
    "\n",
    "df = df.merge(mean_land_size_df, how='left', on = 'administrative_genre')\n",
    "\n",
    "df['landSize_ratio_with_administrative_genre'] = df['landSize'] / df['meanLandSize']\n",
    "df['acreage_ratio_with_meanLandSize'] = df['acreage'] / df['meanLandSize']\n",
    "\n",
    "\n",
    "del df['meanLandSize']\n",
    "\n",
    "def partition_for_alley_width(alley_width):\n",
    "    if math.isnan(alley_width):\n",
    "        return np.nan\n",
    "    if alley_width <= 2.5:\n",
    "        return 1\n",
    "    if alley_width <= 5:\n",
    "        return 2\n",
    "    if alley_width <= 7:\n",
    "        return 3\n",
    "    if alley_width <= 8:\n",
    "        return 4\n",
    "df['type_of_width'] = df['alley_width'].apply(partition_for_alley_width)"
   ]
  },
  {
   "cell_type": "code",
   "execution_count": 235,
   "metadata": {},
   "outputs": [
    {
     "data": {
      "text/plain": [
       "{'fitThreeCars': 0,\n",
       " 'fitOneCarAndOneMotorbike': 1,\n",
       " 'notInTheAlley': 2,\n",
       " 'parkCar': 3,\n",
       " 'theBottleNeckPoint': 4,\n",
       " 'fitTwoCars': 5,\n",
       " 'narrorRoad': 6}"
      ]
     },
     "execution_count": 235,
     "metadata": {},
     "output_type": "execute_result"
    }
   ],
   "source": [
    "{'fitThreeCars': 0,\n",
    " 'fitOneCarAndOneMotorbike': 1,\n",
    " 'notInTheAlley': 2,\n",
    " 'parkCar': 3,\n",
    " 'theBottleNeckPoint': 4,\n",
    " 'fitTwoCars': 5,\n",
    " 'narrorRoad': 6}"
   ]
  },
  {
   "cell_type": "code",
   "execution_count": 236,
   "metadata": {},
   "outputs": [
    {
     "name": "stdout",
     "output_type": "stream",
     "text": [
      "29 1 55 154\n"
     ]
    }
   ],
   "source": [
    "cat_cols = ['type_of_width', 'is_street_house', 'ward', 'street', 'district', 'typeOfRealEstate', 'houseDirection', 'accessibility', 'certificateOfLandUseRight'] + [c for c in df.columns.tolist() if '_lat' in c or '_lon' in c]\n",
    "target_cols = ['target']\n",
    "remove_cols = ['price', 'description', 'city'] + [c for c in df.columns if 'distance_hcm' in c]\n",
    "num_cols = [c for c in df.columns.tolist() if c not in (cat_cols + target_cols + remove_cols)]\n",
    "\n",
    "cat_cols = list(set(cat_cols))\n",
    "target_cols = list(set(target_cols))\n",
    "remove_cols = list(set(remove_cols))\n",
    "num_cols = list(set(num_cols))\n",
    "\n",
    "print(len(cat_cols), len(target_cols), len(remove_cols), len(num_cols))"
   ]
  },
  {
   "cell_type": "code",
   "execution_count": 237,
   "metadata": {},
   "outputs": [
    {
     "data": {
      "text/plain": [
       "['nearest_3_lat',\n",
       " 'nearest_2_lat',\n",
       " 'typeOfRealEstate',\n",
       " 'nearest_4_lon',\n",
       " 'nearest_5_lat',\n",
       " 'district_lon',\n",
       " 'nearest_8_lat',\n",
       " 'nearest_4_lat',\n",
       " 'nearest_6_lat',\n",
       " 'nearest_8_lon',\n",
       " 'street',\n",
       " 'nearest_5_lon',\n",
       " 'houseDirection',\n",
       " 'type_of_width',\n",
       " 'nearest_6_lon',\n",
       " 'nearest_1_lat',\n",
       " 'nearest_0_lat',\n",
       " 'nearest_0_lon',\n",
       " 'nearest_2_lon',\n",
       " 'accessibility',\n",
       " 'nearest_7_lon',\n",
       " 'district',\n",
       " 'certificateOfLandUseRight',\n",
       " 'nearest_3_lon',\n",
       " 'nearest_7_lat',\n",
       " 'ward',\n",
       " 'nearest_1_lon',\n",
       " 'district_lat',\n",
       " 'is_street_house']"
      ]
     },
     "execution_count": 237,
     "metadata": {},
     "output_type": "execute_result"
    }
   ],
   "source": [
    "cat_cols"
   ]
  },
  {
   "cell_type": "code",
   "execution_count": 238,
   "metadata": {},
   "outputs": [
    {
     "data": {
      "text/plain": [
       "['num_of_parking_in_2000m_radius',\n",
       " 'distance_nearest_7',\n",
       " 'distance_nearest_3',\n",
       " 'distance_hn_Vườn hoa Lý Thái Tổ',\n",
       " 'num_of_school_in_2000m_radius',\n",
       " 'distance_hn_Hồ Tây 3',\n",
       " 'num_of_fast_food_in_1000m_radius',\n",
       " 'nearest_3_street',\n",
       " 'distance_hn_Lotte Center Hanoi',\n",
       " 'num_of_townhall - community_centre_in_1000m_radius',\n",
       " 'distance_hn_Trung tâm thương mại Hà Nội Center Point',\n",
       " 'distance_hn_Hồ Ngọc Khánh',\n",
       " 'distance_nearest_5',\n",
       " 'num_of_bank_in_500m_radius',\n",
       " 'landSize_ratio_with_administrative_genre',\n",
       " 'num_of_police_in_1000m_radius',\n",
       " 'num_of_place_of_worship_in_2000m_radius',\n",
       " 'num_of_cafe_in_500m_radius',\n",
       " 'nearest_0_ward',\n",
       " 'nearest_5_district',\n",
       " 'distance_hn_Vườn hoa Lênin',\n",
       " 'num_of_parking_in_500m_radius',\n",
       " 'distance_hn_Công viên thống nhất',\n",
       " 'nearest_1_ward',\n",
       " 'landSize_ratio',\n",
       " 'nearest_7_street',\n",
       " 'administrative_genre',\n",
       " 'distance_hn_Hàng Trống',\n",
       " 'num_of_hospital_in_500m_radius',\n",
       " 'distance_hn_Hồ Tây 4',\n",
       " 'population',\n",
       " 'facade',\n",
       " 'num_of_bank_in_1000m_radius',\n",
       " 'distance_hn_Hồ Tây 6',\n",
       " 'nearest_8_district',\n",
       " 'num_of_parking_in_1000m_radius',\n",
       " 'distance_hn_Lotte Mart Đống Đa',\n",
       " 'alley_width',\n",
       " 'nearest_7_district',\n",
       " 'num_of_fast_food_in_500m_radius',\n",
       " 'num_of_marketplace_in_500m_radius',\n",
       " 'distance_hn_Trung tâm thương mại Hà Nội Keangnam',\n",
       " 'num_of_atm_in_1000m_radius',\n",
       " 'num_of_restaurant_in_2000m_radius',\n",
       " 'acreage',\n",
       " 'nearest_7_ward',\n",
       " 'num_of_kindergarten_in_500m_radius',\n",
       " 'distance_nearest_4',\n",
       " 'distance_hn_Phố Lý Thường Kiệt',\n",
       " 'num_of_restaurant_in_1000m_radius',\n",
       " 'nearest_1_street',\n",
       " 'w',\n",
       " 'distance_hn_Hồ Gươm',\n",
       " 'nearest_4_district',\n",
       " 'distance_hn_Hồ Tây 5',\n",
       " 'num_of_university_in_2000m_radius',\n",
       " 'density',\n",
       " 'numberOfBedRooms',\n",
       " 'nearest_0_district',\n",
       " 'distance_hn_Vincom Bà Triệu',\n",
       " 'distance_hn_Phố Hai Bà Trưng(Hoàn Kiếm)',\n",
       " 'num_of_fast_food_in_2000m_radius',\n",
       " 'distance_hn_Công viên nước Hồ Tây',\n",
       " 'distance_hn_Công viên Văn hóa Đống Đa',\n",
       " 'nearest_8_ward',\n",
       " 'distance_hn_Phố Lê Thái Tổ',\n",
       " 'num_of_university_in_1000m_radius',\n",
       " 'num_of_place_of_worship_in_1000m_radius',\n",
       " 'num_of_cafe_in_1000m_radius',\n",
       " 'lat',\n",
       " 'distance_hn_Trung tâm thương mại Hà Nội Aqua Central',\n",
       " 'num_of_townhall - community_centre_in_500m_radius',\n",
       " 'distance_hn_Phố Hai Bà Trưng',\n",
       " 'num_of_parking_entrance_in_1000m_radius',\n",
       " 'lon',\n",
       " 'distance_hn_Phố Bảo Khánh',\n",
       " 'landSize',\n",
       " 'num_of_fuel_in_500m_radius',\n",
       " 'nearest_5_street',\n",
       " 'distance_hn_Công Viên Thiên Đường Bảo Sơn',\n",
       " 'distance_nearest_8',\n",
       " 'num_of_restaurant_in_500m_radius',\n",
       " 'nearest_4_ward',\n",
       " 'distance_hn_Hàng Bài',\n",
       " 'num_of_parking_entrance_in_2000m_radius',\n",
       " 'num_of_ward',\n",
       " 'nearest_6_ward',\n",
       " 'distance_hn_Hồ Tây 7',\n",
       " 'nearest_6_district',\n",
       " 'nearest_3_ward',\n",
       " 'distance_hn_GO! Thăng Long',\n",
       " 'num_of_marketplace_in_2000m_radius',\n",
       " 'distance_hn_Công viên hòa bình',\n",
       " 'distance_hn_Công viên Nghĩa Đô',\n",
       " 'nearest_8_street',\n",
       " 'num_of_kindergarten_in_2000m_radius',\n",
       " 'distance_hn_Phố Hàng Đào',\n",
       " 'num_of_hospital_in_1000m_radius',\n",
       " 'num_of_school_in_1000m_radius',\n",
       " 'distance_hn_Vườn Hoa Pasteur',\n",
       " 'numberOfBathRooms',\n",
       " 'nearest_2_street',\n",
       " 'acreage_ratio_with_meanLandSize',\n",
       " 'num_of_kindergarten_in_1000m_radius',\n",
       " 'distance_district',\n",
       " 'num_of_bank_in_2000m_radius',\n",
       " 'distance_hn_Trung tâm thương mại Hà Nội Tràng Tiền Plaza ',\n",
       " 'distance_nearest_1',\n",
       " 'distance_hn_Hồ Tây 8',\n",
       " 'h',\n",
       " 'num_of_hospital_in_2000m_radius',\n",
       " 'distance_nearest_2',\n",
       " 'numberOfFloors',\n",
       " 'num_of_police_in_500m_radius',\n",
       " 'nearest_1_district',\n",
       " 'num_of_parking_entrance_in_500m_radius',\n",
       " 'distance_hn_Công viên thủ lệ',\n",
       " 'distance_hn_Phố Bà Triệu',\n",
       " 'nearest_2_ward',\n",
       " 'nearest_4_street',\n",
       " 'num_of_atm_in_500m_radius',\n",
       " 'num_of_atm_in_2000m_radius',\n",
       " 'num_of_place_of_worship_in_500m_radius',\n",
       " 'distance_hn_Indochina Plaza Hanoi Residences',\n",
       " 'nearest_2_district',\n",
       " 'num_of_fuel_in_1000m_radius',\n",
       " 'num_of_cafe_in_2000m_radius',\n",
       " 'distance_nearest_0',\n",
       " 'distance_hn_Lotte Mart Cầu Giấy',\n",
       " 'num_of_fuel_in_2000m_radius',\n",
       " 'distance_hn_Tops Market The Garden',\n",
       " 'distance_hn_Tops Market Lê Trọng Tấn',\n",
       " 'distance_nearest_6',\n",
       " 'nearest_5_ward',\n",
       " 'nearest_0_street',\n",
       " 'num_of_school_in_500m_radius',\n",
       " 'distance_hn_Công viên yên sở',\n",
       " 'distance_hn_Vincom Times City',\n",
       " 'distance_hn_WinMart',\n",
       " 'nearest_3_district',\n",
       " 'distance_hn_Aeon Mall Long Biên',\n",
       " 'frontWidth',\n",
       " 'distance_hn_Hàng Hành',\n",
       " 'distance_hn_Trung tâm thương mại Royal City Hà Nội',\n",
       " 'num_of_townhall - community_centre_in_2000m_radius',\n",
       " 'distance_hn_Hồ Tây 1',\n",
       " 'num_of_marketplace_in_1000m_radius',\n",
       " 'num_of_police_in_2000m_radius',\n",
       " 'endWidth',\n",
       " 'distance_hn_Hàng Khay',\n",
       " 'distance_hn_Aeon Mall Hà Đông',\n",
       " 'num_of_university_in_500m_radius',\n",
       " 'nearest_6_street',\n",
       " 'distance_hn_Hồ Tây 2']"
      ]
     },
     "execution_count": 238,
     "metadata": {},
     "output_type": "execute_result"
    }
   ],
   "source": [
    "num_cols"
   ]
  },
  {
   "cell_type": "code",
   "execution_count": 239,
   "metadata": {},
   "outputs": [
    {
     "name": "stdout",
     "output_type": "stream",
     "text": [
      "154\n"
     ]
    }
   ],
   "source": [
    "print(len(num_cols))"
   ]
  },
  {
   "cell_type": "code",
   "execution_count": 240,
   "metadata": {},
   "outputs": [
    {
     "name": "stdout",
     "output_type": "stream",
     "text": [
      "(135,)\n"
     ]
    }
   ],
   "source": [
    "train_independent_corr = df[num_cols].corr()\n",
    "train_seleted_corr_columns = np.full((train_independent_corr.shape[0],), True, dtype=bool)\n",
    "for i in range(train_independent_corr.shape[0]):\n",
    "    for j in range(i + 1, train_independent_corr.shape[0]):\n",
    "        if train_independent_corr.iloc[i, j] >= 0.99:\n",
    "\n",
    "            if train_seleted_corr_columns[j]:\n",
    "                train_seleted_corr_columns[j] = False\n",
    "train_selected_columns = df[num_cols].columns[train_seleted_corr_columns]\n",
    "print(train_selected_columns.shape)"
   ]
  },
  {
   "cell_type": "code",
   "execution_count": 241,
   "metadata": {},
   "outputs": [],
   "source": [
    "# train_selected_columns = list(train_selected_columns)\n",
    "train_selected_columns = num_cols"
   ]
  },
  {
   "cell_type": "code",
   "execution_count": 242,
   "metadata": {},
   "outputs": [],
   "source": [
    "df[cat_cols] = df[cat_cols].fillna(100)\n",
    "df[cat_cols] = df[cat_cols].astype(np.int32)"
   ]
  },
  {
   "cell_type": "code",
   "execution_count": 243,
   "metadata": {},
   "outputs": [],
   "source": [
    "df = df[cat_cols + num_cols + target_cols]"
   ]
  },
  {
   "cell_type": "code",
   "execution_count": 244,
   "metadata": {},
   "outputs": [],
   "source": [
    "df.to_csv('../../data/process_v1/process_data_7.csv', index = False)"
   ]
  },
  {
   "cell_type": "code",
   "execution_count": 245,
   "metadata": {},
   "outputs": [],
   "source": [
    "df = df[df[target_cols[0]] != np.inf]\n",
    "df = df[df[target_cols[0]] != -np.inf]"
   ]
  },
  {
   "cell_type": "code",
   "execution_count": 246,
   "metadata": {},
   "outputs": [
    {
     "data": {
      "text/plain": [
       "(121911, 184)"
      ]
     },
     "execution_count": 246,
     "metadata": {},
     "output_type": "execute_result"
    }
   ],
   "source": [
    "df.shape"
   ]
  },
  {
   "cell_type": "code",
   "execution_count": 247,
   "metadata": {},
   "outputs": [],
   "source": [
    "df = df[df[target_cols[0]] >= 10]\n",
    "df = df[df[target_cols[0]] < 100 * 10]\n",
    "# df = pd.concat([df[df['w'] < 50], df[df['w'].isnull()]])\n",
    "# df = pd.concat([df[df['h'] < 50], df[df['w'].isnull()]])"
   ]
  },
  {
   "cell_type": "code",
   "execution_count": 248,
   "metadata": {},
   "outputs": [],
   "source": [
    "categorical_features_indices = [i for i, c in enumerate(df.columns.tolist()) if c in cat_cols]"
   ]
  },
  {
   "cell_type": "code",
   "execution_count": 249,
   "metadata": {},
   "outputs": [],
   "source": [
    "X = df.drop(target_cols[0], axis=1)\n",
    "y = df[target_cols[0]] / 100"
   ]
  },
  {
   "cell_type": "code",
   "execution_count": 250,
   "metadata": {},
   "outputs": [
    {
     "name": "stdout",
     "output_type": "stream",
     "text": [
      "(98580, 183) (98580,)\n",
      "(10954, 183) (10954,)\n"
     ]
    }
   ],
   "source": [
    "from sklearn.model_selection import train_test_split\n",
    "\n",
    "X_train, X_validation, y_train, y_validation = train_test_split(X, y, train_size=0.9, random_state=42)\n",
    "print(X_train.shape, y_train.shape)\n",
    "print(X_validation.shape, y_validation.shape)"
   ]
  },
  {
   "cell_type": "code",
   "execution_count": 251,
   "metadata": {},
   "outputs": [],
   "source": [
    "from catboost import CatBoostRegressor, Pool, metrics, cv\n",
    "from sklearn.metrics import accuracy_score"
   ]
  },
  {
   "cell_type": "code",
   "execution_count": 252,
   "metadata": {},
   "outputs": [
    {
     "name": "stdout",
     "output_type": "stream",
     "text": [
      "Learning rate set to 0.064452\n",
      "0:\tlearn: 1.2225420\ttest: 1.2110656\tbest: 1.2110656 (0)\ttotal: 24.8ms\tremaining: 2m 4s\n",
      "100:\tlearn: 0.5877189\ttest: 0.5801429\tbest: 0.5801429 (100)\ttotal: 2.33s\tremaining: 1m 53s\n",
      "200:\tlearn: 0.5633429\ttest: 0.5614675\tbest: 0.5614675 (200)\ttotal: 4.58s\tremaining: 1m 49s\n",
      "300:\tlearn: 0.5495434\ttest: 0.5526171\tbest: 0.5526171 (300)\ttotal: 6.86s\tremaining: 1m 47s\n",
      "400:\tlearn: 0.5391315\ttest: 0.5476041\tbest: 0.5476041 (400)\ttotal: 9.15s\tremaining: 1m 44s\n",
      "500:\tlearn: 0.5311424\ttest: 0.5435904\tbest: 0.5435904 (500)\ttotal: 11.5s\tremaining: 1m 43s\n",
      "600:\tlearn: 0.5235053\ttest: 0.5404938\tbest: 0.5404938 (600)\ttotal: 13.8s\tremaining: 1m 40s\n",
      "700:\tlearn: 0.5169086\ttest: 0.5375406\tbest: 0.5375406 (700)\ttotal: 16.1s\tremaining: 1m 38s\n",
      "800:\tlearn: 0.5110126\ttest: 0.5350959\tbest: 0.5350959 (800)\ttotal: 18.4s\tremaining: 1m 36s\n",
      "900:\tlearn: 0.5059127\ttest: 0.5331859\tbest: 0.5331859 (900)\ttotal: 20.7s\tremaining: 1m 34s\n",
      "1000:\tlearn: 0.5012736\ttest: 0.5314973\tbest: 0.5314973 (1000)\ttotal: 23.1s\tremaining: 1m 32s\n",
      "1100:\tlearn: 0.4962938\ttest: 0.5297149\tbest: 0.5297102 (1098)\ttotal: 25.4s\tremaining: 1m 30s\n",
      "1200:\tlearn: 0.4917610\ttest: 0.5278989\tbest: 0.5278988 (1199)\ttotal: 27.7s\tremaining: 1m 27s\n",
      "1300:\tlearn: 0.4877416\ttest: 0.5270636\tbest: 0.5269804 (1278)\ttotal: 30.1s\tremaining: 1m 25s\n",
      "1400:\tlearn: 0.4841821\ttest: 0.5259076\tbest: 0.5258978 (1399)\ttotal: 32.4s\tremaining: 1m 23s\n",
      "1500:\tlearn: 0.4808171\ttest: 0.5249221\tbest: 0.5248972 (1496)\ttotal: 34.8s\tremaining: 1m 21s\n",
      "1600:\tlearn: 0.4773357\ttest: 0.5237236\tbest: 0.5237236 (1600)\ttotal: 37.1s\tremaining: 1m 18s\n",
      "1700:\tlearn: 0.4740344\ttest: 0.5224819\tbest: 0.5224819 (1700)\ttotal: 39.5s\tremaining: 1m 16s\n",
      "1800:\tlearn: 0.4712114\ttest: 0.5216373\tbest: 0.5216373 (1800)\ttotal: 41.8s\tremaining: 1m 14s\n",
      "1900:\tlearn: 0.4682638\ttest: 0.5207019\tbest: 0.5207019 (1900)\ttotal: 44.2s\tremaining: 1m 11s\n",
      "2000:\tlearn: 0.4654413\ttest: 0.5199755\tbest: 0.5199723 (1998)\ttotal: 46.5s\tremaining: 1m 9s\n",
      "2100:\tlearn: 0.4627864\ttest: 0.5192746\tbest: 0.5191649 (2085)\ttotal: 48.9s\tremaining: 1m 7s\n",
      "2200:\tlearn: 0.4599805\ttest: 0.5187102\tbest: 0.5187102 (2200)\ttotal: 51.2s\tremaining: 1m 5s\n",
      "2300:\tlearn: 0.4573224\ttest: 0.5177796\tbest: 0.5177796 (2300)\ttotal: 53.5s\tremaining: 1m 2s\n",
      "2400:\tlearn: 0.4548394\ttest: 0.5168421\tbest: 0.5168421 (2400)\ttotal: 55.9s\tremaining: 1m\n",
      "2500:\tlearn: 0.4524598\ttest: 0.5162435\tbest: 0.5162282 (2497)\ttotal: 58.2s\tremaining: 58.2s\n",
      "2600:\tlearn: 0.4502017\ttest: 0.5154345\tbest: 0.5154345 (2600)\ttotal: 1m\tremaining: 55.9s\n",
      "2700:\tlearn: 0.4479562\ttest: 0.5147671\tbest: 0.5147492 (2695)\ttotal: 1m 2s\tremaining: 53.6s\n",
      "2800:\tlearn: 0.4458190\ttest: 0.5140553\tbest: 0.5140553 (2800)\ttotal: 1m 5s\tremaining: 51.3s\n",
      "2900:\tlearn: 0.4434578\ttest: 0.5133840\tbest: 0.5133763 (2898)\ttotal: 1m 7s\tremaining: 49s\n"
     ]
    }
   ],
   "source": [
    "model = CatBoostRegressor(verbose=100, iterations = 5000, task_type='GPU', devices = '0:1')\n",
    "model.fit(\n",
    "    X_train, y_train,\n",
    "    cat_features=categorical_features_indices,\n",
    "    eval_set=(X_validation, y_validation),\n",
    "    logging_level='Verbose',\n",
    "    # plot=True\n",
    ")"
   ]
  },
  {
   "cell_type": "code",
   "execution_count": null,
   "metadata": {},
   "outputs": [],
   "source": []
  },
  {
   "cell_type": "code",
   "execution_count": null,
   "metadata": {},
   "outputs": [],
   "source": [
    "feature_importances = pd.DataFrame(model.get_feature_importance(),columns=['importance'])\n",
    "feature = pd.DataFrame(df.columns,columns=['feature'])\n",
    "feature_importance_df = pd.concat([feature_importances,feature],axis=1)\n",
    "feature_importance_df[feature_importance_df['importance'] == 0]"
   ]
  },
  {
   "cell_type": "code",
   "execution_count": null,
   "metadata": {},
   "outputs": [],
   "source": [
    "feature_importance_df[feature_importance_df['feature'] == 'alley_width']"
   ]
  },
  {
   "cell_type": "code",
   "execution_count": null,
   "metadata": {},
   "outputs": [],
   "source": [
    "plt.figure(figsize=(16, 16))\n",
    "sns.barplot(data=feature_importance_df.sort_values(by='importance', ascending=False).head(100), x='importance', y='feature')\n",
    "plt.title('Feature Importances ')"
   ]
  },
  {
   "cell_type": "code",
   "execution_count": null,
   "metadata": {},
   "outputs": [],
   "source": [
    "val_pred_df = pd.DataFrame()\n",
    "val_pred_df['pred'] = model.predict(X_validation)\n",
    "val_pred_df['target'] = y_validation\n"
   ]
  },
  {
   "cell_type": "code",
   "execution_count": null,
   "metadata": {},
   "outputs": [],
   "source": [
    "val_pred_df"
   ]
  },
  {
   "cell_type": "code",
   "execution_count": null,
   "metadata": {},
   "outputs": [],
   "source": [
    "def plot_distribution():\n",
    "    plt.subplots(figsize=(14,7))\n",
    "    sns.distplot(x=val_pred_df['target'], color='blue', kde=True)\n",
    "    sns.distplot(x=val_pred_df['pred'], color='red', kde=True)\n",
    "    plt.title(\"Distribution\", weight=\"bold\",fontsize=20, pad=20)\n",
    "    plt.ylabel(\"Count\", weight=\"bold\", fontsize=15)\n",
    "    plt.xlabel(f'Distribution', weight=\"bold\", fontsize=12)\n",
    "    plt.legend(['target', 'pred'])\n",
    "    plt.show()\n",
    "plot_distribution()"
   ]
  }
 ],
 "metadata": {
  "kernelspec": {
   "display_name": "mlops-env",
   "language": "python",
   "name": "python3"
  },
  "language_info": {
   "codemirror_mode": {
    "name": "ipython",
    "version": 3
   },
   "file_extension": ".py",
   "mimetype": "text/x-python",
   "name": "python",
   "nbconvert_exporter": "python",
   "pygments_lexer": "ipython3",
   "version": "3.10.4"
  }
 },
 "nbformat": 4,
 "nbformat_minor": 2
}
