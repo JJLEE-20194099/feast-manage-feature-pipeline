{
 "cells": [
  {
   "cell_type": "code",
   "execution_count": 3,
   "metadata": {},
   "outputs": [],
   "source": [
    "import pandas as pd\n",
    "import numpy as np\n",
    "import json\n",
    "from tqdm import tqdm"
   ]
  },
  {
   "cell_type": "code",
   "execution_count": 6,
   "metadata": {},
   "outputs": [
    {
     "name": "stderr",
     "output_type": "stream",
     "text": [
      "  0%|          | 0/5 [00:00<?, ?it/s]"
     ]
    },
    {
     "name": "stdout",
     "output_type": "stream",
     "text": [
      "0        2023-10-22\n",
      "1        2024-01-15\n",
      "2        2023-11-28\n",
      "3        2023-11-24\n",
      "4        2023-10-31\n",
      "            ...    \n",
      "109493   2023-11-08\n",
      "109494   2023-12-19\n",
      "109495   2024-01-03\n",
      "109496   2023-11-13\n",
      "109497   2023-12-04\n",
      "Name: event_timestamp, Length: 109498, dtype: datetime64[ns]\n"
     ]
    },
    {
     "name": "stderr",
     "output_type": "stream",
     "text": [
      " 20%|██        | 1/5 [00:36<02:25, 36.47s/it]"
     ]
    },
    {
     "name": "stdout",
     "output_type": "stream",
     "text": [
      "0        2023-10-22\n",
      "1        2024-01-15\n",
      "2        2023-11-28\n",
      "3        2023-11-24\n",
      "4        2023-10-31\n",
      "            ...    \n",
      "109493   2023-11-08\n",
      "109494   2023-12-19\n",
      "109495   2024-01-03\n",
      "109496   2023-11-13\n",
      "109497   2023-12-04\n",
      "Name: event_timestamp, Length: 109498, dtype: datetime64[ns]\n"
     ]
    },
    {
     "name": "stderr",
     "output_type": "stream",
     "text": [
      " 40%|████      | 2/5 [00:52<01:12, 24.30s/it]"
     ]
    },
    {
     "name": "stdout",
     "output_type": "stream",
     "text": [
      "0        2023-10-22\n",
      "1        2024-01-15\n",
      "2        2023-11-28\n",
      "3        2023-11-24\n",
      "4        2023-10-31\n",
      "            ...    \n",
      "109493   2023-11-08\n",
      "109494   2023-12-19\n",
      "109495   2024-01-03\n",
      "109496   2023-11-13\n",
      "109497   2023-12-04\n",
      "Name: event_timestamp, Length: 109498, dtype: datetime64[ns]\n"
     ]
    },
    {
     "name": "stderr",
     "output_type": "stream",
     "text": [
      " 60%|██████    | 3/5 [01:24<00:55, 27.87s/it]"
     ]
    },
    {
     "name": "stdout",
     "output_type": "stream",
     "text": [
      "0        2023-10-22\n",
      "1        2024-01-15\n",
      "2        2023-11-28\n",
      "3        2023-11-24\n",
      "4        2023-10-31\n",
      "            ...    \n",
      "109493   2023-11-08\n",
      "109494   2023-12-19\n",
      "109495   2024-01-03\n",
      "109496   2023-11-13\n",
      "109497   2023-12-04\n",
      "Name: event_timestamp, Length: 109498, dtype: datetime64[ns]\n"
     ]
    },
    {
     "name": "stderr",
     "output_type": "stream",
     "text": [
      " 80%|████████  | 4/5 [01:45<00:25, 25.22s/it]"
     ]
    },
    {
     "name": "stdout",
     "output_type": "stream",
     "text": [
      "0        2023-10-22\n",
      "1        2024-01-15\n",
      "2        2023-11-28\n",
      "3        2023-11-24\n",
      "4        2023-10-31\n",
      "            ...    \n",
      "109493   2023-11-08\n",
      "109494   2023-12-19\n",
      "109495   2024-01-03\n",
      "109496   2023-11-13\n",
      "109497   2023-12-04\n",
      "Name: event_timestamp, Length: 109498, dtype: datetime64[ns]\n"
     ]
    },
    {
     "name": "stderr",
     "output_type": "stream",
     "text": [
      "100%|██████████| 5/5 [01:56<00:00, 23.28s/it]\n",
      "  0%|          | 0/5 [00:00<?, ?it/s]"
     ]
    },
    {
     "name": "stdout",
     "output_type": "stream",
     "text": [
      "0       2023-12-27\n",
      "1       2023-12-25\n",
      "2       2023-12-30\n",
      "3       2023-11-27\n",
      "4       2024-01-03\n",
      "           ...    \n",
      "44144   2023-12-13\n",
      "44145   2023-12-14\n",
      "44146   2023-12-14\n",
      "44147   2023-12-01\n",
      "44148   2023-11-13\n",
      "Name: event_timestamp, Length: 44149, dtype: datetime64[ns]\n"
     ]
    },
    {
     "name": "stderr",
     "output_type": "stream",
     "text": [
      " 20%|██        | 1/5 [00:04<00:18,  4.74s/it]"
     ]
    },
    {
     "name": "stdout",
     "output_type": "stream",
     "text": [
      "0       2023-12-27\n",
      "1       2023-12-25\n",
      "2       2023-12-30\n",
      "3       2023-11-27\n",
      "4       2024-01-03\n",
      "           ...    \n",
      "44144   2023-12-13\n",
      "44145   2023-12-14\n",
      "44146   2023-12-14\n",
      "44147   2023-12-01\n",
      "44148   2023-11-13\n",
      "Name: event_timestamp, Length: 44149, dtype: datetime64[ns]\n"
     ]
    },
    {
     "name": "stderr",
     "output_type": "stream",
     "text": [
      " 40%|████      | 2/5 [00:10<00:16,  5.36s/it]"
     ]
    },
    {
     "name": "stdout",
     "output_type": "stream",
     "text": [
      "0       2023-12-27\n",
      "1       2023-12-25\n",
      "2       2023-12-30\n",
      "3       2023-11-27\n",
      "4       2024-01-03\n",
      "           ...    \n",
      "44144   2023-12-13\n",
      "44145   2023-12-14\n",
      "44146   2023-12-14\n",
      "44147   2023-12-01\n",
      "44148   2023-11-13\n",
      "Name: event_timestamp, Length: 44149, dtype: datetime64[ns]\n"
     ]
    },
    {
     "name": "stderr",
     "output_type": "stream",
     "text": [
      " 60%|██████    | 3/5 [00:15<00:10,  5.39s/it]"
     ]
    },
    {
     "name": "stdout",
     "output_type": "stream",
     "text": [
      "0       2023-12-27\n",
      "1       2023-12-25\n",
      "2       2023-12-30\n",
      "3       2023-11-27\n",
      "4       2024-01-03\n",
      "           ...    \n",
      "44144   2023-12-13\n",
      "44145   2023-12-14\n",
      "44146   2023-12-14\n",
      "44147   2023-12-01\n",
      "44148   2023-11-13\n",
      "Name: event_timestamp, Length: 44149, dtype: datetime64[ns]\n"
     ]
    },
    {
     "name": "stderr",
     "output_type": "stream",
     "text": [
      " 80%|████████  | 4/5 [00:20<00:05,  5.04s/it]"
     ]
    },
    {
     "name": "stdout",
     "output_type": "stream",
     "text": [
      "0       2023-12-27\n",
      "1       2023-12-25\n",
      "2       2023-12-30\n",
      "3       2023-11-27\n",
      "4       2024-01-03\n",
      "           ...    \n",
      "44144   2023-12-13\n",
      "44145   2023-12-14\n",
      "44146   2023-12-14\n",
      "44147   2023-12-01\n",
      "44148   2023-11-13\n",
      "Name: event_timestamp, Length: 44149, dtype: datetime64[ns]\n"
     ]
    },
    {
     "name": "stderr",
     "output_type": "stream",
     "text": [
      "100%|██████████| 5/5 [00:26<00:00,  5.31s/it]\n"
     ]
    }
   ],
   "source": [
    "for city in ['hn', 'hcm']:\n",
    "\n",
    "    for version in tqdm(range(5)):\n",
    "        df = pd.read_csv(f'../../data/process_v1/process_data_9_{city}.csv')\n",
    "        feature_dict = json.load(open(f'../../data/featureset/{city}_v{version}.json'))\n",
    "        cat_cols = feature_dict['cat_cols']\n",
    "        num_cols = feature_dict['num_cols']\n",
    "        all_cols = list(set(cat_cols + num_cols))\n",
    "\n",
    "        selected_cols = [c for c in df.columns.tolist() if c not in ['target', 'time']]\n",
    "\n",
    "\n",
    "        timestamps = df['time'].tolist()\n",
    "        timestamps = pd.Series([pd.Timestamp(item) for item in timestamps])\n",
    "        timestamps = timestamps.to_frame(name=\"event_timestamp\")\n",
    "        df = pd.concat(objs=[df, timestamps], axis=1)\n",
    "        print(df['event_timestamp'])\n",
    "        df = df.sort_values(by = ['event_timestamp'])\n",
    "        df = df.reset_index(drop = True)\n",
    "\n",
    "\n",
    "        full_feat_set = selected_cols\n",
    "\n",
    "        data_df = df[all_cols + ['event_timestamp']]\n",
    "        target_df = df[['target'] + ['event_timestamp']]\n",
    "\n",
    "        realestate_ids = pd.DataFrame(data=list(range(len(data_df))), columns=[\"realestate_id\"])\n",
    "\n",
    "        data_df = pd.concat(objs=[data_df, realestate_ids], axis=1)\n",
    "        target_df = pd.concat(objs=[target_df, realestate_ids], axis=1)\n",
    "\n",
    "        data_df.to_parquet(path=f'../../data/data_df_{city}_v{version}.parquet')\n",
    "        target_df.to_parquet(path=f'../../data/target_df_{city}_v{version}.parquet')\n"
   ]
  },
  {
   "cell_type": "code",
   "execution_count": 9,
   "metadata": {},
   "outputs": [
    {
     "name": "stderr",
     "output_type": "stream",
     "text": [
      "100%|██████████| 5/5 [00:00<00:00, 188.64it/s]\n",
      "100%|██████████| 5/5 [00:00<00:00, 1625.83it/s]\n"
     ]
    }
   ],
   "source": [
    "for city in ['hn', 'hcm']:\n",
    "\n",
    "    for version in tqdm(range(5)):\n",
    "        config = {\n",
    "            \"df_feature_view_name\": f\"df_{city}_feature_view_v{version}\",\n",
    "            \"target_feature_view_name\": f\"target_{city}_feature_view_v{version}\",\n",
    "            \"featureset_path\": f\"/mnt/long/long/datn-feast/data/featureset/{city}_v{version}.json\",\n",
    "            \"featureset_df_path\": f\"/home/long/long/datn-feast/data/data_df_{city}_v{version}.parquet\",\n",
    "            \"featureset_target_path\": f\"/home/long/long/datn-feast/data/target_df_{city}_v{version}.parquet\",\n",
    "            \"feast_dataset_name\": f\"realestate_dataset_{city}_v{version}\",\n",
    "            \"feast_dataset_path\": f\"/home/long/long/datn-feast/data/realestate_dataset_{city}_v{version}.parquet\"\n",
    "        }\n",
    "\n",
    "        with open(f\"../../feature_repo/src/config/featureset/{city}_v{version}.json\", \"w\") as outfile:\n",
    "            json.dump(config, outfile)\n"
   ]
  }
 ],
 "metadata": {
  "kernelspec": {
   "display_name": "mlops-env",
   "language": "python",
   "name": "python3"
  },
  "language_info": {
   "codemirror_mode": {
    "name": "ipython",
    "version": 3
   },
   "file_extension": ".py",
   "mimetype": "text/x-python",
   "name": "python",
   "nbconvert_exporter": "python",
   "pygments_lexer": "ipython3",
   "version": "3.10.4"
  }
 },
 "nbformat": 4,
 "nbformat_minor": 2
}
