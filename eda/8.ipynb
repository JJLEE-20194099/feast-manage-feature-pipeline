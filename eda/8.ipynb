{
 "cells": [
  {
   "cell_type": "code",
   "execution_count": null,
   "metadata": {},
   "outputs": [],
   "source": [
    "import pandas as pd\n",
    "import numpy as np\n",
    "import requests"
   ]
  },
  {
   "cell_type": "code",
   "execution_count": null,
   "metadata": {},
   "outputs": [],
   "source": [
    "df = pd.read_csv('../data/process_v1/process_data_5.csv')"
   ]
  },
  {
   "cell_type": "code",
   "execution_count": null,
   "metadata": {},
   "outputs": [],
   "source": [
    "df"
   ]
  },
  {
   "cell_type": "code",
   "execution_count": 16,
   "metadata": {},
   "outputs": [],
   "source": [
    "lst_proxy = []\n",
    "with open(r\"../data/ip.txt\", 'r') as f:\n",
    "    for line in f:\n",
    "        lst_proxy.append(line.strip())"
   ]
  },
  {
   "cell_type": "code",
   "execution_count": 18,
   "metadata": {},
   "outputs": [],
   "source": [
    "\n",
    "def translate_gg_free(text, tgt_lang = \"en\", src_lang = \"vi\"):\n",
    "    txt = str(text)\n",
    "    proxies = {\n",
    "        \"http\": lst_proxy\n",
    "    }\n",
    "    tran = ''\n",
    "    try:\n",
    "        r = requests.get(\n",
    "            'https://translate.googleapis.com/translate_a/single?client=gtx&sl=' + src_lang + '&tl=' + tgt_lang +\n",
    "            '&dt=t&dt=bd&dj=1&q=' + txt, proxies=proxies)\n",
    "        if r.status_code == 200:\n",
    "            resp = r.json()\n",
    "            for j in resp['sentences']:\n",
    "                tran += j['trans'] + \" \"\n",
    "    except Exception as ve:\n",
    "        print(ve)\n",
    "    return tran"
   ]
  },
  {
   "cell_type": "code",
   "execution_count": 19,
   "metadata": {},
   "outputs": [
    {
     "name": "stdout",
     "output_type": "stream",
     "text": [
      "Selling service land of 6.9 hectares in Van Canh, Hoai Duc, Hanoi.  Area 50m². (corner lot) facing southeast.  9m road and sidewalk near Van Canh urban area and 422b road with radius of 200m for schools, stations, markets, committees, surrounding utilities, etc.  price 4.6 billion.  at the 6.9ha service land in Van Canh Hoai Duc, Hanoi.  Contact 0969 680 986 Mr. Tuan. \n"
     ]
    }
   ],
   "source": [
    "print(translate_gg_free(df['description'].tolist()[0]))"
   ]
  }
 ],
 "metadata": {
  "kernelspec": {
   "display_name": "mlops-env",
   "language": "python",
   "name": "python3"
  },
  "language_info": {
   "codemirror_mode": {
    "name": "ipython",
    "version": 3
   },
   "file_extension": ".py",
   "mimetype": "text/x-python",
   "name": "python",
   "nbconvert_exporter": "python",
   "pygments_lexer": "ipython3",
   "version": "3.10.4"
  }
 },
 "nbformat": 4,
 "nbformat_minor": 2
}
