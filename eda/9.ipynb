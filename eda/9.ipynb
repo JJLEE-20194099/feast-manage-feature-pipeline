{
 "cells": [
  {
   "cell_type": "code",
   "execution_count": null,
   "metadata": {},
   "outputs": [],
   "source": [
    "import pandas as pd\n",
    "import numpy as np"
   ]
  },
  {
   "cell_type": "code",
   "execution_count": null,
   "metadata": {},
   "outputs": [],
   "source": [
    "df = pd.read_csv('../data/process_v1/process_data_5.csv')"
   ]
  },
  {
   "cell_type": "code",
   "execution_count": null,
   "metadata": {},
   "outputs": [],
   "source": [
    "df"
   ]
  },
  {
   "cell_type": "code",
   "execution_count": null,
   "metadata": {},
   "outputs": [],
   "source": [
    "lat_lon_df = df[['lat', 'lon']].drop_duplicates()\n",
    "lat_lon_df"
   ]
  },
  {
   "cell_type": "code",
   "execution_count": null,
   "metadata": {},
   "outputs": [],
   "source": [
    "(lat_lon_df['lon'].min(), lat_lon_df['lon'].max())"
   ]
  },
  {
   "cell_type": "code",
   "execution_count": null,
   "metadata": {},
   "outputs": [],
   "source": [
    "import quads"
   ]
  },
  {
   "cell_type": "code",
   "execution_count": null,
   "metadata": {},
   "outputs": [],
   "source": [
    "tree = quads.QuadTree((15.86914545, 106.13803025), 12 , 2)"
   ]
  },
  {
   "cell_type": "code",
   "execution_count": null,
   "metadata": {},
   "outputs": [],
   "source": [
    "lat_list, lon_list = lat_lon_df['lat'].tolist(), lat_lon_df['lon'].tolist()\n",
    "lat_lon_tuple_list = [(lat, lon) for lat, lon in zip(lat_list, lon_list)]\n",
    "print(len(lat_lon_tuple_list))"
   ]
  },
  {
   "cell_type": "code",
   "execution_count": null,
   "metadata": {},
   "outputs": [],
   "source": [
    "for lat_lon_tuple in lat_lon_tuple_list:\n",
    "    tree.insert(lat_lon_tuple)"
   ]
  },
  {
   "cell_type": "code",
   "execution_count": null,
   "metadata": {},
   "outputs": [],
   "source": [
    "lat_lon_tuple in tree"
   ]
  },
  {
   "cell_type": "code",
   "execution_count": null,
   "metadata": {},
   "outputs": [],
   "source": [
    "found = tree.nearest_neighbors(lat_lon_tuple, count=4)\n",
    "print(found[0].x, found[0].y)"
   ]
  },
  {
   "cell_type": "code",
   "execution_count": null,
   "metadata": {},
   "outputs": [],
   "source": [
    "def get_address_by_lat_lon(lat, lon):\n",
    "    item_df = df[(df['lat'] == lat) & (df['lon'] == lon)]\n",
    "    return item_df['district'].mode().tolist()[0], item_df['street'].mode().tolist()[0], item_df['ward'].mode().tolist()[0]"
   ]
  },
  {
   "cell_type": "code",
   "execution_count": null,
   "metadata": {},
   "outputs": [],
   "source": [
    "def find_nearest_neighbors(lat, lon, count = 10):\n",
    "    found = tree.nearest_neighbors((lat, lon), count=count)\n",
    "    nearest_lat_lon_df = pd.DataFrame()\n",
    "    nearest_lat_lon_df['lat'] = [item.x for item in found]\n",
    "    nearest_lat_lon_df['lon'] = [item.y for item in found]\n",
    "\n",
    "    nearest_lat_lon_df['district'], nearest_lat_lon_df['street'], nearest_lat_lon_df['ward'] = zip(*nearest_lat_lon_df.apply(lambda x: get_address_by_lat_lon(x['lat'], x['lon']), axis = 1))\n",
    "    return nearest_lat_lon_df"
   ]
  },
  {
   "cell_type": "code",
   "execution_count": 107,
   "metadata": {},
   "outputs": [
    {
     "data": {
      "text/plain": [
       "(30, 513, 253)"
      ]
     },
     "execution_count": 107,
     "metadata": {},
     "output_type": "execute_result"
    }
   ],
   "source": [
    "get_address_by_lat_lon(lat_lon_tuple[0], lat_lon_tuple[1])"
   ]
  },
  {
   "cell_type": "code",
   "execution_count": 108,
   "metadata": {},
   "outputs": [
    {
     "data": {
      "text/html": [
       "<div>\n",
       "<style scoped>\n",
       "    .dataframe tbody tr th:only-of-type {\n",
       "        vertical-align: middle;\n",
       "    }\n",
       "\n",
       "    .dataframe tbody tr th {\n",
       "        vertical-align: top;\n",
       "    }\n",
       "\n",
       "    .dataframe thead th {\n",
       "        text-align: right;\n",
       "    }\n",
       "</style>\n",
       "<table border=\"1\" class=\"dataframe\">\n",
       "  <thead>\n",
       "    <tr style=\"text-align: right;\">\n",
       "      <th></th>\n",
       "      <th>lat</th>\n",
       "      <th>lon</th>\n",
       "      <th>district</th>\n",
       "      <th>street</th>\n",
       "      <th>ward</th>\n",
       "    </tr>\n",
       "  </thead>\n",
       "  <tbody>\n",
       "    <tr>\n",
       "      <th>0</th>\n",
       "      <td>10.802529</td>\n",
       "      <td>106.639643</td>\n",
       "      <td>30</td>\n",
       "      <td>513</td>\n",
       "      <td>253</td>\n",
       "    </tr>\n",
       "    <tr>\n",
       "      <th>1</th>\n",
       "      <td>10.797893</td>\n",
       "      <td>106.637636</td>\n",
       "      <td>26</td>\n",
       "      <td>149</td>\n",
       "      <td>115</td>\n",
       "    </tr>\n",
       "    <tr>\n",
       "      <th>2</th>\n",
       "      <td>10.805946</td>\n",
       "      <td>106.635190</td>\n",
       "      <td>30</td>\n",
       "      <td>548</td>\n",
       "      <td>307</td>\n",
       "    </tr>\n",
       "    <tr>\n",
       "      <th>3</th>\n",
       "      <td>10.807598</td>\n",
       "      <td>106.634793</td>\n",
       "      <td>30</td>\n",
       "      <td>210</td>\n",
       "      <td>150</td>\n",
       "    </tr>\n",
       "    <tr>\n",
       "      <th>4</th>\n",
       "      <td>10.805242</td>\n",
       "      <td>106.646488</td>\n",
       "      <td>30</td>\n",
       "      <td>405</td>\n",
       "      <td>253</td>\n",
       "    </tr>\n",
       "    <tr>\n",
       "      <th>5</th>\n",
       "      <td>10.804682</td>\n",
       "      <td>106.647705</td>\n",
       "      <td>30</td>\n",
       "      <td>441</td>\n",
       "      <td>128</td>\n",
       "    </tr>\n",
       "    <tr>\n",
       "      <th>6</th>\n",
       "      <td>10.801725</td>\n",
       "      <td>106.648716</td>\n",
       "      <td>30</td>\n",
       "      <td>168</td>\n",
       "      <td>128</td>\n",
       "    </tr>\n",
       "    <tr>\n",
       "      <th>7</th>\n",
       "      <td>10.793350</td>\n",
       "      <td>106.639016</td>\n",
       "      <td>26</td>\n",
       "      <td>269</td>\n",
       "      <td>183</td>\n",
       "    </tr>\n",
       "    <tr>\n",
       "      <th>8</th>\n",
       "      <td>10.799470</td>\n",
       "      <td>106.629478</td>\n",
       "      <td>26</td>\n",
       "      <td>257</td>\n",
       "      <td>115</td>\n",
       "    </tr>\n",
       "    <tr>\n",
       "      <th>9</th>\n",
       "      <td>10.800942</td>\n",
       "      <td>106.627756</td>\n",
       "      <td>26</td>\n",
       "      <td>271</td>\n",
       "      <td>115</td>\n",
       "    </tr>\n",
       "  </tbody>\n",
       "</table>\n",
       "</div>"
      ],
      "text/plain": [
       "         lat         lon  district  street  ward\n",
       "0  10.802529  106.639643        30     513   253\n",
       "1  10.797893  106.637636        26     149   115\n",
       "2  10.805946  106.635190        30     548   307\n",
       "3  10.807598  106.634793        30     210   150\n",
       "4  10.805242  106.646488        30     405   253\n",
       "5  10.804682  106.647705        30     441   128\n",
       "6  10.801725  106.648716        30     168   128\n",
       "7  10.793350  106.639016        26     269   183\n",
       "8  10.799470  106.629478        26     257   115\n",
       "9  10.800942  106.627756        26     271   115"
      ]
     },
     "execution_count": 108,
     "metadata": {},
     "output_type": "execute_result"
    }
   ],
   "source": [
    "find_nearest_neighbors(lat_lon_tuple[0], lat_lon_tuple[1])"
   ]
  }
 ],
 "metadata": {
  "kernelspec": {
   "display_name": "mlops-env",
   "language": "python",
   "name": "python3"
  },
  "language_info": {
   "codemirror_mode": {
    "name": "ipython",
    "version": 3
   },
   "file_extension": ".py",
   "mimetype": "text/x-python",
   "name": "python",
   "nbconvert_exporter": "python",
   "pygments_lexer": "ipython3",
   "version": "3.10.4"
  }
 },
 "nbformat": 4,
 "nbformat_minor": 2
}
