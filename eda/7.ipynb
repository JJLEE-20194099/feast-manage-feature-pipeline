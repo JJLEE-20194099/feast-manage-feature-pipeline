{
 "cells": [
  {
   "cell_type": "code",
   "execution_count": null,
   "metadata": {},
   "outputs": [],
   "source": [
    "import pandas as pd\n",
    "import numpy as np"
   ]
  },
  {
   "cell_type": "code",
   "execution_count": null,
   "metadata": {},
   "outputs": [],
   "source": [
    "df = pd.read_csv('../data/process_v1/process_data_4.csv')"
   ]
  },
  {
   "cell_type": "code",
   "execution_count": null,
   "metadata": {},
   "outputs": [],
   "source": [
    "del df['unitPrice']"
   ]
  },
  {
   "cell_type": "code",
   "execution_count": null,
   "metadata": {},
   "outputs": [],
   "source": [
    "del df['landType']"
   ]
  },
  {
   "cell_type": "code",
   "execution_count": null,
   "metadata": {},
   "outputs": [],
   "source": [
    "df.head(3)"
   ]
  },
  {
   "cell_type": "code",
   "execution_count": null,
   "metadata": {},
   "outputs": [],
   "source": [
    "df['w'] = df['frontWidth']\n",
    "df['h'] = df['landSize'] / df['w']"
   ]
  },
  {
   "cell_type": "code",
   "execution_count": null,
   "metadata": {},
   "outputs": [],
   "source": [
    "df = df.replace(np.inf, np.nan)"
   ]
  },
  {
   "cell_type": "code",
   "execution_count": null,
   "metadata": {},
   "outputs": [],
   "source": [
    "df.columns.tolist()"
   ]
  },
  {
   "cell_type": "code",
   "execution_count": null,
   "metadata": {},
   "outputs": [],
   "source": [
    "location_df = df[['lat', 'lon']].drop_duplicates()"
   ]
  },
  {
   "cell_type": "code",
   "execution_count": null,
   "metadata": {},
   "outputs": [],
   "source": [
    "facility_500_df = pd.read_csv('../feature_repo/src/feature_engineering/facility/data/table/hcm_hn_distance_500_facility_count.csv')\n",
    "facility_1000_df = pd.read_csv('../feature_repo/src/feature_engineering/facility/data/table/hcm_hn_distance_1000_facility_count.csv')\n",
    "facility_2000_df = pd.read_csv('../feature_repo/src/feature_engineering/facility/data/table/hcm_hn_distance_2000_facility_count.csv')"
   ]
  },
  {
   "cell_type": "code",
   "execution_count": null,
   "metadata": {},
   "outputs": [],
   "source": [
    "def rename_col(dataframe, distance):\n",
    "    cols = [c for c in dataframe.columns if c  not in ['lat', 'lon']]\n",
    "    rename_cols = [f'num_of_{col}_in_{distance}m_radius' for col in cols]\n",
    "\n",
    "    rename_col_dict = dict(zip(cols, rename_cols))\n",
    "    return dataframe.rename(columns = rename_col_dict)\n",
    "\n",
    "facility_500_df = rename_col(facility_500_df, 500)\n",
    "facility_1000_df = rename_col(facility_1000_df, 1000)\n",
    "facility_2000_df = rename_col(facility_2000_df, 2000)\n"
   ]
  },
  {
   "cell_type": "code",
   "execution_count": null,
   "metadata": {},
   "outputs": [],
   "source": [
    "for facility_df in [facility_500_df, facility_1000_df, facility_2000_df]:\n",
    "    df = df.merge(facility_df, how='left', on = ['lat', 'lon'])"
   ]
  },
  {
   "cell_type": "code",
   "execution_count": null,
   "metadata": {},
   "outputs": [],
   "source": [
    "df"
   ]
  },
  {
   "cell_type": "code",
   "execution_count": null,
   "metadata": {},
   "outputs": [],
   "source": [
    "num_cols = []\n",
    "cat_cols = []\n",
    "for c in df.columns.tolist():\n",
    "    if df[c].dtype != 'object':\n",
    "        num_cols.append(c)\n",
    "    else:\n",
    "        cat_cols.append(c)\n"
   ]
  },
  {
   "cell_type": "code",
   "execution_count": null,
   "metadata": {},
   "outputs": [],
   "source": [
    "cat_cols"
   ]
  },
  {
   "cell_type": "code",
   "execution_count": null,
   "metadata": {},
   "outputs": [],
   "source": [
    "num_cols"
   ]
  },
  {
   "cell_type": "code",
   "execution_count": null,
   "metadata": {},
   "outputs": [],
   "source": [
    "df[\n",
    "'typeOfRealEstate'\n",
    "].value_counts()"
   ]
  },
  {
   "cell_type": "code",
   "execution_count": null,
   "metadata": {},
   "outputs": [],
   "source": [
    "certificateOfLandUseRight_list = list(df['certificateOfLandUseRight'].unique())\n",
    "certificateOfLandUseRight_dict = dict(zip(certificateOfLandUseRight_list, range(len(certificateOfLandUseRight_list))))\n",
    "df['certificateOfLandUseRight'] = df['certificateOfLandUseRight'].map(certificateOfLandUseRight_dict)\n",
    "\n",
    "ward_list = list(df['ward'].unique())\n",
    "ward_dict = dict(zip(ward_list, range(len(ward_list))))\n",
    "df['ward'] = df['ward'].map(ward_dict)\n",
    "street_list = list(df['street'].unique())\n",
    "street_dict = dict(zip(street_list, range(len(street_list))))\n",
    "df['street'] = df['street'].map(street_dict)\n",
    "district_list = list(df['district'].unique())\n",
    "district_dict = dict(zip(district_list, range(len(district_list))))\n",
    "df['district'] = df['district'].map(district_dict)\n",
    "city_list = list(df['city'].unique())\n",
    "city_dict = dict(zip(city_list, range(len(city_list))))\n",
    "df['city'] = df['city'].map(city_dict)\n",
    "typeOfRealEstate_list = list(df['typeOfRealEstate'].unique())\n",
    "typeOfRealEstate_dict = dict(zip(typeOfRealEstate_list, range(len(typeOfRealEstate_list))))\n",
    "df['typeOfRealEstate'] = df['typeOfRealEstate'].map(typeOfRealEstate_dict)\n",
    "facade_list = list(df['facade'].unique())\n",
    "facade_dict = dict(zip(facade_list, range(len(facade_list))))\n",
    "df['facade'] = df['facade'].map(facade_dict)\n",
    "houseDirection_list = list(df['houseDirection'].unique())\n",
    "houseDirection_dict = dict(zip(houseDirection_list, range(len(houseDirection_list))))\n",
    "df['houseDirection'] = df['houseDirection'].map(houseDirection_dict)\n",
    "accessibility_list = list(df['accessibility'].unique())\n",
    "accessibility_dict = dict(zip(accessibility_list, range(len(accessibility_list))))\n",
    "df['accessibility'] = df['accessibility'].map(accessibility_dict)"
   ]
  },
  {
   "cell_type": "code",
   "execution_count": null,
   "metadata": {},
   "outputs": [],
   "source": [
    "district_dict"
   ]
  },
  {
   "cell_type": "code",
   "execution_count": null,
   "metadata": {},
   "outputs": [],
   "source": [
    "df1 = pd.read_csv('../feature_repo/src/feature_engineering/population/data/table/hcm_population.csv')\n",
    "df2 = pd.read_csv('../feature_repo/src/feature_engineering/population/data/table/hn_population.csv')\n",
    "\n",
    "population_df = pd.concat([\n",
    "    df1, df2\n",
    "])\n",
    "\n",
    "def convert_district_to_num(district):\n",
    "    if district in ['mê linh',\n",
    "        'ba vì',\n",
    "        'phúc thọ',\n",
    "        'thạch thất',\n",
    "        'mỹ đức',\n",
    "        'sơn tây',\n",
    "        'quốc oai',\n",
    "        'quốc oai']:\n",
    "        district = 'suburb_west'\n",
    "    elif district in ['thanh oai',\n",
    "'ứng hòa',\n",
    "'phú xuyên',\n",
    "'thường tín',\n",
    "'chương mỹ',]:\n",
    "        district = 'suburb_south'\n",
    "    elif district in ['sóc sơn', 'đan phượng']:\n",
    "        district = 'suburb_north'\n",
    "    candidate_str = [district, f\"quận {district}\", f\"huyện {district}\", f\"thị xã {district}\"]\n",
    "\n",
    "    for candidate in candidate_str:\n",
    "        try:\n",
    "            return district_dict[candidate]\n",
    "        except:pass\n",
    "    print(district)\n",
    "population_df['district'] = population_df['name'].apply(convert_district_to_num)\n",
    "population_df"
   ]
  },
  {
   "cell_type": "code",
   "execution_count": null,
   "metadata": {},
   "outputs": [],
   "source": [
    "del population_df['average_price']"
   ]
  },
  {
   "cell_type": "code",
   "execution_count": null,
   "metadata": {},
   "outputs": [],
   "source": [
    "population_df = population_df.dropna(subset = ['district'])"
   ]
  },
  {
   "cell_type": "code",
   "execution_count": null,
   "metadata": {},
   "outputs": [],
   "source": [
    "population_df = population_df.sort_values(by = 'district')\n",
    "population_df"
   ]
  },
  {
   "cell_type": "code",
   "execution_count": null,
   "metadata": {},
   "outputs": [],
   "source": [
    "population_df[['administrative_genre', 'district']]"
   ]
  },
  {
   "cell_type": "code",
   "execution_count": null,
   "metadata": {},
   "outputs": [],
   "source": [
    "ad_df = population_df[['administrative_genre', 'district']].drop_duplicates(subset = ['district'], keep = 'first')\n",
    "ad_df"
   ]
  },
  {
   "cell_type": "code",
   "execution_count": null,
   "metadata": {},
   "outputs": [],
   "source": [
    "population_df = population_df.groupby('district')[['acreage', 'population', 'density', 'lat', 'lon', 'num_of_ward']].mean().reset_index()"
   ]
  },
  {
   "cell_type": "code",
   "execution_count": null,
   "metadata": {},
   "outputs": [],
   "source": [
    "population_df = ad_df.merge(population_df, how='left', on = ['district'])\n",
    "population_df"
   ]
  },
  {
   "cell_type": "code",
   "execution_count": null,
   "metadata": {},
   "outputs": [],
   "source": [
    "ad_list = list(population_df['administrative_genre'].unique())\n",
    "ad_dict = dict(zip(ad_list, range(len(ad_list))))\n",
    "ad_dict"
   ]
  },
  {
   "cell_type": "code",
   "execution_count": null,
   "metadata": {},
   "outputs": [],
   "source": [
    "population_df['administrative_genre'] = population_df['administrative_genre'].map(ad_dict)\n",
    "population_df = population_df.rename(columns = {'lat': 'district_lat', 'lon': 'district_lon'})"
   ]
  },
  {
   "cell_type": "code",
   "execution_count": null,
   "metadata": {},
   "outputs": [],
   "source": [
    "df = df.merge(population_df, how='left', on = 'district')\n",
    "df"
   ]
  },
  {
   "cell_type": "code",
   "execution_count": null,
   "metadata": {},
   "outputs": [],
   "source": [
    "del df['numberOfKitchens']"
   ]
  },
  {
   "cell_type": "code",
   "execution_count": null,
   "metadata": {},
   "outputs": [],
   "source": [
    "del df['numberOfGarages']"
   ]
  },
  {
   "cell_type": "code",
   "execution_count": null,
   "metadata": {},
   "outputs": [],
   "source": [
    "city_dict"
   ]
  },
  {
   "cell_type": "code",
   "execution_count": null,
   "metadata": {},
   "outputs": [],
   "source": [
    "best_df1 = pd.read_csv('../feature_repo/src/feature_engineering/facility/data/table/hcm_famous_place.csv')\n",
    "best_df1['city'] = 'hồ chí minh'\n",
    "\n",
    "best_df2 = pd.read_csv('../feature_repo/src/feature_engineering/facility/data/table/hn_famous_place.csv')\n",
    "best_df2['city'] = 'hà nội'\n",
    "\n",
    "best_df = pd.concat([best_df1, best_df2])\n",
    "best_df"
   ]
  },
  {
   "cell_type": "code",
   "execution_count": null,
   "metadata": {},
   "outputs": [],
   "source": [
    "del best_df['address']\n",
    "best_df['city'] = best_df['city'].map(city_dict)"
   ]
  },
  {
   "cell_type": "code",
   "execution_count": null,
   "metadata": {},
   "outputs": [],
   "source": [
    "import math\n",
    "from tqdm import tqdm\n",
    "def distance_func(lat1: float, lon1: float, lat2: float, lon2: float):\n",
    "\n",
    "    try:\n",
    "        R = 6371\n",
    "        dLat = (lat2-lat1) * math.pi / 180\n",
    "        dLon = (lon2-lon1) * math.pi / 180\n",
    "        lat1 = lat1 * math.pi / 180\n",
    "        lat2 = lat2 * math.pi / 180\n",
    "        a = math.sin(dLat/2) * math.sin(dLat/2) + math.sin(dLon/2) * \\\n",
    "            math.sin(dLon/2) * math.cos(lat1) * math.cos(lat2)\n",
    "        c = 2 * math.atan2(math.sqrt(a), math.sqrt(1-a))\n",
    "        d = R * c\n",
    "        return d*1000\n",
    "    except:\n",
    "        print(f\"Distance_Func error with: {(lat1, lon1, lat2, lon2)}\")\n",
    "\n",
    "def distance(lat1, lon1, lat2, lon2, city1, city2):\n",
    "    if city1 != city2:\n",
    "        return -1\n",
    "    return distance_func(lat1, lon1, lat2, lon2)\n",
    "\n",
    "\n",
    "best_arr = best_df.values\n",
    "for i in tqdm(range(len(best_arr))):\n",
    "    lat, lon = best_arr[i][0], best_arr[i][1]\n",
    "    name = best_arr[i][2]\n",
    "    city = 'hn' if best_arr[i][3] == 0 else 'hcm'\n",
    "\n",
    "    df[f'distance_{city}_{name}'] = df.apply(lambda x: distance(x['lat'], x['lon'], lat, lon, x['city'], best_arr[i][3]), axis = 1)\n"
   ]
  },
  {
   "cell_type": "code",
   "execution_count": null,
   "metadata": {},
   "outputs": [],
   "source": [
    "df['distance_district'] = df.apply(lambda x: distance_func(x['lat'], x['lon'], x['district_lat'], x['district_lon']), axis = 1)"
   ]
  },
  {
   "cell_type": "code",
   "execution_count": null,
   "metadata": {},
   "outputs": [],
   "source": [
    "distance_cols = [c for c in df.columns.tolist() if 'distance' in c]\n",
    "for c in distance_cols:\n",
    "    df[c] = np.log(df[c])\n"
   ]
  },
  {
   "cell_type": "code",
   "execution_count": 209,
   "metadata": {},
   "outputs": [
    {
     "name": "stderr",
     "output_type": "stream",
     "text": [
      "/tmp/ipykernel_852678/343422437.py:1: PerformanceWarning: DataFrame is highly fragmented.  This is usually the result of calling `frame.insert` many times, which has poor performance.  Consider joining all columns at once using pd.concat(axis=1) instead. To get a de-fragmented frame, use `newframe = frame.copy()`\n",
      "  df['target'] = df['price'] * 1000 / df['landSize']\n"
     ]
    }
   ],
   "source": [
    "df['target'] = df['price'] * 1000 / df['landSize']"
   ]
  },
  {
   "cell_type": "code",
   "execution_count": 213,
   "metadata": {},
   "outputs": [],
   "source": [
    "df['population'] = np.log(df['population'])"
   ]
  },
  {
   "cell_type": "code",
   "execution_count": 215,
   "metadata": {},
   "outputs": [],
   "source": [
    "df['density'] = np.log(df['density'])"
   ]
  },
  {
   "cell_type": "code",
   "execution_count": 217,
   "metadata": {},
   "outputs": [],
   "source": [
    "df['acreage'] = np.log(df['acreage'])"
   ]
  },
  {
   "cell_type": "code",
   "execution_count": 220,
   "metadata": {},
   "outputs": [
    {
     "data": {
      "text/html": [
       "<div>\n",
       "<style scoped>\n",
       "    .dataframe tbody tr th:only-of-type {\n",
       "        vertical-align: middle;\n",
       "    }\n",
       "\n",
       "    .dataframe tbody tr th {\n",
       "        vertical-align: top;\n",
       "    }\n",
       "\n",
       "    .dataframe thead th {\n",
       "        text-align: right;\n",
       "    }\n",
       "</style>\n",
       "<table border=\"1\" class=\"dataframe\">\n",
       "  <thead>\n",
       "    <tr style=\"text-align: right;\">\n",
       "      <th></th>\n",
       "      <th>numberOfFloors</th>\n",
       "      <th>numberOfBathRooms</th>\n",
       "      <th>numberOfBedRooms</th>\n",
       "      <th>certificateOfLandUseRight</th>\n",
       "      <th>ward</th>\n",
       "      <th>street</th>\n",
       "      <th>district</th>\n",
       "      <th>city</th>\n",
       "      <th>lat</th>\n",
       "      <th>lon</th>\n",
       "      <th>...</th>\n",
       "      <th>distance_hn_Hàng Khay</th>\n",
       "      <th>distance_hn_Hàng Trống</th>\n",
       "      <th>distance_hn_Hàng Hành</th>\n",
       "      <th>distance_hn_Phố Hai Bà Trưng</th>\n",
       "      <th>distance_hn_Phố Lý Thường Kiệt</th>\n",
       "      <th>distance_hn_Phố Bà Triệu</th>\n",
       "      <th>distance_hn_Hàng Bài</th>\n",
       "      <th>distance_hn_Phố Hai Bà Trưng(Hoàn Kiếm)</th>\n",
       "      <th>distance_district</th>\n",
       "      <th>target</th>\n",
       "    </tr>\n",
       "  </thead>\n",
       "  <tbody>\n",
       "    <tr>\n",
       "      <th>0</th>\n",
       "      <td>1</td>\n",
       "      <td>NaN</td>\n",
       "      <td>NaN</td>\n",
       "      <td>0</td>\n",
       "      <td>0</td>\n",
       "      <td>0</td>\n",
       "      <td>0</td>\n",
       "      <td>0</td>\n",
       "      <td>21.036403</td>\n",
       "      <td>105.727235</td>\n",
       "      <td>...</td>\n",
       "      <td>9.450133</td>\n",
       "      <td>9.416401</td>\n",
       "      <td>9.433240</td>\n",
       "      <td>9.402095</td>\n",
       "      <td>9.411188</td>\n",
       "      <td>9.445093</td>\n",
       "      <td>9.435854</td>\n",
       "      <td>9.433688</td>\n",
       "      <td>9.404118</td>\n",
       "      <td>92.000000</td>\n",
       "    </tr>\n",
       "    <tr>\n",
       "      <th>1</th>\n",
       "      <td>5</td>\n",
       "      <td>5.0</td>\n",
       "      <td>4.0</td>\n",
       "      <td>1</td>\n",
       "      <td>1</td>\n",
       "      <td>1</td>\n",
       "      <td>1</td>\n",
       "      <td>0</td>\n",
       "      <td>20.985272</td>\n",
       "      <td>105.843605</td>\n",
       "      <td>...</td>\n",
       "      <td>8.423630</td>\n",
       "      <td>8.481227</td>\n",
       "      <td>8.543236</td>\n",
       "      <td>8.423707</td>\n",
       "      <td>8.377326</td>\n",
       "      <td>8.051868</td>\n",
       "      <td>8.301442</td>\n",
       "      <td>8.401147</td>\n",
       "      <td>8.012053</td>\n",
       "      <td>102.857143</td>\n",
       "    </tr>\n",
       "    <tr>\n",
       "      <th>2</th>\n",
       "      <td>4</td>\n",
       "      <td>NaN</td>\n",
       "      <td>NaN</td>\n",
       "      <td>1</td>\n",
       "      <td>2</td>\n",
       "      <td>2</td>\n",
       "      <td>2</td>\n",
       "      <td>0</td>\n",
       "      <td>20.978546</td>\n",
       "      <td>105.796775</td>\n",
       "      <td>...</td>\n",
       "      <td>8.931940</td>\n",
       "      <td>8.924143</td>\n",
       "      <td>8.972384</td>\n",
       "      <td>8.879267</td>\n",
       "      <td>8.866793</td>\n",
       "      <td>8.772982</td>\n",
       "      <td>8.861183</td>\n",
       "      <td>8.903859</td>\n",
       "      <td>9.910879</td>\n",
       "      <td>97.500000</td>\n",
       "    </tr>\n",
       "    <tr>\n",
       "      <th>3</th>\n",
       "      <td>7</td>\n",
       "      <td>7.0</td>\n",
       "      <td>7.0</td>\n",
       "      <td>1</td>\n",
       "      <td>3</td>\n",
       "      <td>3</td>\n",
       "      <td>3</td>\n",
       "      <td>0</td>\n",
       "      <td>21.028933</td>\n",
       "      <td>105.855453</td>\n",
       "      <td>...</td>\n",
       "      <td>6.598654</td>\n",
       "      <td>6.956718</td>\n",
       "      <td>6.761142</td>\n",
       "      <td>7.156634</td>\n",
       "      <td>7.141550</td>\n",
       "      <td>7.581442</td>\n",
       "      <td>7.109375</td>\n",
       "      <td>6.869687</td>\n",
       "      <td>7.695956</td>\n",
       "      <td>1375.000000</td>\n",
       "    </tr>\n",
       "    <tr>\n",
       "      <th>4</th>\n",
       "      <td>4</td>\n",
       "      <td>NaN</td>\n",
       "      <td>NaN</td>\n",
       "      <td>1</td>\n",
       "      <td>4</td>\n",
       "      <td>4</td>\n",
       "      <td>4</td>\n",
       "      <td>0</td>\n",
       "      <td>21.046094</td>\n",
       "      <td>105.800236</td>\n",
       "      <td>...</td>\n",
       "      <td>8.622254</td>\n",
       "      <td>8.530771</td>\n",
       "      <td>8.551876</td>\n",
       "      <td>8.516947</td>\n",
       "      <td>8.551225</td>\n",
       "      <td>8.704269</td>\n",
       "      <td>8.624514</td>\n",
       "      <td>8.592451</td>\n",
       "      <td>8.628126</td>\n",
       "      <td>534.000000</td>\n",
       "    </tr>\n",
       "    <tr>\n",
       "      <th>...</th>\n",
       "      <td>...</td>\n",
       "      <td>...</td>\n",
       "      <td>...</td>\n",
       "      <td>...</td>\n",
       "      <td>...</td>\n",
       "      <td>...</td>\n",
       "      <td>...</td>\n",
       "      <td>...</td>\n",
       "      <td>...</td>\n",
       "      <td>...</td>\n",
       "      <td>...</td>\n",
       "      <td>...</td>\n",
       "      <td>...</td>\n",
       "      <td>...</td>\n",
       "      <td>...</td>\n",
       "      <td>...</td>\n",
       "      <td>...</td>\n",
       "      <td>...</td>\n",
       "      <td>...</td>\n",
       "      <td>...</td>\n",
       "      <td>...</td>\n",
       "    </tr>\n",
       "    <tr>\n",
       "      <th>170959</th>\n",
       "      <td>1</td>\n",
       "      <td>2.0</td>\n",
       "      <td>2.0</td>\n",
       "      <td>0</td>\n",
       "      <td>119</td>\n",
       "      <td>600</td>\n",
       "      <td>9</td>\n",
       "      <td>0</td>\n",
       "      <td>21.001092</td>\n",
       "      <td>105.869070</td>\n",
       "      <td>...</td>\n",
       "      <td>8.144654</td>\n",
       "      <td>8.276105</td>\n",
       "      <td>8.302429</td>\n",
       "      <td>8.257995</td>\n",
       "      <td>8.201712</td>\n",
       "      <td>7.903704</td>\n",
       "      <td>8.078461</td>\n",
       "      <td>8.165627</td>\n",
       "      <td>7.980783</td>\n",
       "      <td>38.571429</td>\n",
       "    </tr>\n",
       "    <tr>\n",
       "      <th>170960</th>\n",
       "      <td>6</td>\n",
       "      <td>10.0</td>\n",
       "      <td>10.0</td>\n",
       "      <td>0</td>\n",
       "      <td>231</td>\n",
       "      <td>358</td>\n",
       "      <td>11</td>\n",
       "      <td>0</td>\n",
       "      <td>20.999584</td>\n",
       "      <td>105.817799</td>\n",
       "      <td>...</td>\n",
       "      <td>8.384273</td>\n",
       "      <td>8.369235</td>\n",
       "      <td>8.451888</td>\n",
       "      <td>8.289643</td>\n",
       "      <td>8.267210</td>\n",
       "      <td>8.118311</td>\n",
       "      <td>8.261364</td>\n",
       "      <td>8.334477</td>\n",
       "      <td>7.724700</td>\n",
       "      <td>155.333333</td>\n",
       "    </tr>\n",
       "    <tr>\n",
       "      <th>170961</th>\n",
       "      <td>8</td>\n",
       "      <td>22.0</td>\n",
       "      <td>22.0</td>\n",
       "      <td>1</td>\n",
       "      <td>164</td>\n",
       "      <td>574</td>\n",
       "      <td>10</td>\n",
       "      <td>0</td>\n",
       "      <td>21.029128</td>\n",
       "      <td>105.886118</td>\n",
       "      <td>...</td>\n",
       "      <td>8.256108</td>\n",
       "      <td>8.350590</td>\n",
       "      <td>8.297314</td>\n",
       "      <td>8.398680</td>\n",
       "      <td>8.382899</td>\n",
       "      <td>8.404012</td>\n",
       "      <td>8.333913</td>\n",
       "      <td>8.312352</td>\n",
       "      <td>9.010103</td>\n",
       "      <td>304.878049</td>\n",
       "    </tr>\n",
       "    <tr>\n",
       "      <th>170962</th>\n",
       "      <td>5</td>\n",
       "      <td>NaN</td>\n",
       "      <td>NaN</td>\n",
       "      <td>1</td>\n",
       "      <td>35</td>\n",
       "      <td>125</td>\n",
       "      <td>15</td>\n",
       "      <td>0</td>\n",
       "      <td>21.017355</td>\n",
       "      <td>105.775199</td>\n",
       "      <td>...</td>\n",
       "      <td>8.953748</td>\n",
       "      <td>8.907498</td>\n",
       "      <td>8.944352</td>\n",
       "      <td>8.875072</td>\n",
       "      <td>8.883976</td>\n",
       "      <td>8.911851</td>\n",
       "      <td>8.916458</td>\n",
       "      <td>8.924393</td>\n",
       "      <td>8.647240</td>\n",
       "      <td>157.971014</td>\n",
       "    </tr>\n",
       "    <tr>\n",
       "      <th>170963</th>\n",
       "      <td>1</td>\n",
       "      <td>NaN</td>\n",
       "      <td>2.0</td>\n",
       "      <td>0</td>\n",
       "      <td>93</td>\n",
       "      <td>565</td>\n",
       "      <td>1</td>\n",
       "      <td>0</td>\n",
       "      <td>20.979196</td>\n",
       "      <td>105.812044</td>\n",
       "      <td>...</td>\n",
       "      <td>8.774391</td>\n",
       "      <td>8.778346</td>\n",
       "      <td>8.833915</td>\n",
       "      <td>8.726129</td>\n",
       "      <td>8.705611</td>\n",
       "      <td>8.560722</td>\n",
       "      <td>8.686596</td>\n",
       "      <td>8.744411</td>\n",
       "      <td>6.522144</td>\n",
       "      <td>22.428571</td>\n",
       "    </tr>\n",
       "  </tbody>\n",
       "</table>\n",
       "<p>170964 rows × 179 columns</p>\n",
       "</div>"
      ],
      "text/plain": [
       "        numberOfFloors  numberOfBathRooms  numberOfBedRooms  \\\n",
       "0                    1                NaN               NaN   \n",
       "1                    5                5.0               4.0   \n",
       "2                    4                NaN               NaN   \n",
       "3                    7                7.0               7.0   \n",
       "4                    4                NaN               NaN   \n",
       "...                ...                ...               ...   \n",
       "170959               1                2.0               2.0   \n",
       "170960               6               10.0              10.0   \n",
       "170961               8               22.0              22.0   \n",
       "170962               5                NaN               NaN   \n",
       "170963               1                NaN               2.0   \n",
       "\n",
       "        certificateOfLandUseRight  ward  street  district  city        lat  \\\n",
       "0                               0     0       0         0     0  21.036403   \n",
       "1                               1     1       1         1     0  20.985272   \n",
       "2                               1     2       2         2     0  20.978546   \n",
       "3                               1     3       3         3     0  21.028933   \n",
       "4                               1     4       4         4     0  21.046094   \n",
       "...                           ...   ...     ...       ...   ...        ...   \n",
       "170959                          0   119     600         9     0  21.001092   \n",
       "170960                          0   231     358        11     0  20.999584   \n",
       "170961                          1   164     574        10     0  21.029128   \n",
       "170962                          1    35     125        15     0  21.017355   \n",
       "170963                          0    93     565         1     0  20.979196   \n",
       "\n",
       "               lon  ...  distance_hn_Hàng Khay  distance_hn_Hàng Trống  \\\n",
       "0       105.727235  ...               9.450133                9.416401   \n",
       "1       105.843605  ...               8.423630                8.481227   \n",
       "2       105.796775  ...               8.931940                8.924143   \n",
       "3       105.855453  ...               6.598654                6.956718   \n",
       "4       105.800236  ...               8.622254                8.530771   \n",
       "...            ...  ...                    ...                     ...   \n",
       "170959  105.869070  ...               8.144654                8.276105   \n",
       "170960  105.817799  ...               8.384273                8.369235   \n",
       "170961  105.886118  ...               8.256108                8.350590   \n",
       "170962  105.775199  ...               8.953748                8.907498   \n",
       "170963  105.812044  ...               8.774391                8.778346   \n",
       "\n",
       "        distance_hn_Hàng Hành  distance_hn_Phố Hai Bà Trưng  \\\n",
       "0                    9.433240                      9.402095   \n",
       "1                    8.543236                      8.423707   \n",
       "2                    8.972384                      8.879267   \n",
       "3                    6.761142                      7.156634   \n",
       "4                    8.551876                      8.516947   \n",
       "...                       ...                           ...   \n",
       "170959               8.302429                      8.257995   \n",
       "170960               8.451888                      8.289643   \n",
       "170961               8.297314                      8.398680   \n",
       "170962               8.944352                      8.875072   \n",
       "170963               8.833915                      8.726129   \n",
       "\n",
       "        distance_hn_Phố Lý Thường Kiệt  distance_hn_Phố Bà Triệu  \\\n",
       "0                             9.411188                  9.445093   \n",
       "1                             8.377326                  8.051868   \n",
       "2                             8.866793                  8.772982   \n",
       "3                             7.141550                  7.581442   \n",
       "4                             8.551225                  8.704269   \n",
       "...                                ...                       ...   \n",
       "170959                        8.201712                  7.903704   \n",
       "170960                        8.267210                  8.118311   \n",
       "170961                        8.382899                  8.404012   \n",
       "170962                        8.883976                  8.911851   \n",
       "170963                        8.705611                  8.560722   \n",
       "\n",
       "        distance_hn_Hàng Bài  distance_hn_Phố Hai Bà Trưng(Hoàn Kiếm)  \\\n",
       "0                   9.435854                                 9.433688   \n",
       "1                   8.301442                                 8.401147   \n",
       "2                   8.861183                                 8.903859   \n",
       "3                   7.109375                                 6.869687   \n",
       "4                   8.624514                                 8.592451   \n",
       "...                      ...                                      ...   \n",
       "170959              8.078461                                 8.165627   \n",
       "170960              8.261364                                 8.334477   \n",
       "170961              8.333913                                 8.312352   \n",
       "170962              8.916458                                 8.924393   \n",
       "170963              8.686596                                 8.744411   \n",
       "\n",
       "       distance_district       target  \n",
       "0               9.404118    92.000000  \n",
       "1               8.012053   102.857143  \n",
       "2               9.910879    97.500000  \n",
       "3               7.695956  1375.000000  \n",
       "4               8.628126   534.000000  \n",
       "...                  ...          ...  \n",
       "170959          7.980783    38.571429  \n",
       "170960          7.724700   155.333333  \n",
       "170961          9.010103   304.878049  \n",
       "170962          8.647240   157.971014  \n",
       "170963          6.522144    22.428571  \n",
       "\n",
       "[170964 rows x 179 columns]"
      ]
     },
     "execution_count": 220,
     "metadata": {},
     "output_type": "execute_result"
    }
   ],
   "source": [
    "df"
   ]
  },
  {
   "cell_type": "code",
   "execution_count": 221,
   "metadata": {},
   "outputs": [],
   "source": [
    "df.to_csv('../data/process_v1/process_data_5.csv', index = False)"
   ]
  }
 ],
 "metadata": {
  "kernelspec": {
   "display_name": "mlops-env",
   "language": "python",
   "name": "python3"
  },
  "language_info": {
   "codemirror_mode": {
    "name": "ipython",
    "version": 3
   },
   "file_extension": ".py",
   "mimetype": "text/x-python",
   "name": "python",
   "nbconvert_exporter": "python",
   "pygments_lexer": "ipython3",
   "version": "3.10.4"
  }
 },
 "nbformat": 4,
 "nbformat_minor": 2
}
