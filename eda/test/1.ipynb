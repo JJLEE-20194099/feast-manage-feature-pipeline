{
 "cells": [
  {
   "cell_type": "code",
   "execution_count": 73,
   "metadata": {},
   "outputs": [],
   "source": [
    "\n",
    "\n",
    "import pandas as pd\n",
    "from sklearn.model_selection import GridSearchCV\n",
    "from joblib import load\n",
    "import numpy as np\n",
    "from sklearn.neural_network import MLPRegressor\n",
    "from catboost import CatBoostRegressor\n",
    "from xgboost import XGBRegressor\n",
    "import random\n",
    "import json"
   ]
  },
  {
   "cell_type": "code",
   "execution_count": 74,
   "metadata": {},
   "outputs": [],
   "source": [
    "city = 'hcm'\n",
    "model_name = 'xgb'\n",
    "version = 0\n",
    "# model = load(f'/home/long/airflow/dags/models/{city}/{model_name}/v{version}/model.joblib')"
   ]
  },
  {
   "cell_type": "code",
   "execution_count": 75,
   "metadata": {},
   "outputs": [
    {
     "data": {
      "text/html": [
       "<div>\n",
       "<style scoped>\n",
       "    .dataframe tbody tr th:only-of-type {\n",
       "        vertical-align: middle;\n",
       "    }\n",
       "\n",
       "    .dataframe tbody tr th {\n",
       "        vertical-align: top;\n",
       "    }\n",
       "\n",
       "    .dataframe thead th {\n",
       "        text-align: right;\n",
       "    }\n",
       "</style>\n",
       "<table border=\"1\" class=\"dataframe\">\n",
       "  <thead>\n",
       "    <tr style=\"text-align: right;\">\n",
       "      <th></th>\n",
       "      <th>target</th>\n",
       "      <th>event_timestamp</th>\n",
       "      <th>realestate_id</th>\n",
       "      <th>typeOfRealEstate</th>\n",
       "      <th>accessibility</th>\n",
       "      <th>ward</th>\n",
       "      <th>certificateOfLandUseRight</th>\n",
       "      <th>houseDirection</th>\n",
       "      <th>street</th>\n",
       "      <th>district</th>\n",
       "      <th>facade</th>\n",
       "      <th>lon</th>\n",
       "      <th>frontWidth</th>\n",
       "      <th>lat</th>\n",
       "      <th>w</th>\n",
       "      <th>numberOfBathRooms</th>\n",
       "      <th>landSize</th>\n",
       "      <th>numberOfBedRooms</th>\n",
       "    </tr>\n",
       "  </thead>\n",
       "  <tbody>\n",
       "    <tr>\n",
       "      <th>0</th>\n",
       "      <td>0.000000</td>\n",
       "      <td>2023-08-23 00:00:00+00:00</td>\n",
       "      <td>0</td>\n",
       "      <td>6</td>\n",
       "      <td>0</td>\n",
       "      <td>219</td>\n",
       "      <td>5000</td>\n",
       "      <td>5000</td>\n",
       "      <td>1089</td>\n",
       "      <td>15</td>\n",
       "      <td>0</td>\n",
       "      <td>106.819703</td>\n",
       "      <td>0.0</td>\n",
       "      <td>10.826577</td>\n",
       "      <td>0.0</td>\n",
       "      <td>4.477301</td>\n",
       "      <td>25.0</td>\n",
       "      <td>4.694865</td>\n",
       "    </tr>\n",
       "    <tr>\n",
       "      <th>1</th>\n",
       "      <td>46.875000</td>\n",
       "      <td>2023-09-04 00:00:00+00:00</td>\n",
       "      <td>1</td>\n",
       "      <td>1</td>\n",
       "      <td>0</td>\n",
       "      <td>266</td>\n",
       "      <td>5000</td>\n",
       "      <td>5000</td>\n",
       "      <td>3657</td>\n",
       "      <td>35</td>\n",
       "      <td>0</td>\n",
       "      <td>106.577329</td>\n",
       "      <td>0.0</td>\n",
       "      <td>10.883938</td>\n",
       "      <td>0.0</td>\n",
       "      <td>4.477301</td>\n",
       "      <td>96.0</td>\n",
       "      <td>4.694865</td>\n",
       "    </tr>\n",
       "    <tr>\n",
       "      <th>2</th>\n",
       "      <td>41.071429</td>\n",
       "      <td>2023-10-04 00:00:00+00:00</td>\n",
       "      <td>2</td>\n",
       "      <td>0</td>\n",
       "      <td>0</td>\n",
       "      <td>334</td>\n",
       "      <td>5000</td>\n",
       "      <td>5000</td>\n",
       "      <td>590</td>\n",
       "      <td>0</td>\n",
       "      <td>0</td>\n",
       "      <td>106.753847</td>\n",
       "      <td>0.0</td>\n",
       "      <td>10.861560</td>\n",
       "      <td>0.0</td>\n",
       "      <td>1.000000</td>\n",
       "      <td>56.0</td>\n",
       "      <td>2.000000</td>\n",
       "    </tr>\n",
       "    <tr>\n",
       "      <th>3</th>\n",
       "      <td>0.000000</td>\n",
       "      <td>2023-10-04 00:00:00+00:00</td>\n",
       "      <td>3</td>\n",
       "      <td>6</td>\n",
       "      <td>0</td>\n",
       "      <td>60</td>\n",
       "      <td>5000</td>\n",
       "      <td>5000</td>\n",
       "      <td>1305</td>\n",
       "      <td>10</td>\n",
       "      <td>0</td>\n",
       "      <td>106.639256</td>\n",
       "      <td>70.0</td>\n",
       "      <td>10.793069</td>\n",
       "      <td>70.0</td>\n",
       "      <td>4.477301</td>\n",
       "      <td>8000.0</td>\n",
       "      <td>4.694865</td>\n",
       "    </tr>\n",
       "    <tr>\n",
       "      <th>4</th>\n",
       "      <td>133.333333</td>\n",
       "      <td>2023-10-13 00:00:00+00:00</td>\n",
       "      <td>4</td>\n",
       "      <td>2</td>\n",
       "      <td>0</td>\n",
       "      <td>251</td>\n",
       "      <td>5000</td>\n",
       "      <td>5000</td>\n",
       "      <td>630</td>\n",
       "      <td>18</td>\n",
       "      <td>2</td>\n",
       "      <td>106.761276</td>\n",
       "      <td>0.0</td>\n",
       "      <td>10.777639</td>\n",
       "      <td>0.0</td>\n",
       "      <td>4.477301</td>\n",
       "      <td>300.0</td>\n",
       "      <td>4.694865</td>\n",
       "    </tr>\n",
       "    <tr>\n",
       "      <th>...</th>\n",
       "      <td>...</td>\n",
       "      <td>...</td>\n",
       "      <td>...</td>\n",
       "      <td>...</td>\n",
       "      <td>...</td>\n",
       "      <td>...</td>\n",
       "      <td>...</td>\n",
       "      <td>...</td>\n",
       "      <td>...</td>\n",
       "      <td>...</td>\n",
       "      <td>...</td>\n",
       "      <td>...</td>\n",
       "      <td>...</td>\n",
       "      <td>...</td>\n",
       "      <td>...</td>\n",
       "      <td>...</td>\n",
       "      <td>...</td>\n",
       "      <td>...</td>\n",
       "    </tr>\n",
       "    <tr>\n",
       "      <th>2096</th>\n",
       "      <td>173.913043</td>\n",
       "      <td>2024-07-07 22:13:03+00:00</td>\n",
       "      <td>2096</td>\n",
       "      <td>1</td>\n",
       "      <td>0</td>\n",
       "      <td>130</td>\n",
       "      <td>5000</td>\n",
       "      <td>5000</td>\n",
       "      <td>162</td>\n",
       "      <td>20</td>\n",
       "      <td>0</td>\n",
       "      <td>106.693437</td>\n",
       "      <td>0.0</td>\n",
       "      <td>10.809214</td>\n",
       "      <td>0.0</td>\n",
       "      <td>4.000000</td>\n",
       "      <td>46.0</td>\n",
       "      <td>5.000000</td>\n",
       "    </tr>\n",
       "    <tr>\n",
       "      <th>2097</th>\n",
       "      <td>98.529412</td>\n",
       "      <td>2024-07-07 22:13:29+00:00</td>\n",
       "      <td>2097</td>\n",
       "      <td>1</td>\n",
       "      <td>0</td>\n",
       "      <td>175</td>\n",
       "      <td>5000</td>\n",
       "      <td>5000</td>\n",
       "      <td>511</td>\n",
       "      <td>0</td>\n",
       "      <td>0</td>\n",
       "      <td>106.761686</td>\n",
       "      <td>0.0</td>\n",
       "      <td>10.844976</td>\n",
       "      <td>0.0</td>\n",
       "      <td>3.000000</td>\n",
       "      <td>68.0</td>\n",
       "      <td>3.000000</td>\n",
       "    </tr>\n",
       "    <tr>\n",
       "      <th>2098</th>\n",
       "      <td>191.428571</td>\n",
       "      <td>2024-07-07 22:15:29+00:00</td>\n",
       "      <td>2098</td>\n",
       "      <td>1</td>\n",
       "      <td>0</td>\n",
       "      <td>137</td>\n",
       "      <td>5000</td>\n",
       "      <td>5000</td>\n",
       "      <td>2494</td>\n",
       "      <td>10</td>\n",
       "      <td>0</td>\n",
       "      <td>106.652596</td>\n",
       "      <td>0.0</td>\n",
       "      <td>10.791150</td>\n",
       "      <td>0.0</td>\n",
       "      <td>5.000000</td>\n",
       "      <td>35.0</td>\n",
       "      <td>4.000000</td>\n",
       "    </tr>\n",
       "    <tr>\n",
       "      <th>2099</th>\n",
       "      <td>44.333333</td>\n",
       "      <td>2024-07-07 22:21:27+00:00</td>\n",
       "      <td>2099</td>\n",
       "      <td>1</td>\n",
       "      <td>0</td>\n",
       "      <td>243</td>\n",
       "      <td>5000</td>\n",
       "      <td>5000</td>\n",
       "      <td>5000</td>\n",
       "      <td>0</td>\n",
       "      <td>0</td>\n",
       "      <td>106.724553</td>\n",
       "      <td>0.0</td>\n",
       "      <td>10.871886</td>\n",
       "      <td>0.0</td>\n",
       "      <td>4.477301</td>\n",
       "      <td>150.0</td>\n",
       "      <td>3.000000</td>\n",
       "    </tr>\n",
       "    <tr>\n",
       "      <th>2100</th>\n",
       "      <td>54.000000</td>\n",
       "      <td>2024-07-07 22:23:33+00:00</td>\n",
       "      <td>2100</td>\n",
       "      <td>2</td>\n",
       "      <td>0</td>\n",
       "      <td>391</td>\n",
       "      <td>5000</td>\n",
       "      <td>5000</td>\n",
       "      <td>1202</td>\n",
       "      <td>42</td>\n",
       "      <td>0</td>\n",
       "      <td>106.749881</td>\n",
       "      <td>0.0</td>\n",
       "      <td>10.684462</td>\n",
       "      <td>0.0</td>\n",
       "      <td>4.477301</td>\n",
       "      <td>100.0</td>\n",
       "      <td>4.694865</td>\n",
       "    </tr>\n",
       "  </tbody>\n",
       "</table>\n",
       "<p>2101 rows × 18 columns</p>\n",
       "</div>"
      ],
      "text/plain": [
       "          target           event_timestamp  realestate_id  typeOfRealEstate  \\\n",
       "0       0.000000 2023-08-23 00:00:00+00:00              0                 6   \n",
       "1      46.875000 2023-09-04 00:00:00+00:00              1                 1   \n",
       "2      41.071429 2023-10-04 00:00:00+00:00              2                 0   \n",
       "3       0.000000 2023-10-04 00:00:00+00:00              3                 6   \n",
       "4     133.333333 2023-10-13 00:00:00+00:00              4                 2   \n",
       "...          ...                       ...            ...               ...   \n",
       "2096  173.913043 2024-07-07 22:13:03+00:00           2096                 1   \n",
       "2097   98.529412 2024-07-07 22:13:29+00:00           2097                 1   \n",
       "2098  191.428571 2024-07-07 22:15:29+00:00           2098                 1   \n",
       "2099   44.333333 2024-07-07 22:21:27+00:00           2099                 1   \n",
       "2100   54.000000 2024-07-07 22:23:33+00:00           2100                 2   \n",
       "\n",
       "      accessibility  ward  certificateOfLandUseRight  houseDirection  street  \\\n",
       "0                 0   219                       5000            5000    1089   \n",
       "1                 0   266                       5000            5000    3657   \n",
       "2                 0   334                       5000            5000     590   \n",
       "3                 0    60                       5000            5000    1305   \n",
       "4                 0   251                       5000            5000     630   \n",
       "...             ...   ...                        ...             ...     ...   \n",
       "2096              0   130                       5000            5000     162   \n",
       "2097              0   175                       5000            5000     511   \n",
       "2098              0   137                       5000            5000    2494   \n",
       "2099              0   243                       5000            5000    5000   \n",
       "2100              0   391                       5000            5000    1202   \n",
       "\n",
       "      district  facade         lon  frontWidth        lat     w  \\\n",
       "0           15       0  106.819703         0.0  10.826577   0.0   \n",
       "1           35       0  106.577329         0.0  10.883938   0.0   \n",
       "2            0       0  106.753847         0.0  10.861560   0.0   \n",
       "3           10       0  106.639256        70.0  10.793069  70.0   \n",
       "4           18       2  106.761276         0.0  10.777639   0.0   \n",
       "...        ...     ...         ...         ...        ...   ...   \n",
       "2096        20       0  106.693437         0.0  10.809214   0.0   \n",
       "2097         0       0  106.761686         0.0  10.844976   0.0   \n",
       "2098        10       0  106.652596         0.0  10.791150   0.0   \n",
       "2099         0       0  106.724553         0.0  10.871886   0.0   \n",
       "2100        42       0  106.749881         0.0  10.684462   0.0   \n",
       "\n",
       "      numberOfBathRooms  landSize  numberOfBedRooms  \n",
       "0              4.477301      25.0          4.694865  \n",
       "1              4.477301      96.0          4.694865  \n",
       "2              1.000000      56.0          2.000000  \n",
       "3              4.477301    8000.0          4.694865  \n",
       "4              4.477301     300.0          4.694865  \n",
       "...                 ...       ...               ...  \n",
       "2096           4.000000      46.0          5.000000  \n",
       "2097           3.000000      68.0          3.000000  \n",
       "2098           5.000000      35.0          4.000000  \n",
       "2099           4.477301     150.0          3.000000  \n",
       "2100           4.477301     100.0          4.694865  \n",
       "\n",
       "[2101 rows x 18 columns]"
      ]
     },
     "execution_count": 75,
     "metadata": {},
     "output_type": "execute_result"
    }
   ],
   "source": [
    "df = pd.read_parquet(f'/home/long/long/datn-feast/data/update_data/demo1/realestate_dataset_{city}_v{version}.parquet')\n",
    "df"
   ]
  },
  {
   "cell_type": "code",
   "execution_count": 76,
   "metadata": {},
   "outputs": [],
   "source": [
    "data = json.load(open('/home/long/airflow/dags/schema/expectations/address.json', 'r'))"
   ]
  },
  {
   "cell_type": "code",
   "execution_count": 77,
   "metadata": {},
   "outputs": [],
   "source": [
    "featureset = json.load(open(f'/home/long/long/datn-feast/data/featureset/{city}_v{version}.json'))"
   ]
  },
  {
   "cell_type": "code",
   "execution_count": 78,
   "metadata": {},
   "outputs": [],
   "source": [
    "order_config = {\n",
    "    'abr': \"num-cat\",\n",
    "    'gbr': \"num-cat\",\n",
    "    'etr': 'cat-num',\n",
    "    'cat': 'cat-num',\n",
    "    'knr': 'num-cat',\n",
    "    'linear': 'num-cat',\n",
    "    'ridge': 'num-cat',\n",
    "    'mlp': 'num-cat',\n",
    "    'rf': 'cat-num',\n",
    "    'xgb': 'cat-num',\n",
    "    'lgbm': 'cat-num',\n",
    "    'la': 'num-cat'\n",
    "}\n",
    "order = order_config[model_name]"
   ]
  },
  {
   "cell_type": "code",
   "execution_count": 79,
   "metadata": {},
   "outputs": [],
   "source": [
    "cat_cols = featureset['cat_cols']\n",
    "num_cols = featureset['num_cols']"
   ]
  },
  {
   "cell_type": "code",
   "execution_count": 80,
   "metadata": {},
   "outputs": [],
   "source": [
    "if order == \"num-cat\":\n",
    "    all_cols = num_cols + cat_cols\n",
    "else:\n",
    "    all_cols =  cat_cols + num_cols"
   ]
  },
  {
   "cell_type": "code",
   "execution_count": 81,
   "metadata": {},
   "outputs": [],
   "source": [
    "X = df[all_cols]\n",
    "y = df['target']"
   ]
  },
  {
   "cell_type": "code",
   "execution_count": 82,
   "metadata": {},
   "outputs": [
    {
     "data": {
      "text/html": [
       "<div>\n",
       "<style scoped>\n",
       "    .dataframe tbody tr th:only-of-type {\n",
       "        vertical-align: middle;\n",
       "    }\n",
       "\n",
       "    .dataframe tbody tr th {\n",
       "        vertical-align: top;\n",
       "    }\n",
       "\n",
       "    .dataframe thead th {\n",
       "        text-align: right;\n",
       "    }\n",
       "</style>\n",
       "<table border=\"1\" class=\"dataframe\">\n",
       "  <thead>\n",
       "    <tr style=\"text-align: right;\">\n",
       "      <th></th>\n",
       "      <th>typeOfRealEstate</th>\n",
       "      <th>accessibility</th>\n",
       "      <th>ward</th>\n",
       "      <th>certificateOfLandUseRight</th>\n",
       "      <th>houseDirection</th>\n",
       "      <th>street</th>\n",
       "      <th>district</th>\n",
       "      <th>facade</th>\n",
       "      <th>lon</th>\n",
       "      <th>frontWidth</th>\n",
       "      <th>lat</th>\n",
       "      <th>w</th>\n",
       "      <th>numberOfBathRooms</th>\n",
       "      <th>landSize</th>\n",
       "      <th>numberOfBedRooms</th>\n",
       "    </tr>\n",
       "  </thead>\n",
       "  <tbody>\n",
       "    <tr>\n",
       "      <th>0</th>\n",
       "      <td>6</td>\n",
       "      <td>0</td>\n",
       "      <td>219</td>\n",
       "      <td>5000</td>\n",
       "      <td>5000</td>\n",
       "      <td>1089</td>\n",
       "      <td>15</td>\n",
       "      <td>0</td>\n",
       "      <td>106.819703</td>\n",
       "      <td>0.0</td>\n",
       "      <td>10.826577</td>\n",
       "      <td>0.0</td>\n",
       "      <td>4.477301</td>\n",
       "      <td>25.0</td>\n",
       "      <td>4.694865</td>\n",
       "    </tr>\n",
       "    <tr>\n",
       "      <th>1</th>\n",
       "      <td>1</td>\n",
       "      <td>0</td>\n",
       "      <td>266</td>\n",
       "      <td>5000</td>\n",
       "      <td>5000</td>\n",
       "      <td>3657</td>\n",
       "      <td>35</td>\n",
       "      <td>0</td>\n",
       "      <td>106.577329</td>\n",
       "      <td>0.0</td>\n",
       "      <td>10.883938</td>\n",
       "      <td>0.0</td>\n",
       "      <td>4.477301</td>\n",
       "      <td>96.0</td>\n",
       "      <td>4.694865</td>\n",
       "    </tr>\n",
       "    <tr>\n",
       "      <th>2</th>\n",
       "      <td>0</td>\n",
       "      <td>0</td>\n",
       "      <td>334</td>\n",
       "      <td>5000</td>\n",
       "      <td>5000</td>\n",
       "      <td>590</td>\n",
       "      <td>0</td>\n",
       "      <td>0</td>\n",
       "      <td>106.753847</td>\n",
       "      <td>0.0</td>\n",
       "      <td>10.861560</td>\n",
       "      <td>0.0</td>\n",
       "      <td>1.000000</td>\n",
       "      <td>56.0</td>\n",
       "      <td>2.000000</td>\n",
       "    </tr>\n",
       "    <tr>\n",
       "      <th>3</th>\n",
       "      <td>6</td>\n",
       "      <td>0</td>\n",
       "      <td>60</td>\n",
       "      <td>5000</td>\n",
       "      <td>5000</td>\n",
       "      <td>1305</td>\n",
       "      <td>10</td>\n",
       "      <td>0</td>\n",
       "      <td>106.639256</td>\n",
       "      <td>70.0</td>\n",
       "      <td>10.793069</td>\n",
       "      <td>70.0</td>\n",
       "      <td>4.477301</td>\n",
       "      <td>8000.0</td>\n",
       "      <td>4.694865</td>\n",
       "    </tr>\n",
       "    <tr>\n",
       "      <th>4</th>\n",
       "      <td>2</td>\n",
       "      <td>0</td>\n",
       "      <td>251</td>\n",
       "      <td>5000</td>\n",
       "      <td>5000</td>\n",
       "      <td>630</td>\n",
       "      <td>18</td>\n",
       "      <td>2</td>\n",
       "      <td>106.761276</td>\n",
       "      <td>0.0</td>\n",
       "      <td>10.777639</td>\n",
       "      <td>0.0</td>\n",
       "      <td>4.477301</td>\n",
       "      <td>300.0</td>\n",
       "      <td>4.694865</td>\n",
       "    </tr>\n",
       "    <tr>\n",
       "      <th>...</th>\n",
       "      <td>...</td>\n",
       "      <td>...</td>\n",
       "      <td>...</td>\n",
       "      <td>...</td>\n",
       "      <td>...</td>\n",
       "      <td>...</td>\n",
       "      <td>...</td>\n",
       "      <td>...</td>\n",
       "      <td>...</td>\n",
       "      <td>...</td>\n",
       "      <td>...</td>\n",
       "      <td>...</td>\n",
       "      <td>...</td>\n",
       "      <td>...</td>\n",
       "      <td>...</td>\n",
       "    </tr>\n",
       "    <tr>\n",
       "      <th>2096</th>\n",
       "      <td>1</td>\n",
       "      <td>0</td>\n",
       "      <td>130</td>\n",
       "      <td>5000</td>\n",
       "      <td>5000</td>\n",
       "      <td>162</td>\n",
       "      <td>20</td>\n",
       "      <td>0</td>\n",
       "      <td>106.693437</td>\n",
       "      <td>0.0</td>\n",
       "      <td>10.809214</td>\n",
       "      <td>0.0</td>\n",
       "      <td>4.000000</td>\n",
       "      <td>46.0</td>\n",
       "      <td>5.000000</td>\n",
       "    </tr>\n",
       "    <tr>\n",
       "      <th>2097</th>\n",
       "      <td>1</td>\n",
       "      <td>0</td>\n",
       "      <td>175</td>\n",
       "      <td>5000</td>\n",
       "      <td>5000</td>\n",
       "      <td>511</td>\n",
       "      <td>0</td>\n",
       "      <td>0</td>\n",
       "      <td>106.761686</td>\n",
       "      <td>0.0</td>\n",
       "      <td>10.844976</td>\n",
       "      <td>0.0</td>\n",
       "      <td>3.000000</td>\n",
       "      <td>68.0</td>\n",
       "      <td>3.000000</td>\n",
       "    </tr>\n",
       "    <tr>\n",
       "      <th>2098</th>\n",
       "      <td>1</td>\n",
       "      <td>0</td>\n",
       "      <td>137</td>\n",
       "      <td>5000</td>\n",
       "      <td>5000</td>\n",
       "      <td>2494</td>\n",
       "      <td>10</td>\n",
       "      <td>0</td>\n",
       "      <td>106.652596</td>\n",
       "      <td>0.0</td>\n",
       "      <td>10.791150</td>\n",
       "      <td>0.0</td>\n",
       "      <td>5.000000</td>\n",
       "      <td>35.0</td>\n",
       "      <td>4.000000</td>\n",
       "    </tr>\n",
       "    <tr>\n",
       "      <th>2099</th>\n",
       "      <td>1</td>\n",
       "      <td>0</td>\n",
       "      <td>243</td>\n",
       "      <td>5000</td>\n",
       "      <td>5000</td>\n",
       "      <td>5000</td>\n",
       "      <td>0</td>\n",
       "      <td>0</td>\n",
       "      <td>106.724553</td>\n",
       "      <td>0.0</td>\n",
       "      <td>10.871886</td>\n",
       "      <td>0.0</td>\n",
       "      <td>4.477301</td>\n",
       "      <td>150.0</td>\n",
       "      <td>3.000000</td>\n",
       "    </tr>\n",
       "    <tr>\n",
       "      <th>2100</th>\n",
       "      <td>2</td>\n",
       "      <td>0</td>\n",
       "      <td>391</td>\n",
       "      <td>5000</td>\n",
       "      <td>5000</td>\n",
       "      <td>1202</td>\n",
       "      <td>42</td>\n",
       "      <td>0</td>\n",
       "      <td>106.749881</td>\n",
       "      <td>0.0</td>\n",
       "      <td>10.684462</td>\n",
       "      <td>0.0</td>\n",
       "      <td>4.477301</td>\n",
       "      <td>100.0</td>\n",
       "      <td>4.694865</td>\n",
       "    </tr>\n",
       "  </tbody>\n",
       "</table>\n",
       "<p>2101 rows × 15 columns</p>\n",
       "</div>"
      ],
      "text/plain": [
       "      typeOfRealEstate  accessibility  ward  certificateOfLandUseRight  \\\n",
       "0                    6              0   219                       5000   \n",
       "1                    1              0   266                       5000   \n",
       "2                    0              0   334                       5000   \n",
       "3                    6              0    60                       5000   \n",
       "4                    2              0   251                       5000   \n",
       "...                ...            ...   ...                        ...   \n",
       "2096                 1              0   130                       5000   \n",
       "2097                 1              0   175                       5000   \n",
       "2098                 1              0   137                       5000   \n",
       "2099                 1              0   243                       5000   \n",
       "2100                 2              0   391                       5000   \n",
       "\n",
       "      houseDirection  street  district  facade         lon  frontWidth  \\\n",
       "0               5000    1089        15       0  106.819703         0.0   \n",
       "1               5000    3657        35       0  106.577329         0.0   \n",
       "2               5000     590         0       0  106.753847         0.0   \n",
       "3               5000    1305        10       0  106.639256        70.0   \n",
       "4               5000     630        18       2  106.761276         0.0   \n",
       "...              ...     ...       ...     ...         ...         ...   \n",
       "2096            5000     162        20       0  106.693437         0.0   \n",
       "2097            5000     511         0       0  106.761686         0.0   \n",
       "2098            5000    2494        10       0  106.652596         0.0   \n",
       "2099            5000    5000         0       0  106.724553         0.0   \n",
       "2100            5000    1202        42       0  106.749881         0.0   \n",
       "\n",
       "            lat     w  numberOfBathRooms  landSize  numberOfBedRooms  \n",
       "0     10.826577   0.0           4.477301      25.0          4.694865  \n",
       "1     10.883938   0.0           4.477301      96.0          4.694865  \n",
       "2     10.861560   0.0           1.000000      56.0          2.000000  \n",
       "3     10.793069  70.0           4.477301    8000.0          4.694865  \n",
       "4     10.777639   0.0           4.477301     300.0          4.694865  \n",
       "...         ...   ...                ...       ...               ...  \n",
       "2096  10.809214   0.0           4.000000      46.0          5.000000  \n",
       "2097  10.844976   0.0           3.000000      68.0          3.000000  \n",
       "2098  10.791150   0.0           5.000000      35.0          4.000000  \n",
       "2099  10.871886   0.0           4.477301     150.0          3.000000  \n",
       "2100  10.684462   0.0           4.477301     100.0          4.694865  \n",
       "\n",
       "[2101 rows x 15 columns]"
      ]
     },
     "execution_count": 82,
     "metadata": {},
     "output_type": "execute_result"
    }
   ],
   "source": [
    "X"
   ]
  },
  {
   "cell_type": "code",
   "execution_count": 83,
   "metadata": {},
   "outputs": [],
   "source": [
    "pretrained_file = f'/home/long/airflow/dags/models/{city}/{model_name}/v{version}/model.joblib'"
   ]
  },
  {
   "cell_type": "code",
   "execution_count": 84,
   "metadata": {},
   "outputs": [],
   "source": [
    "categorical_features_indices = [i for i, c in enumerate(all_cols) if c in cat_cols]"
   ]
  },
  {
   "cell_type": "code",
   "execution_count": 85,
   "metadata": {},
   "outputs": [],
   "source": [
    "from sklearn.base import BaseEstimator\n",
    "from sklearn.base import RegressorMixin\n",
    "from joblib import load\n",
    "import numpy as np\n",
    "import lightgbm as lgb\n",
    "\n",
    "from sklearn.utils.validation import check_X_y, check_array, check_is_fitted\n",
    "\n",
    "class BKPriceEstimator(RegressorMixin, BaseEstimator):\n",
    "    def __init__(self, pretrained_model_path, update_model, weight = 0.001, type = None) -> None:\n",
    "        self.pretrained_model_path = pretrained_model_path\n",
    "        self.update_model = update_model\n",
    "        self.weight = weight\n",
    "        self.type = type\n",
    "\n",
    "    def fit(self, X, y=None):\n",
    "\n",
    "        self.X = X\n",
    "        self.y = y\n",
    "        print(\"Start training update model\")\n",
    "        self.update_model.fit(X, y)\n",
    "        print(\"End training update model\")\n",
    "        print()\n",
    "        if self.type == 'lgbm':\n",
    "            self.pretrained_model = load(self.pretrained_model_path)\n",
    "            self.pretrained_model.booster_.save_model('./lgbm_cache.txt')\n",
    "            self.pretrained_model = lgb.Booster(model_file='./lgbm_cache.txt')\n",
    "        else:\n",
    "            self.pretrained_model = load(self.pretrained_model_path)\n",
    "        self.is_fitted_ = True\n",
    "        return self\n",
    "\n",
    "    def predict(self, X):\n",
    "        check_is_fitted(self, ['is_fitted_', 'update_model'])\n",
    "\n",
    "        base_pred = self.pretrained_model.predict(X)\n",
    "        base_pred = np.array([max(0, item) for item in base_pred])\n",
    "        new_pred = self.update_model.predict(X)\n",
    "        new_pred = np.array([max(0, item) for item in new_pred])\n",
    "\n",
    "\n",
    "        result = base_pred * (1 - self.weight) + new_pred * self.weight\n",
    "        # result = base_pred\n",
    "\n",
    "        return result\n",
    "\n",
    "    def get_params(self, deep = False):\n",
    "        return {\n",
    "            'weight':self.weight,\n",
    "            'pretrained_model_path':self.pretrained_model_path,\n",
    "            'update_model':self.update_model,\n",
    "        }\n",
    "\n",
    "    def set_params(self, **parameters):\n",
    "        for parameter, value in parameters.items():\n",
    "            setattr(self, parameter, value)\n",
    "        return self\n",
    "\n",
    "\n",
    "\n"
   ]
  },
  {
   "cell_type": "code",
   "execution_count": 86,
   "metadata": {},
   "outputs": [],
   "source": [
    "from xgboost import XGBRegressor\n",
    "from sklearn.model_selection import GridSearchCV\n",
    "import random\n",
    "\n",
    "from joblib import load\n",
    "\n",
    "def create_model(pretrained_file = None):\n",
    "    update_model = XGBRegressor(n_estimators = 1000, random_state=random.randint(3, 1000), verbose=10, learning_rate=0.04, tree_method = 'gpu_hist')\n",
    "    model = BKPriceEstimator(\n",
    "        pretrained_model_path = pretrained_file,\n",
    "        update_model = update_model,\n",
    "    )\n",
    "    search_params = {'weight': [-0.001, 0, 0.001]}\n",
    "    clf = GridSearchCV(model, search_params, scoring=['explained_variance', 'max_error', 'neg_root_mean_squared_error', 'r2', 'neg_median_absolute_error', 'neg_mean_absolute_percentage_error'], refit='neg_root_mean_squared_error', cv=5)\n",
    "    return clf\n",
    "\n",
    "model = create_model(pretrained_file)"
   ]
  },
  {
   "cell_type": "code",
   "execution_count": 87,
   "metadata": {},
   "outputs": [
    {
     "name": "stdout",
     "output_type": "stream",
     "text": [
      "Start training update model\n"
     ]
    },
    {
     "name": "stderr",
     "output_type": "stream",
     "text": [
      "/home/long/anaconda3/envs/mlops-env/lib/python3.10/site-packages/xgboost/core.py:158: UserWarning: [08:20:58] WARNING: /workspace/src/common/error_msg.cc:27: The tree method `gpu_hist` is deprecated since 2.0.0. To use GPU training, set the `device` parameter to CUDA instead.\n",
      "\n",
      "    E.g. tree_method = \"hist\", device = \"cuda\"\n",
      "\n",
      "  warnings.warn(smsg, UserWarning)\n",
      "/home/long/anaconda3/envs/mlops-env/lib/python3.10/site-packages/xgboost/core.py:158: UserWarning: [08:20:58] WARNING: /workspace/src/learner.cc:740: \n",
      "Parameters: { \"verbose\" } are not used.\n",
      "\n",
      "  warnings.warn(smsg, UserWarning)\n"
     ]
    },
    {
     "name": "stdout",
     "output_type": "stream",
     "text": [
      "End training update model\n",
      "\n"
     ]
    },
    {
     "name": "stderr",
     "output_type": "stream",
     "text": [
      "/home/long/anaconda3/envs/mlops-env/lib/python3.10/site-packages/xgboost/core.py:158: UserWarning: [08:21:11] WARNING: /workspace/src/learner.cc:872: Found JSON model saved before XGBoost 1.6, please save the model using current version again. The support for old JSON model will be discontinued in XGBoost 2.3.\n",
      "  warnings.warn(smsg, UserWarning)\n",
      "/home/long/anaconda3/envs/mlops-env/lib/python3.10/site-packages/xgboost/core.py:158: UserWarning: [08:21:13] WARNING: /workspace/src/common/error_msg.cc:27: The tree method `gpu_hist` is deprecated since 2.0.0. To use GPU training, set the `device` parameter to CUDA instead.\n",
      "\n",
      "    E.g. tree_method = \"hist\", device = \"cuda\"\n",
      "\n",
      "  warnings.warn(smsg, UserWarning)\n"
     ]
    },
    {
     "name": "stdout",
     "output_type": "stream",
     "text": [
      "Start training update model\n"
     ]
    },
    {
     "name": "stderr",
     "output_type": "stream",
     "text": [
      "/home/long/anaconda3/envs/mlops-env/lib/python3.10/site-packages/xgboost/core.py:158: UserWarning: [08:21:16] WARNING: /workspace/src/common/error_msg.cc:27: The tree method `gpu_hist` is deprecated since 2.0.0. To use GPU training, set the `device` parameter to CUDA instead.\n",
      "\n",
      "    E.g. tree_method = \"hist\", device = \"cuda\"\n",
      "\n",
      "  warnings.warn(smsg, UserWarning)\n",
      "/home/long/anaconda3/envs/mlops-env/lib/python3.10/site-packages/xgboost/core.py:158: UserWarning: [08:21:16] WARNING: /workspace/src/learner.cc:740: \n",
      "Parameters: { \"verbose\" } are not used.\n",
      "\n",
      "  warnings.warn(smsg, UserWarning)\n"
     ]
    },
    {
     "name": "stdout",
     "output_type": "stream",
     "text": [
      "End training update model\n",
      "\n"
     ]
    },
    {
     "name": "stderr",
     "output_type": "stream",
     "text": [
      "/home/long/anaconda3/envs/mlops-env/lib/python3.10/site-packages/xgboost/core.py:158: UserWarning: [08:21:30] WARNING: /workspace/src/learner.cc:872: Found JSON model saved before XGBoost 1.6, please save the model using current version again. The support for old JSON model will be discontinued in XGBoost 2.3.\n",
      "  warnings.warn(smsg, UserWarning)\n",
      "/home/long/anaconda3/envs/mlops-env/lib/python3.10/site-packages/xgboost/core.py:158: UserWarning: [08:21:35] WARNING: /workspace/src/common/error_msg.cc:27: The tree method `gpu_hist` is deprecated since 2.0.0. To use GPU training, set the `device` parameter to CUDA instead.\n",
      "\n",
      "    E.g. tree_method = \"hist\", device = \"cuda\"\n",
      "\n",
      "  warnings.warn(smsg, UserWarning)\n"
     ]
    },
    {
     "name": "stdout",
     "output_type": "stream",
     "text": [
      "Start training update model\n"
     ]
    },
    {
     "name": "stderr",
     "output_type": "stream",
     "text": [
      "/home/long/anaconda3/envs/mlops-env/lib/python3.10/site-packages/xgboost/core.py:158: UserWarning: [08:21:37] WARNING: /workspace/src/common/error_msg.cc:27: The tree method `gpu_hist` is deprecated since 2.0.0. To use GPU training, set the `device` parameter to CUDA instead.\n",
      "\n",
      "    E.g. tree_method = \"hist\", device = \"cuda\"\n",
      "\n",
      "  warnings.warn(smsg, UserWarning)\n",
      "/home/long/anaconda3/envs/mlops-env/lib/python3.10/site-packages/xgboost/core.py:158: UserWarning: [08:21:37] WARNING: /workspace/src/learner.cc:740: \n",
      "Parameters: { \"verbose\" } are not used.\n",
      "\n",
      "  warnings.warn(smsg, UserWarning)\n"
     ]
    },
    {
     "name": "stdout",
     "output_type": "stream",
     "text": [
      "End training update model\n",
      "\n"
     ]
    },
    {
     "name": "stderr",
     "output_type": "stream",
     "text": [
      "/home/long/anaconda3/envs/mlops-env/lib/python3.10/site-packages/xgboost/core.py:158: UserWarning: [08:21:44] WARNING: /workspace/src/learner.cc:872: Found JSON model saved before XGBoost 1.6, please save the model using current version again. The support for old JSON model will be discontinued in XGBoost 2.3.\n",
      "  warnings.warn(smsg, UserWarning)\n",
      "/home/long/anaconda3/envs/mlops-env/lib/python3.10/site-packages/xgboost/core.py:158: UserWarning: [08:21:46] WARNING: /workspace/src/common/error_msg.cc:27: The tree method `gpu_hist` is deprecated since 2.0.0. To use GPU training, set the `device` parameter to CUDA instead.\n",
      "\n",
      "    E.g. tree_method = \"hist\", device = \"cuda\"\n",
      "\n",
      "  warnings.warn(smsg, UserWarning)\n"
     ]
    },
    {
     "name": "stdout",
     "output_type": "stream",
     "text": [
      "Start training update model\n"
     ]
    },
    {
     "name": "stderr",
     "output_type": "stream",
     "text": [
      "/home/long/anaconda3/envs/mlops-env/lib/python3.10/site-packages/xgboost/core.py:158: UserWarning: [08:21:49] WARNING: /workspace/src/common/error_msg.cc:27: The tree method `gpu_hist` is deprecated since 2.0.0. To use GPU training, set the `device` parameter to CUDA instead.\n",
      "\n",
      "    E.g. tree_method = \"hist\", device = \"cuda\"\n",
      "\n",
      "  warnings.warn(smsg, UserWarning)\n",
      "/home/long/anaconda3/envs/mlops-env/lib/python3.10/site-packages/xgboost/core.py:158: UserWarning: [08:21:49] WARNING: /workspace/src/learner.cc:740: \n",
      "Parameters: { \"verbose\" } are not used.\n",
      "\n",
      "  warnings.warn(smsg, UserWarning)\n"
     ]
    },
    {
     "name": "stdout",
     "output_type": "stream",
     "text": [
      "End training update model\n",
      "\n"
     ]
    },
    {
     "name": "stderr",
     "output_type": "stream",
     "text": [
      "/home/long/anaconda3/envs/mlops-env/lib/python3.10/site-packages/xgboost/core.py:158: UserWarning: [08:22:07] WARNING: /workspace/src/learner.cc:872: Found JSON model saved before XGBoost 1.6, please save the model using current version again. The support for old JSON model will be discontinued in XGBoost 2.3.\n",
      "  warnings.warn(smsg, UserWarning)\n",
      "/home/long/anaconda3/envs/mlops-env/lib/python3.10/site-packages/xgboost/core.py:158: UserWarning: [08:22:10] WARNING: /workspace/src/common/error_msg.cc:27: The tree method `gpu_hist` is deprecated since 2.0.0. To use GPU training, set the `device` parameter to CUDA instead.\n",
      "\n",
      "    E.g. tree_method = \"hist\", device = \"cuda\"\n",
      "\n",
      "  warnings.warn(smsg, UserWarning)\n"
     ]
    },
    {
     "name": "stdout",
     "output_type": "stream",
     "text": [
      "Start training update model\n"
     ]
    },
    {
     "name": "stderr",
     "output_type": "stream",
     "text": [
      "/home/long/anaconda3/envs/mlops-env/lib/python3.10/site-packages/xgboost/core.py:158: UserWarning: [08:22:13] WARNING: /workspace/src/common/error_msg.cc:27: The tree method `gpu_hist` is deprecated since 2.0.0. To use GPU training, set the `device` parameter to CUDA instead.\n",
      "\n",
      "    E.g. tree_method = \"hist\", device = \"cuda\"\n",
      "\n",
      "  warnings.warn(smsg, UserWarning)\n",
      "/home/long/anaconda3/envs/mlops-env/lib/python3.10/site-packages/xgboost/core.py:158: UserWarning: [08:22:13] WARNING: /workspace/src/learner.cc:740: \n",
      "Parameters: { \"verbose\" } are not used.\n",
      "\n",
      "  warnings.warn(smsg, UserWarning)\n"
     ]
    },
    {
     "name": "stdout",
     "output_type": "stream",
     "text": [
      "End training update model\n",
      "\n"
     ]
    },
    {
     "name": "stderr",
     "output_type": "stream",
     "text": [
      "/home/long/anaconda3/envs/mlops-env/lib/python3.10/site-packages/xgboost/core.py:158: UserWarning: [08:22:26] WARNING: /workspace/src/learner.cc:872: Found JSON model saved before XGBoost 1.6, please save the model using current version again. The support for old JSON model will be discontinued in XGBoost 2.3.\n",
      "  warnings.warn(smsg, UserWarning)\n",
      "/home/long/anaconda3/envs/mlops-env/lib/python3.10/site-packages/xgboost/core.py:158: UserWarning: [08:22:28] WARNING: /workspace/src/common/error_msg.cc:27: The tree method `gpu_hist` is deprecated since 2.0.0. To use GPU training, set the `device` parameter to CUDA instead.\n",
      "\n",
      "    E.g. tree_method = \"hist\", device = \"cuda\"\n",
      "\n",
      "  warnings.warn(smsg, UserWarning)\n"
     ]
    },
    {
     "name": "stdout",
     "output_type": "stream",
     "text": [
      "Start training update model\n"
     ]
    },
    {
     "name": "stderr",
     "output_type": "stream",
     "text": [
      "/home/long/anaconda3/envs/mlops-env/lib/python3.10/site-packages/xgboost/core.py:158: UserWarning: [08:22:30] WARNING: /workspace/src/common/error_msg.cc:27: The tree method `gpu_hist` is deprecated since 2.0.0. To use GPU training, set the `device` parameter to CUDA instead.\n",
      "\n",
      "    E.g. tree_method = \"hist\", device = \"cuda\"\n",
      "\n",
      "  warnings.warn(smsg, UserWarning)\n",
      "/home/long/anaconda3/envs/mlops-env/lib/python3.10/site-packages/xgboost/core.py:158: UserWarning: [08:22:30] WARNING: /workspace/src/learner.cc:740: \n",
      "Parameters: { \"verbose\" } are not used.\n",
      "\n",
      "  warnings.warn(smsg, UserWarning)\n"
     ]
    },
    {
     "name": "stdout",
     "output_type": "stream",
     "text": [
      "End training update model\n",
      "\n"
     ]
    },
    {
     "name": "stderr",
     "output_type": "stream",
     "text": [
      "/home/long/anaconda3/envs/mlops-env/lib/python3.10/site-packages/xgboost/core.py:158: UserWarning: [08:22:38] WARNING: /workspace/src/learner.cc:872: Found JSON model saved before XGBoost 1.6, please save the model using current version again. The support for old JSON model will be discontinued in XGBoost 2.3.\n",
      "  warnings.warn(smsg, UserWarning)\n",
      "/home/long/anaconda3/envs/mlops-env/lib/python3.10/site-packages/xgboost/core.py:158: UserWarning: [08:22:39] WARNING: /workspace/src/common/error_msg.cc:27: The tree method `gpu_hist` is deprecated since 2.0.0. To use GPU training, set the `device` parameter to CUDA instead.\n",
      "\n",
      "    E.g. tree_method = \"hist\", device = \"cuda\"\n",
      "\n",
      "  warnings.warn(smsg, UserWarning)\n"
     ]
    },
    {
     "name": "stdout",
     "output_type": "stream",
     "text": [
      "Start training update model\n"
     ]
    },
    {
     "name": "stderr",
     "output_type": "stream",
     "text": [
      "/home/long/anaconda3/envs/mlops-env/lib/python3.10/site-packages/xgboost/core.py:158: UserWarning: [08:22:42] WARNING: /workspace/src/common/error_msg.cc:27: The tree method `gpu_hist` is deprecated since 2.0.0. To use GPU training, set the `device` parameter to CUDA instead.\n",
      "\n",
      "    E.g. tree_method = \"hist\", device = \"cuda\"\n",
      "\n",
      "  warnings.warn(smsg, UserWarning)\n",
      "/home/long/anaconda3/envs/mlops-env/lib/python3.10/site-packages/xgboost/core.py:158: UserWarning: [08:22:42] WARNING: /workspace/src/learner.cc:740: \n",
      "Parameters: { \"verbose\" } are not used.\n",
      "\n",
      "  warnings.warn(smsg, UserWarning)\n"
     ]
    },
    {
     "name": "stdout",
     "output_type": "stream",
     "text": [
      "End training update model\n",
      "\n"
     ]
    },
    {
     "name": "stderr",
     "output_type": "stream",
     "text": [
      "/home/long/anaconda3/envs/mlops-env/lib/python3.10/site-packages/xgboost/core.py:158: UserWarning: [08:23:04] WARNING: /workspace/src/learner.cc:872: Found JSON model saved before XGBoost 1.6, please save the model using current version again. The support for old JSON model will be discontinued in XGBoost 2.3.\n",
      "  warnings.warn(smsg, UserWarning)\n",
      "/home/long/anaconda3/envs/mlops-env/lib/python3.10/site-packages/xgboost/core.py:158: UserWarning: [08:23:06] WARNING: /workspace/src/common/error_msg.cc:27: The tree method `gpu_hist` is deprecated since 2.0.0. To use GPU training, set the `device` parameter to CUDA instead.\n",
      "\n",
      "    E.g. tree_method = \"hist\", device = \"cuda\"\n",
      "\n",
      "  warnings.warn(smsg, UserWarning)\n"
     ]
    },
    {
     "name": "stdout",
     "output_type": "stream",
     "text": [
      "Start training update model\n"
     ]
    },
    {
     "name": "stderr",
     "output_type": "stream",
     "text": [
      "/home/long/anaconda3/envs/mlops-env/lib/python3.10/site-packages/xgboost/core.py:158: UserWarning: [08:23:10] WARNING: /workspace/src/common/error_msg.cc:27: The tree method `gpu_hist` is deprecated since 2.0.0. To use GPU training, set the `device` parameter to CUDA instead.\n",
      "\n",
      "    E.g. tree_method = \"hist\", device = \"cuda\"\n",
      "\n",
      "  warnings.warn(smsg, UserWarning)\n",
      "/home/long/anaconda3/envs/mlops-env/lib/python3.10/site-packages/xgboost/core.py:158: UserWarning: [08:23:10] WARNING: /workspace/src/learner.cc:740: \n",
      "Parameters: { \"verbose\" } are not used.\n",
      "\n",
      "  warnings.warn(smsg, UserWarning)\n"
     ]
    },
    {
     "name": "stdout",
     "output_type": "stream",
     "text": [
      "End training update model\n",
      "\n"
     ]
    },
    {
     "name": "stderr",
     "output_type": "stream",
     "text": [
      "/home/long/anaconda3/envs/mlops-env/lib/python3.10/site-packages/xgboost/core.py:158: UserWarning: [08:23:21] WARNING: /workspace/src/learner.cc:872: Found JSON model saved before XGBoost 1.6, please save the model using current version again. The support for old JSON model will be discontinued in XGBoost 2.3.\n",
      "  warnings.warn(smsg, UserWarning)\n",
      "/home/long/anaconda3/envs/mlops-env/lib/python3.10/site-packages/xgboost/core.py:158: UserWarning: [08:23:23] WARNING: /workspace/src/common/error_msg.cc:27: The tree method `gpu_hist` is deprecated since 2.0.0. To use GPU training, set the `device` parameter to CUDA instead.\n",
      "\n",
      "    E.g. tree_method = \"hist\", device = \"cuda\"\n",
      "\n",
      "  warnings.warn(smsg, UserWarning)\n"
     ]
    },
    {
     "name": "stdout",
     "output_type": "stream",
     "text": [
      "Start training update model\n"
     ]
    },
    {
     "name": "stderr",
     "output_type": "stream",
     "text": [
      "/home/long/anaconda3/envs/mlops-env/lib/python3.10/site-packages/xgboost/core.py:158: UserWarning: [08:23:25] WARNING: /workspace/src/common/error_msg.cc:27: The tree method `gpu_hist` is deprecated since 2.0.0. To use GPU training, set the `device` parameter to CUDA instead.\n",
      "\n",
      "    E.g. tree_method = \"hist\", device = \"cuda\"\n",
      "\n",
      "  warnings.warn(smsg, UserWarning)\n",
      "/home/long/anaconda3/envs/mlops-env/lib/python3.10/site-packages/xgboost/core.py:158: UserWarning: [08:23:25] WARNING: /workspace/src/learner.cc:740: \n",
      "Parameters: { \"verbose\" } are not used.\n",
      "\n",
      "  warnings.warn(smsg, UserWarning)\n"
     ]
    },
    {
     "name": "stdout",
     "output_type": "stream",
     "text": [
      "End training update model\n",
      "\n"
     ]
    },
    {
     "name": "stderr",
     "output_type": "stream",
     "text": [
      "/home/long/anaconda3/envs/mlops-env/lib/python3.10/site-packages/xgboost/core.py:158: UserWarning: [08:23:36] WARNING: /workspace/src/learner.cc:872: Found JSON model saved before XGBoost 1.6, please save the model using current version again. The support for old JSON model will be discontinued in XGBoost 2.3.\n",
      "  warnings.warn(smsg, UserWarning)\n",
      "/home/long/anaconda3/envs/mlops-env/lib/python3.10/site-packages/xgboost/core.py:158: UserWarning: [08:23:39] WARNING: /workspace/src/common/error_msg.cc:27: The tree method `gpu_hist` is deprecated since 2.0.0. To use GPU training, set the `device` parameter to CUDA instead.\n",
      "\n",
      "    E.g. tree_method = \"hist\", device = \"cuda\"\n",
      "\n",
      "  warnings.warn(smsg, UserWarning)\n"
     ]
    },
    {
     "name": "stdout",
     "output_type": "stream",
     "text": [
      "Start training update model\n"
     ]
    },
    {
     "name": "stderr",
     "output_type": "stream",
     "text": [
      "/home/long/anaconda3/envs/mlops-env/lib/python3.10/site-packages/xgboost/core.py:158: UserWarning: [08:23:42] WARNING: /workspace/src/common/error_msg.cc:27: The tree method `gpu_hist` is deprecated since 2.0.0. To use GPU training, set the `device` parameter to CUDA instead.\n",
      "\n",
      "    E.g. tree_method = \"hist\", device = \"cuda\"\n",
      "\n",
      "  warnings.warn(smsg, UserWarning)\n",
      "/home/long/anaconda3/envs/mlops-env/lib/python3.10/site-packages/xgboost/core.py:158: UserWarning: [08:23:42] WARNING: /workspace/src/learner.cc:740: \n",
      "Parameters: { \"verbose\" } are not used.\n",
      "\n",
      "  warnings.warn(smsg, UserWarning)\n"
     ]
    },
    {
     "name": "stdout",
     "output_type": "stream",
     "text": [
      "End training update model\n",
      "\n"
     ]
    },
    {
     "name": "stderr",
     "output_type": "stream",
     "text": [
      "/home/long/anaconda3/envs/mlops-env/lib/python3.10/site-packages/xgboost/core.py:158: UserWarning: [08:24:01] WARNING: /workspace/src/learner.cc:872: Found JSON model saved before XGBoost 1.6, please save the model using current version again. The support for old JSON model will be discontinued in XGBoost 2.3.\n",
      "  warnings.warn(smsg, UserWarning)\n",
      "/home/long/anaconda3/envs/mlops-env/lib/python3.10/site-packages/xgboost/core.py:158: UserWarning: [08:24:03] WARNING: /workspace/src/common/error_msg.cc:27: The tree method `gpu_hist` is deprecated since 2.0.0. To use GPU training, set the `device` parameter to CUDA instead.\n",
      "\n",
      "    E.g. tree_method = \"hist\", device = \"cuda\"\n",
      "\n",
      "  warnings.warn(smsg, UserWarning)\n"
     ]
    },
    {
     "name": "stdout",
     "output_type": "stream",
     "text": [
      "Start training update model\n"
     ]
    },
    {
     "name": "stderr",
     "output_type": "stream",
     "text": [
      "/home/long/anaconda3/envs/mlops-env/lib/python3.10/site-packages/xgboost/core.py:158: UserWarning: [08:24:05] WARNING: /workspace/src/common/error_msg.cc:27: The tree method `gpu_hist` is deprecated since 2.0.0. To use GPU training, set the `device` parameter to CUDA instead.\n",
      "\n",
      "    E.g. tree_method = \"hist\", device = \"cuda\"\n",
      "\n",
      "  warnings.warn(smsg, UserWarning)\n",
      "/home/long/anaconda3/envs/mlops-env/lib/python3.10/site-packages/xgboost/core.py:158: UserWarning: [08:24:05] WARNING: /workspace/src/learner.cc:740: \n",
      "Parameters: { \"verbose\" } are not used.\n",
      "\n",
      "  warnings.warn(smsg, UserWarning)\n"
     ]
    },
    {
     "name": "stdout",
     "output_type": "stream",
     "text": [
      "End training update model\n",
      "\n"
     ]
    },
    {
     "name": "stderr",
     "output_type": "stream",
     "text": [
      "/home/long/anaconda3/envs/mlops-env/lib/python3.10/site-packages/xgboost/core.py:158: UserWarning: [08:24:15] WARNING: /workspace/src/learner.cc:872: Found JSON model saved before XGBoost 1.6, please save the model using current version again. The support for old JSON model will be discontinued in XGBoost 2.3.\n",
      "  warnings.warn(smsg, UserWarning)\n",
      "/home/long/anaconda3/envs/mlops-env/lib/python3.10/site-packages/xgboost/core.py:158: UserWarning: [08:24:17] WARNING: /workspace/src/common/error_msg.cc:27: The tree method `gpu_hist` is deprecated since 2.0.0. To use GPU training, set the `device` parameter to CUDA instead.\n",
      "\n",
      "    E.g. tree_method = \"hist\", device = \"cuda\"\n",
      "\n",
      "  warnings.warn(smsg, UserWarning)\n"
     ]
    },
    {
     "name": "stdout",
     "output_type": "stream",
     "text": [
      "Start training update model\n"
     ]
    },
    {
     "name": "stderr",
     "output_type": "stream",
     "text": [
      "/home/long/anaconda3/envs/mlops-env/lib/python3.10/site-packages/xgboost/core.py:158: UserWarning: [08:24:20] WARNING: /workspace/src/common/error_msg.cc:27: The tree method `gpu_hist` is deprecated since 2.0.0. To use GPU training, set the `device` parameter to CUDA instead.\n",
      "\n",
      "    E.g. tree_method = \"hist\", device = \"cuda\"\n",
      "\n",
      "  warnings.warn(smsg, UserWarning)\n",
      "/home/long/anaconda3/envs/mlops-env/lib/python3.10/site-packages/xgboost/core.py:158: UserWarning: [08:24:20] WARNING: /workspace/src/learner.cc:740: \n",
      "Parameters: { \"verbose\" } are not used.\n",
      "\n",
      "  warnings.warn(smsg, UserWarning)\n"
     ]
    },
    {
     "name": "stdout",
     "output_type": "stream",
     "text": [
      "End training update model\n",
      "\n"
     ]
    },
    {
     "name": "stderr",
     "output_type": "stream",
     "text": [
      "/home/long/anaconda3/envs/mlops-env/lib/python3.10/site-packages/xgboost/core.py:158: UserWarning: [08:24:31] WARNING: /workspace/src/learner.cc:872: Found JSON model saved before XGBoost 1.6, please save the model using current version again. The support for old JSON model will be discontinued in XGBoost 2.3.\n",
      "  warnings.warn(smsg, UserWarning)\n",
      "/home/long/anaconda3/envs/mlops-env/lib/python3.10/site-packages/xgboost/core.py:158: UserWarning: [08:24:36] WARNING: /workspace/src/common/error_msg.cc:27: The tree method `gpu_hist` is deprecated since 2.0.0. To use GPU training, set the `device` parameter to CUDA instead.\n",
      "\n",
      "    E.g. tree_method = \"hist\", device = \"cuda\"\n",
      "\n",
      "  warnings.warn(smsg, UserWarning)\n"
     ]
    },
    {
     "name": "stdout",
     "output_type": "stream",
     "text": [
      "Start training update model\n"
     ]
    },
    {
     "name": "stderr",
     "output_type": "stream",
     "text": [
      "/home/long/anaconda3/envs/mlops-env/lib/python3.10/site-packages/xgboost/core.py:158: UserWarning: [08:24:39] WARNING: /workspace/src/common/error_msg.cc:27: The tree method `gpu_hist` is deprecated since 2.0.0. To use GPU training, set the `device` parameter to CUDA instead.\n",
      "\n",
      "    E.g. tree_method = \"hist\", device = \"cuda\"\n",
      "\n",
      "  warnings.warn(smsg, UserWarning)\n",
      "/home/long/anaconda3/envs/mlops-env/lib/python3.10/site-packages/xgboost/core.py:158: UserWarning: [08:24:39] WARNING: /workspace/src/learner.cc:740: \n",
      "Parameters: { \"verbose\" } are not used.\n",
      "\n",
      "  warnings.warn(smsg, UserWarning)\n"
     ]
    },
    {
     "name": "stdout",
     "output_type": "stream",
     "text": [
      "End training update model\n",
      "\n"
     ]
    },
    {
     "name": "stderr",
     "output_type": "stream",
     "text": [
      "/home/long/anaconda3/envs/mlops-env/lib/python3.10/site-packages/xgboost/core.py:158: UserWarning: [08:24:51] WARNING: /workspace/src/learner.cc:872: Found JSON model saved before XGBoost 1.6, please save the model using current version again. The support for old JSON model will be discontinued in XGBoost 2.3.\n",
      "  warnings.warn(smsg, UserWarning)\n",
      "/home/long/anaconda3/envs/mlops-env/lib/python3.10/site-packages/xgboost/core.py:158: UserWarning: [08:24:55] WARNING: /workspace/src/common/error_msg.cc:27: The tree method `gpu_hist` is deprecated since 2.0.0. To use GPU training, set the `device` parameter to CUDA instead.\n",
      "\n",
      "    E.g. tree_method = \"hist\", device = \"cuda\"\n",
      "\n",
      "  warnings.warn(smsg, UserWarning)\n"
     ]
    },
    {
     "name": "stdout",
     "output_type": "stream",
     "text": [
      "Start training update model\n"
     ]
    },
    {
     "name": "stderr",
     "output_type": "stream",
     "text": [
      "/home/long/anaconda3/envs/mlops-env/lib/python3.10/site-packages/xgboost/core.py:158: UserWarning: [08:24:58] WARNING: /workspace/src/common/error_msg.cc:27: The tree method `gpu_hist` is deprecated since 2.0.0. To use GPU training, set the `device` parameter to CUDA instead.\n",
      "\n",
      "    E.g. tree_method = \"hist\", device = \"cuda\"\n",
      "\n",
      "  warnings.warn(smsg, UserWarning)\n",
      "/home/long/anaconda3/envs/mlops-env/lib/python3.10/site-packages/xgboost/core.py:158: UserWarning: [08:24:58] WARNING: /workspace/src/learner.cc:740: \n",
      "Parameters: { \"verbose\" } are not used.\n",
      "\n",
      "  warnings.warn(smsg, UserWarning)\n"
     ]
    },
    {
     "name": "stdout",
     "output_type": "stream",
     "text": [
      "End training update model\n",
      "\n"
     ]
    },
    {
     "name": "stderr",
     "output_type": "stream",
     "text": [
      "/home/long/anaconda3/envs/mlops-env/lib/python3.10/site-packages/xgboost/core.py:158: UserWarning: [08:25:10] WARNING: /workspace/src/learner.cc:872: Found JSON model saved before XGBoost 1.6, please save the model using current version again. The support for old JSON model will be discontinued in XGBoost 2.3.\n",
      "  warnings.warn(smsg, UserWarning)\n",
      "/home/long/anaconda3/envs/mlops-env/lib/python3.10/site-packages/xgboost/core.py:158: UserWarning: [08:25:13] WARNING: /workspace/src/common/error_msg.cc:27: The tree method `gpu_hist` is deprecated since 2.0.0. To use GPU training, set the `device` parameter to CUDA instead.\n",
      "\n",
      "    E.g. tree_method = \"hist\", device = \"cuda\"\n",
      "\n",
      "  warnings.warn(smsg, UserWarning)\n"
     ]
    },
    {
     "name": "stdout",
     "output_type": "stream",
     "text": [
      "Start training update model\n"
     ]
    },
    {
     "name": "stderr",
     "output_type": "stream",
     "text": [
      "/home/long/anaconda3/envs/mlops-env/lib/python3.10/site-packages/xgboost/core.py:158: UserWarning: [08:25:16] WARNING: /workspace/src/common/error_msg.cc:27: The tree method `gpu_hist` is deprecated since 2.0.0. To use GPU training, set the `device` parameter to CUDA instead.\n",
      "\n",
      "    E.g. tree_method = \"hist\", device = \"cuda\"\n",
      "\n",
      "  warnings.warn(smsg, UserWarning)\n",
      "/home/long/anaconda3/envs/mlops-env/lib/python3.10/site-packages/xgboost/core.py:158: UserWarning: [08:25:16] WARNING: /workspace/src/learner.cc:740: \n",
      "Parameters: { \"verbose\" } are not used.\n",
      "\n",
      "  warnings.warn(smsg, UserWarning)\n"
     ]
    },
    {
     "name": "stdout",
     "output_type": "stream",
     "text": [
      "End training update model\n",
      "\n"
     ]
    },
    {
     "name": "stderr",
     "output_type": "stream",
     "text": [
      "/home/long/anaconda3/envs/mlops-env/lib/python3.10/site-packages/xgboost/core.py:158: UserWarning: [08:25:30] WARNING: /workspace/src/learner.cc:872: Found JSON model saved before XGBoost 1.6, please save the model using current version again. The support for old JSON model will be discontinued in XGBoost 2.3.\n",
      "  warnings.warn(smsg, UserWarning)\n",
      "/home/long/anaconda3/envs/mlops-env/lib/python3.10/site-packages/xgboost/core.py:158: UserWarning: [08:25:35] WARNING: /workspace/src/common/error_msg.cc:27: The tree method `gpu_hist` is deprecated since 2.0.0. To use GPU training, set the `device` parameter to CUDA instead.\n",
      "\n",
      "    E.g. tree_method = \"hist\", device = \"cuda\"\n",
      "\n",
      "  warnings.warn(smsg, UserWarning)\n"
     ]
    },
    {
     "name": "stdout",
     "output_type": "stream",
     "text": [
      "Start training update model\n"
     ]
    },
    {
     "name": "stderr",
     "output_type": "stream",
     "text": [
      "/home/long/anaconda3/envs/mlops-env/lib/python3.10/site-packages/xgboost/core.py:158: UserWarning: [08:25:37] WARNING: /workspace/src/common/error_msg.cc:27: The tree method `gpu_hist` is deprecated since 2.0.0. To use GPU training, set the `device` parameter to CUDA instead.\n",
      "\n",
      "    E.g. tree_method = \"hist\", device = \"cuda\"\n",
      "\n",
      "  warnings.warn(smsg, UserWarning)\n",
      "/home/long/anaconda3/envs/mlops-env/lib/python3.10/site-packages/xgboost/core.py:158: UserWarning: [08:25:37] WARNING: /workspace/src/learner.cc:740: \n",
      "Parameters: { \"verbose\" } are not used.\n",
      "\n",
      "  warnings.warn(smsg, UserWarning)\n"
     ]
    },
    {
     "name": "stdout",
     "output_type": "stream",
     "text": [
      "End training update model\n",
      "\n"
     ]
    },
    {
     "name": "stderr",
     "output_type": "stream",
     "text": [
      "/home/long/anaconda3/envs/mlops-env/lib/python3.10/site-packages/xgboost/core.py:158: UserWarning: [08:25:50] WARNING: /workspace/src/learner.cc:872: Found JSON model saved before XGBoost 1.6, please save the model using current version again. The support for old JSON model will be discontinued in XGBoost 2.3.\n",
      "  warnings.warn(smsg, UserWarning)\n"
     ]
    },
    {
     "data": {
      "text/plain": [
       "GridSearchCV(cv=5,\n",
       "             estimator=BKPriceEstimator(pretrained_model_path='/home/long/airflow/dags/models/hcm/xgb/v0/model.joblib',\n",
       "                                        update_model=XGBRegressor(base_score=None,\n",
       "                                                                  booster=None,\n",
       "                                                                  callbacks=None,\n",
       "                                                                  colsample_bylevel=None,\n",
       "                                                                  colsample_bynode=None,\n",
       "                                                                  colsample_bytree=None,\n",
       "                                                                  device=None,\n",
       "                                                                  early_stopping_rounds=None,\n",
       "                                                                  enable_categorical=False,\n",
       "                                                                  eval_metric=None,\n",
       "                                                                  feature_...\n",
       "                                                                  missing=nan,\n",
       "                                                                  monotone_constraints=None,\n",
       "                                                                  multi_strategy=None,\n",
       "                                                                  n_estimators=1000,\n",
       "                                                                  n_jobs=None,\n",
       "                                                                  num_parallel_tree=None,\n",
       "                                                                  random_state=73, ...)),\n",
       "             param_grid={'weight': [-0.001, 0, 0.001]},\n",
       "             refit='neg_root_mean_squared_error',\n",
       "             scoring=['explained_variance', 'max_error',\n",
       "                      'neg_root_mean_squared_error', 'r2',\n",
       "                      'neg_median_absolute_error',\n",
       "                      'neg_mean_absolute_percentage_error'])"
      ]
     },
     "execution_count": 87,
     "metadata": {},
     "output_type": "execute_result"
    }
   ],
   "source": [
    "model.fit(X, y)"
   ]
  },
  {
   "cell_type": "code",
   "execution_count": 104,
   "metadata": {},
   "outputs": [],
   "source": [
    "from sklearn.metrics import mean_absolute_error, mean_squared_error, r2_score, explained_variance_score"
   ]
  },
  {
   "cell_type": "code",
   "execution_count": 89,
   "metadata": {},
   "outputs": [],
   "source": [
    "test_df = pd.read_parquet(f'/home/long/long/datn-feast/data/data_df_{city}_v{version}.parquet')\n",
    "target_test_df = pd.read_parquet(f'/home/long/long/datn-feast/data/target_df_{city}_v{version}.parquet')"
   ]
  },
  {
   "cell_type": "code",
   "execution_count": 90,
   "metadata": {},
   "outputs": [],
   "source": [
    "sample_dict = {\n",
    "    \"hcm\": 35000,\n",
    "    \"hn\": 100000\n",
    "}"
   ]
  },
  {
   "cell_type": "code",
   "execution_count": 91,
   "metadata": {},
   "outputs": [],
   "source": [
    "X_test = test_df[all_cols].iloc[sample_dict[city]:]\n",
    "y_test = target_test_df['target'].iloc[sample_dict[city]:]"
   ]
  },
  {
   "cell_type": "code",
   "execution_count": 92,
   "metadata": {},
   "outputs": [
    {
     "data": {
      "text/html": [
       "<div>\n",
       "<style scoped>\n",
       "    .dataframe tbody tr th:only-of-type {\n",
       "        vertical-align: middle;\n",
       "    }\n",
       "\n",
       "    .dataframe tbody tr th {\n",
       "        vertical-align: top;\n",
       "    }\n",
       "\n",
       "    .dataframe thead th {\n",
       "        text-align: right;\n",
       "    }\n",
       "</style>\n",
       "<table border=\"1\" class=\"dataframe\">\n",
       "  <thead>\n",
       "    <tr style=\"text-align: right;\">\n",
       "      <th></th>\n",
       "      <th>typeOfRealEstate</th>\n",
       "      <th>accessibility</th>\n",
       "      <th>ward</th>\n",
       "      <th>certificateOfLandUseRight</th>\n",
       "      <th>houseDirection</th>\n",
       "      <th>street</th>\n",
       "      <th>district</th>\n",
       "      <th>facade</th>\n",
       "      <th>lon</th>\n",
       "      <th>frontWidth</th>\n",
       "      <th>lat</th>\n",
       "      <th>w</th>\n",
       "      <th>numberOfBathRooms</th>\n",
       "      <th>landSize</th>\n",
       "      <th>numberOfBedRooms</th>\n",
       "    </tr>\n",
       "  </thead>\n",
       "  <tbody>\n",
       "    <tr>\n",
       "      <th>35000</th>\n",
       "      <td>1</td>\n",
       "      <td>4</td>\n",
       "      <td>248</td>\n",
       "      <td>1</td>\n",
       "      <td>0</td>\n",
       "      <td>1771</td>\n",
       "      <td>22</td>\n",
       "      <td>0</td>\n",
       "      <td>106.620232</td>\n",
       "      <td>0.0</td>\n",
       "      <td>10.769421</td>\n",
       "      <td>0.0</td>\n",
       "      <td>4.477301</td>\n",
       "      <td>38.0</td>\n",
       "      <td>4.694865</td>\n",
       "    </tr>\n",
       "    <tr>\n",
       "      <th>35001</th>\n",
       "      <td>3</td>\n",
       "      <td>1</td>\n",
       "      <td>60</td>\n",
       "      <td>1</td>\n",
       "      <td>0</td>\n",
       "      <td>531</td>\n",
       "      <td>10</td>\n",
       "      <td>2</td>\n",
       "      <td>106.640272</td>\n",
       "      <td>20.0</td>\n",
       "      <td>10.793657</td>\n",
       "      <td>20.0</td>\n",
       "      <td>4.477301</td>\n",
       "      <td>130.0</td>\n",
       "      <td>4.694865</td>\n",
       "    </tr>\n",
       "    <tr>\n",
       "      <th>35002</th>\n",
       "      <td>2</td>\n",
       "      <td>1</td>\n",
       "      <td>374</td>\n",
       "      <td>0</td>\n",
       "      <td>4</td>\n",
       "      <td>737</td>\n",
       "      <td>0</td>\n",
       "      <td>0</td>\n",
       "      <td>106.730597</td>\n",
       "      <td>10.0</td>\n",
       "      <td>10.843807</td>\n",
       "      <td>10.0</td>\n",
       "      <td>4.477301</td>\n",
       "      <td>202.0</td>\n",
       "      <td>4.694865</td>\n",
       "    </tr>\n",
       "    <tr>\n",
       "      <th>35003</th>\n",
       "      <td>3</td>\n",
       "      <td>1</td>\n",
       "      <td>176</td>\n",
       "      <td>0</td>\n",
       "      <td>0</td>\n",
       "      <td>229</td>\n",
       "      <td>30</td>\n",
       "      <td>2</td>\n",
       "      <td>106.629396</td>\n",
       "      <td>0.0</td>\n",
       "      <td>10.784296</td>\n",
       "      <td>0.0</td>\n",
       "      <td>2.000000</td>\n",
       "      <td>52.0</td>\n",
       "      <td>2.000000</td>\n",
       "    </tr>\n",
       "    <tr>\n",
       "      <th>35004</th>\n",
       "      <td>3</td>\n",
       "      <td>0</td>\n",
       "      <td>224</td>\n",
       "      <td>1</td>\n",
       "      <td>0</td>\n",
       "      <td>745</td>\n",
       "      <td>1</td>\n",
       "      <td>2</td>\n",
       "      <td>106.724977</td>\n",
       "      <td>14.0</td>\n",
       "      <td>10.749313</td>\n",
       "      <td>14.0</td>\n",
       "      <td>4.477301</td>\n",
       "      <td>308.0</td>\n",
       "      <td>4.694865</td>\n",
       "    </tr>\n",
       "    <tr>\n",
       "      <th>...</th>\n",
       "      <td>...</td>\n",
       "      <td>...</td>\n",
       "      <td>...</td>\n",
       "      <td>...</td>\n",
       "      <td>...</td>\n",
       "      <td>...</td>\n",
       "      <td>...</td>\n",
       "      <td>...</td>\n",
       "      <td>...</td>\n",
       "      <td>...</td>\n",
       "      <td>...</td>\n",
       "      <td>...</td>\n",
       "      <td>...</td>\n",
       "      <td>...</td>\n",
       "      <td>...</td>\n",
       "    </tr>\n",
       "    <tr>\n",
       "      <th>44144</th>\n",
       "      <td>3</td>\n",
       "      <td>1</td>\n",
       "      <td>140</td>\n",
       "      <td>1</td>\n",
       "      <td>4</td>\n",
       "      <td>1653</td>\n",
       "      <td>30</td>\n",
       "      <td>2</td>\n",
       "      <td>106.625024</td>\n",
       "      <td>4.0</td>\n",
       "      <td>10.815720</td>\n",
       "      <td>4.0</td>\n",
       "      <td>4.477301</td>\n",
       "      <td>100.0</td>\n",
       "      <td>4.694865</td>\n",
       "    </tr>\n",
       "    <tr>\n",
       "      <th>44145</th>\n",
       "      <td>1</td>\n",
       "      <td>0</td>\n",
       "      <td>176</td>\n",
       "      <td>1</td>\n",
       "      <td>0</td>\n",
       "      <td>229</td>\n",
       "      <td>30</td>\n",
       "      <td>0</td>\n",
       "      <td>106.629396</td>\n",
       "      <td>0.0</td>\n",
       "      <td>10.784296</td>\n",
       "      <td>0.0</td>\n",
       "      <td>4.477301</td>\n",
       "      <td>50.1</td>\n",
       "      <td>4.000000</td>\n",
       "    </tr>\n",
       "    <tr>\n",
       "      <th>44146</th>\n",
       "      <td>1</td>\n",
       "      <td>0</td>\n",
       "      <td>278</td>\n",
       "      <td>1</td>\n",
       "      <td>0</td>\n",
       "      <td>934</td>\n",
       "      <td>11</td>\n",
       "      <td>0</td>\n",
       "      <td>106.689453</td>\n",
       "      <td>0.0</td>\n",
       "      <td>10.761833</td>\n",
       "      <td>0.0</td>\n",
       "      <td>20.000000</td>\n",
       "      <td>480.0</td>\n",
       "      <td>20.000000</td>\n",
       "    </tr>\n",
       "    <tr>\n",
       "      <th>44147</th>\n",
       "      <td>3</td>\n",
       "      <td>0</td>\n",
       "      <td>391</td>\n",
       "      <td>1</td>\n",
       "      <td>0</td>\n",
       "      <td>1202</td>\n",
       "      <td>42</td>\n",
       "      <td>2</td>\n",
       "      <td>106.749881</td>\n",
       "      <td>0.0</td>\n",
       "      <td>10.684462</td>\n",
       "      <td>0.0</td>\n",
       "      <td>4.477301</td>\n",
       "      <td>90.0</td>\n",
       "      <td>4.000000</td>\n",
       "    </tr>\n",
       "    <tr>\n",
       "      <th>44148</th>\n",
       "      <td>3</td>\n",
       "      <td>0</td>\n",
       "      <td>215</td>\n",
       "      <td>0</td>\n",
       "      <td>0</td>\n",
       "      <td>2353</td>\n",
       "      <td>10</td>\n",
       "      <td>2</td>\n",
       "      <td>106.646450</td>\n",
       "      <td>0.0</td>\n",
       "      <td>10.804687</td>\n",
       "      <td>0.0</td>\n",
       "      <td>4.477301</td>\n",
       "      <td>134.0</td>\n",
       "      <td>4.694865</td>\n",
       "    </tr>\n",
       "  </tbody>\n",
       "</table>\n",
       "<p>9149 rows × 15 columns</p>\n",
       "</div>"
      ],
      "text/plain": [
       "       typeOfRealEstate  accessibility  ward  certificateOfLandUseRight  \\\n",
       "35000                 1              4   248                          1   \n",
       "35001                 3              1    60                          1   \n",
       "35002                 2              1   374                          0   \n",
       "35003                 3              1   176                          0   \n",
       "35004                 3              0   224                          1   \n",
       "...                 ...            ...   ...                        ...   \n",
       "44144                 3              1   140                          1   \n",
       "44145                 1              0   176                          1   \n",
       "44146                 1              0   278                          1   \n",
       "44147                 3              0   391                          1   \n",
       "44148                 3              0   215                          0   \n",
       "\n",
       "       houseDirection  street  district  facade         lon  frontWidth  \\\n",
       "35000               0    1771        22       0  106.620232         0.0   \n",
       "35001               0     531        10       2  106.640272        20.0   \n",
       "35002               4     737         0       0  106.730597        10.0   \n",
       "35003               0     229        30       2  106.629396         0.0   \n",
       "35004               0     745         1       2  106.724977        14.0   \n",
       "...               ...     ...       ...     ...         ...         ...   \n",
       "44144               4    1653        30       2  106.625024         4.0   \n",
       "44145               0     229        30       0  106.629396         0.0   \n",
       "44146               0     934        11       0  106.689453         0.0   \n",
       "44147               0    1202        42       2  106.749881         0.0   \n",
       "44148               0    2353        10       2  106.646450         0.0   \n",
       "\n",
       "             lat     w  numberOfBathRooms  landSize  numberOfBedRooms  \n",
       "35000  10.769421   0.0           4.477301      38.0          4.694865  \n",
       "35001  10.793657  20.0           4.477301     130.0          4.694865  \n",
       "35002  10.843807  10.0           4.477301     202.0          4.694865  \n",
       "35003  10.784296   0.0           2.000000      52.0          2.000000  \n",
       "35004  10.749313  14.0           4.477301     308.0          4.694865  \n",
       "...          ...   ...                ...       ...               ...  \n",
       "44144  10.815720   4.0           4.477301     100.0          4.694865  \n",
       "44145  10.784296   0.0           4.477301      50.1          4.000000  \n",
       "44146  10.761833   0.0          20.000000     480.0         20.000000  \n",
       "44147  10.684462   0.0           4.477301      90.0          4.000000  \n",
       "44148  10.804687   0.0           4.477301     134.0          4.694865  \n",
       "\n",
       "[9149 rows x 15 columns]"
      ]
     },
     "execution_count": 92,
     "metadata": {},
     "output_type": "execute_result"
    }
   ],
   "source": [
    "X_test"
   ]
  },
  {
   "cell_type": "code",
   "execution_count": 95,
   "metadata": {},
   "outputs": [],
   "source": [
    "cv_results = model.cv_results_\n",
    "best_index = model.best_index_"
   ]
  },
  {
   "cell_type": "code",
   "execution_count": 96,
   "metadata": {},
   "outputs": [
    {
     "name": "stdout",
     "output_type": "stream",
     "text": [
      "mean_test_explained_variance 0.5294729569995094\n",
      "std_test_explained_variance 0.24097000908459823\n",
      "mean_test_max_error -693.7950563646868\n",
      "std_test_max_error 582.3771371301547\n",
      "mean_test_neg_root_mean_squared_error -68.76214994993995\n",
      "std_test_neg_root_mean_squared_error 30.488945188871124\n",
      "mean_test_r2 0.5162847972510276\n",
      "std_test_r2 0.250865827822769\n",
      "mean_test_neg_median_absolute_error -17.617489272702784\n",
      "std_test_neg_median_absolute_error 3.204725831188236\n",
      "mean_test_neg_mean_absolute_percentage_error -2.394241355476502e+16\n",
      "std_test_neg_mean_absolute_percentage_error 3.0776817728132864e+16\n"
     ]
    }
   ],
   "source": [
    "for score_name in [score for score in cv_results if \"mean_test\" in score]:\n",
    "    print(score_name, cv_results[score_name][best_index])\n",
    "    print(score_name.replace(\"mean\",\"std\", 1), cv_results[score_name.replace(\"mean\",\"std\", 1)][best_index])"
   ]
  },
  {
   "cell_type": "code",
   "execution_count": null,
   "metadata": {},
   "outputs": [],
   "source": []
  },
  {
   "cell_type": "code",
   "execution_count": 105,
   "metadata": {},
   "outputs": [
    {
     "name": "stdout",
     "output_type": "stream",
     "text": [
      "mae 37.48820, rmse 62.09203, rsq 0.81066 0.8110394216423011\n"
     ]
    }
   ],
   "source": [
    "y_pred = model.predict(X_test)\n",
    "\n",
    "mae = mean_absolute_error(y_test, y_pred)\n",
    "mse = mean_squared_error(y_test, y_pred, squared = False)\n",
    "rsq = r2_score(y_test, y_pred)\n",
    "ev_score = explained_variance_score(y_test, y_pred)\n",
    "print(f'mae {mae:.5f}, rmse {mse:.5f}, rsq {rsq:.5f}', ev_score)"
   ]
  },
  {
   "cell_type": "code",
   "execution_count": 122,
   "metadata": {},
   "outputs": [
    {
     "data": {
      "text/plain": [
       "array([0.4138727 , 0.00709314, 0.01525556, 0.00831323, 0.00821211,\n",
       "       0.01536901, 0.07718424, 0.05991684, 0.12416454, 0.01081986,\n",
       "       0.183482  , 0.        , 0.02587353, 0.02263431, 0.02780884],\n",
       "      dtype=float32)"
      ]
     },
     "execution_count": 122,
     "metadata": {},
     "output_type": "execute_result"
    }
   ],
   "source": [
    "list(model.best_estimator_.pretrained_model.feature_importances_)"
   ]
  },
  {
   "cell_type": "code",
   "execution_count": 124,
   "metadata": {},
   "outputs": [
    {
     "name": "stdout",
     "output_type": "stream",
     "text": [
      "15\n"
     ]
    },
    {
     "data": {
      "text/html": [
       "<div>\n",
       "<style scoped>\n",
       "    .dataframe tbody tr th:only-of-type {\n",
       "        vertical-align: middle;\n",
       "    }\n",
       "\n",
       "    .dataframe tbody tr th {\n",
       "        vertical-align: top;\n",
       "    }\n",
       "\n",
       "    .dataframe thead th {\n",
       "        text-align: right;\n",
       "    }\n",
       "</style>\n",
       "<table border=\"1\" class=\"dataframe\">\n",
       "  <thead>\n",
       "    <tr style=\"text-align: right;\">\n",
       "      <th></th>\n",
       "      <th>features</th>\n",
       "      <th>importance_scale_weight</th>\n",
       "    </tr>\n",
       "  </thead>\n",
       "  <tbody>\n",
       "    <tr>\n",
       "      <th>0</th>\n",
       "      <td>typeOfRealEstate</td>\n",
       "      <td>0.413873</td>\n",
       "    </tr>\n",
       "    <tr>\n",
       "      <th>10</th>\n",
       "      <td>lat</td>\n",
       "      <td>0.183482</td>\n",
       "    </tr>\n",
       "    <tr>\n",
       "      <th>8</th>\n",
       "      <td>lon</td>\n",
       "      <td>0.124165</td>\n",
       "    </tr>\n",
       "    <tr>\n",
       "      <th>6</th>\n",
       "      <td>district</td>\n",
       "      <td>0.077184</td>\n",
       "    </tr>\n",
       "    <tr>\n",
       "      <th>7</th>\n",
       "      <td>facade</td>\n",
       "      <td>0.059917</td>\n",
       "    </tr>\n",
       "    <tr>\n",
       "      <th>14</th>\n",
       "      <td>numberOfBedRooms</td>\n",
       "      <td>0.027809</td>\n",
       "    </tr>\n",
       "    <tr>\n",
       "      <th>12</th>\n",
       "      <td>numberOfBathRooms</td>\n",
       "      <td>0.025874</td>\n",
       "    </tr>\n",
       "    <tr>\n",
       "      <th>13</th>\n",
       "      <td>landSize</td>\n",
       "      <td>0.022634</td>\n",
       "    </tr>\n",
       "    <tr>\n",
       "      <th>5</th>\n",
       "      <td>street</td>\n",
       "      <td>0.015369</td>\n",
       "    </tr>\n",
       "    <tr>\n",
       "      <th>2</th>\n",
       "      <td>ward</td>\n",
       "      <td>0.015256</td>\n",
       "    </tr>\n",
       "    <tr>\n",
       "      <th>9</th>\n",
       "      <td>frontWidth</td>\n",
       "      <td>0.010820</td>\n",
       "    </tr>\n",
       "    <tr>\n",
       "      <th>3</th>\n",
       "      <td>certificateOfLandUseRight</td>\n",
       "      <td>0.008313</td>\n",
       "    </tr>\n",
       "    <tr>\n",
       "      <th>4</th>\n",
       "      <td>houseDirection</td>\n",
       "      <td>0.008212</td>\n",
       "    </tr>\n",
       "    <tr>\n",
       "      <th>1</th>\n",
       "      <td>accessibility</td>\n",
       "      <td>0.007093</td>\n",
       "    </tr>\n",
       "    <tr>\n",
       "      <th>11</th>\n",
       "      <td>w</td>\n",
       "      <td>0.000000</td>\n",
       "    </tr>\n",
       "  </tbody>\n",
       "</table>\n",
       "</div>"
      ],
      "text/plain": [
       "                     features  importance_scale_weight\n",
       "0            typeOfRealEstate                 0.413873\n",
       "10                        lat                 0.183482\n",
       "8                         lon                 0.124165\n",
       "6                    district                 0.077184\n",
       "7                      facade                 0.059917\n",
       "14           numberOfBedRooms                 0.027809\n",
       "12          numberOfBathRooms                 0.025874\n",
       "13                   landSize                 0.022634\n",
       "5                      street                 0.015369\n",
       "2                        ward                 0.015256\n",
       "9                  frontWidth                 0.010820\n",
       "3   certificateOfLandUseRight                 0.008313\n",
       "4              houseDirection                 0.008212\n",
       "1               accessibility                 0.007093\n",
       "11                          w                 0.000000"
      ]
     },
     "execution_count": 124,
     "metadata": {},
     "output_type": "execute_result"
    }
   ],
   "source": [
    "weights = list(model.best_estimator_.pretrained_model.feature_importances_)\n",
    "print(len(weights))\n",
    "feature_important_df = pd.DataFrame()\n",
    "feature_important_df['features'] = all_cols\n",
    "feature_important_df['importance_scale_weight'] = weights\n",
    "feature_important_df = feature_important_df.sort_values(by = ['importance_scale_weight'], ascending=False)\n",
    "feature_important_df"
   ]
  }
 ],
 "metadata": {
  "kernelspec": {
   "display_name": "mlops-env",
   "language": "python",
   "name": "python3"
  },
  "language_info": {
   "codemirror_mode": {
    "name": "ipython",
    "version": 3
   },
   "file_extension": ".py",
   "mimetype": "text/x-python",
   "name": "python",
   "nbconvert_exporter": "python",
   "pygments_lexer": "ipython3",
   "version": "3.10.4"
  }
 },
 "nbformat": 4,
 "nbformat_minor": 2
}
