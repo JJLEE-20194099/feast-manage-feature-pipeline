{
 "cells": [
  {
   "cell_type": "code",
   "execution_count": null,
   "metadata": {},
   "outputs": [],
   "source": [
    "import json"
   ]
  },
  {
   "cell_type": "code",
   "execution_count": null,
   "metadata": {},
   "outputs": [],
   "source": [
    "data = json.load(open('../data/process_v1/realestate-dataset.json', 'r'))\n",
    "data[0]"
   ]
  },
  {
   "cell_type": "code",
   "execution_count": null,
   "metadata": {},
   "outputs": [],
   "source": [
    "\n",
    "data[0]['propertyBasicInfo'].keys()"
   ]
  },
  {
   "cell_type": "code",
   "execution_count": 14,
   "metadata": {},
   "outputs": [
    {
     "data": {
      "text/plain": [
       "{'numberOfFloors': 1,\n",
       " 'ward': 'Trâu Quỳ',\n",
       " 'street': 'Ngô Xuân Quảng',\n",
       " 'district': 'Gia Lâm',\n",
       " 'city': 'Hà Nội',\n",
       " 'lat': 21.0134591,\n",
       " 'lon': 105.9362249,\n",
       " 'typeOfRealEstate': 'privateLand',\n",
       " 'frontWidth': 6.7,\n",
       " 'endWidth': 6.7,\n",
       " 'facade': 'oneSideOpen',\n",
       " 'houseDirection': 'southwest',\n",
       " 'landSize': 117.6,\n",
       " 'price': 8,\n",
       " 'unitPrice': 'billion',\n",
       " 'distanceToNearestRoad': 0,\n",
       " 'frontRoadWidth': 0,\n",
       " 'accessibility': 'fitTwoCars',\n",
       " 'landType': 'residentialLand',\n",
       " 'description': '<p>Cần sang tên gấp mảnh đất đẹp trong ngõ thông ô tô gần ngay phố Ngô Xuân Quảng, Trâu Quỳ</p>\\n<div>+ Hướng Tây Nam, đường trước rộng 3,5m thông ô tô<br />+ Xây nhà trong khu đấu giá 31ha gia chủ cần nhượng lại gấp mảnh đất đẹp mặt tiền rộng trong ngõ thông ô tô gần phố Ngô Xuân Quảng, xung quanh dân cư đông đúc, hàng xóm thân thiện hiền lành, đường sá sạch sẽ thông thoáng gần khu đô thị 31ha, các dịch vụ tiện ích quanh khu vực không thiếu thứ gì như gần chợ Nông Nghiệp, trường học các cấp, siêu thị, nhà hàng, café, karaoke, sân bóng, bể bơi, cách TTTM Vincom khoảng chừng hơn 1km,..<br />+ Sổ đỏ chính chủ - Sẵn sàng công chứng <br />+ Cam kết đúng giá Không thu phí người mua<br />+ Miễn phí tư vấn Hỗ trợ làm thủ tục sang tên<br />Đinh Vũ Qúy chuyên mua bán nhận ký gửi nhà đất khu vực Long Biên Gia Lâm<br />Liên hệ xem nhà - đất trước 30 phút: 0975383738\\n\\n</div>\\n<p><br /></p>'}"
      ]
     },
     "execution_count": 14,
     "metadata": {},
     "output_type": "execute_result"
    }
   ],
   "source": [
    "def get_compact_info(item):\n",
    "    numberOfFloors = item['houseInfo']['value']['numberOfFloors']\n",
    "    ward = item['propertyBasicInfo']['address']['value']['ward']\n",
    "    street = item['propertyBasicInfo']['address']['value']['street']\n",
    "    district = item['propertyBasicInfo']['address']['value']['district']\n",
    "    city = item['propertyBasicInfo']['address']['value']['city']\n",
    "    lat = item['propertyBasicInfo']['geolocation']['value']['latitude']['value']\n",
    "    lon = item['propertyBasicInfo']['geolocation']['value']['longitude']['value']\n",
    "    typeOfRealEstate = item['propertyBasicInfo']['typeOfRealEstate']['value']\n",
    "    frontWidth = item['propertyBasicInfo']['frontWidth']['value']\n",
    "    endWidth = item['propertyBasicInfo']['endWidth']['value']\n",
    "    facade = item['propertyBasicInfo']['facade']['value']\n",
    "    houseDirection = item['propertyBasicInfo']['houseDirection']['value']\n",
    "    landSize = item['propertyBasicInfo']['landSize']['value']\n",
    "    price = item['propertyBasicInfo']['price']['value']\n",
    "    unitPrice = item['propertyBasicInfo']['unitPrice']['value']\n",
    "    distanceToNearestRoad = item['propertyBasicInfo']['distanceToNearestRoad']['value']\n",
    "    frontRoadWidth = item['propertyBasicInfo']['frontRoadWidth']['value']\n",
    "    accessibility = item['propertyBasicInfo']['accessibility']['value']\n",
    "    landType = item['propertyBasicInfo']['landType']['value']\n",
    "    description = item['propertyBasicInfo']['description']['value']\n",
    "\n",
    "    return {\n",
    "        \"numberOfFloors\": numberOfFloors,\n",
    "        \"ward\": ward,\n",
    "        \"street\": street,\n",
    "        \"district\": district,\n",
    "        \"city\": city,\n",
    "        \"lat\": lat,\n",
    "        \"lon\": lon,\n",
    "        \"typeOfRealEstate\": typeOfRealEstate,\n",
    "        \"frontWidth\": frontWidth,\n",
    "        \"endWidth\": endWidth,\n",
    "        \"facade\": facade,\n",
    "        \"houseDirection\": houseDirection,\n",
    "        \"landSize\": landSize,\n",
    "        \"price\": price,\n",
    "        \"unitPrice\": unitPrice,\n",
    "        \"distanceToNearestRoad\": distanceToNearestRoad,\n",
    "        \"frontRoadWidth\": frontRoadWidth,\n",
    "        \"accessibility\": accessibility,\n",
    "        \"landType\": landType,\n",
    "        \"description\": description,\n",
    "    }\n",
    "\n",
    "get_compact_info(data[9000])\n",
    "\n"
   ]
  },
  {
   "cell_type": "code",
   "execution_count": null,
   "metadata": {},
   "outputs": [],
   "source": [
    "data[100]"
   ]
  }
 ],
 "metadata": {
  "kernelspec": {
   "display_name": "mlops-env",
   "language": "python",
   "name": "python3"
  },
  "language_info": {
   "codemirror_mode": {
    "name": "ipython",
    "version": 3
   },
   "file_extension": ".py",
   "mimetype": "text/x-python",
   "name": "python",
   "nbconvert_exporter": "python",
   "pygments_lexer": "ipython3",
   "version": "3.10.4"
  }
 },
 "nbformat": 4,
 "nbformat_minor": 2
}
