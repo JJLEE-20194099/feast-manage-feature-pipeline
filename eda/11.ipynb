{
 "cells": [
  {
   "cell_type": "code",
   "execution_count": 1,
   "metadata": {},
   "outputs": [],
   "source": [
    "\n",
    "import pandas as pd\n",
    "import numpy as np\n",
    "import matplotlib.pyplot as plt\n",
    "import seaborn as sns\n",
    "import math"
   ]
  },
  {
   "cell_type": "code",
   "execution_count": 2,
   "metadata": {},
   "outputs": [],
   "source": [
    "df = pd.read_csv('../data/process_v1/process_data_6.csv')\n",
    "df = df[df['city'] == 0]"
   ]
  },
  {
   "cell_type": "code",
   "execution_count": 3,
   "metadata": {},
   "outputs": [],
   "source": [
    "df['is_street_house'] = (df['accessibility'] == 2).astype(np.int32)"
   ]
  },
  {
   "cell_type": "code",
   "execution_count": 4,
   "metadata": {},
   "outputs": [],
   "source": [
    "df['landSize_ratio'] = df['landSize'] / df['acreage']"
   ]
  },
  {
   "cell_type": "code",
   "execution_count": 5,
   "metadata": {},
   "outputs": [],
   "source": [
    "mean_land_size_df = df.groupby('administrative_genre')['landSize'].mean().reset_index().rename(columns = {'landSize': 'meanLandSize'})\n",
    "\n",
    "df = df.merge(mean_land_size_df, how='left', on = 'administrative_genre')\n",
    "\n",
    "df['landSize_ratio_with_administrative_genre'] = df['landSize'] / df['meanLandSize']\n",
    "df['acreage_ratio_with_meanLandSize'] = df['acreage'] / df['meanLandSize']\n",
    "\n",
    "\n",
    "del df['meanLandSize']\n",
    "\n",
    "def partition_for_alley_width(alley_width):\n",
    "    if math.isnan(alley_width):\n",
    "        return np.nan\n",
    "    if alley_width <= 2.5:\n",
    "        return 1\n",
    "    if alley_width <= 5:\n",
    "        return 2\n",
    "    if alley_width <= 7:\n",
    "        return 3\n",
    "    if alley_width <= 8:\n",
    "        return 4"
   ]
  },
  {
   "cell_type": "code",
   "execution_count": 6,
   "metadata": {},
   "outputs": [
    {
     "data": {
      "text/plain": [
       "{'fitThreeCars': 0,\n",
       " 'fitOneCarAndOneMotorbike': 1,\n",
       " 'notInTheAlley': 2,\n",
       " 'parkCar': 3,\n",
       " 'theBottleNeckPoint': 4,\n",
       " 'fitTwoCars': 5,\n",
       " 'narrorRoad': 6}"
      ]
     },
     "execution_count": 6,
     "metadata": {},
     "output_type": "execute_result"
    }
   ],
   "source": [
    "{'fitThreeCars': 0,\n",
    " 'fitOneCarAndOneMotorbike': 1,\n",
    " 'notInTheAlley': 2,\n",
    " 'parkCar': 3,\n",
    " 'theBottleNeckPoint': 4,\n",
    " 'fitTwoCars': 5,\n",
    " 'narrorRoad': 6}"
   ]
  },
  {
   "cell_type": "code",
   "execution_count": 7,
   "metadata": {},
   "outputs": [
    {
     "name": "stdout",
     "output_type": "stream",
     "text": [
      "28 1 52 156\n"
     ]
    }
   ],
   "source": [
    "cat_cols = ['is_street_house', 'ward', 'street', 'district', 'typeOfRealEstate', 'houseDirection', 'accessibility', 'certificateOfLandUseRight'] + [c for c in df.columns.tolist() if '_lat' in c or '_lon' in c]\n",
    "target_cols = ['target']\n",
    "remove_cols = ['price', 'description', 'city'] + [c for c in df.columns if 'distance_hcm' in c]\n",
    "time_cols = ['time']\n",
    "num_cols = [c for c in df.columns.tolist() if c not in (cat_cols + target_cols + remove_cols + time_cols)]\n",
    "\n",
    "cat_cols = list(set(cat_cols))\n",
    "target_cols = list(set(target_cols))\n",
    "remove_cols = list(set(remove_cols))\n",
    "num_cols = list(set(num_cols))\n",
    "\n",
    "print(len(cat_cols), len(target_cols), len(remove_cols), len(num_cols))"
   ]
  },
  {
   "cell_type": "code",
   "execution_count": 8,
   "metadata": {},
   "outputs": [
    {
     "data": {
      "text/plain": [
       "['nearest_3_lat',\n",
       " 'accessibility',\n",
       " 'nearest_0_lat',\n",
       " 'nearest_7_lon',\n",
       " 'typeOfRealEstate',\n",
       " 'nearest_4_lat',\n",
       " 'nearest_7_lat',\n",
       " 'nearest_2_lon',\n",
       " 'district',\n",
       " 'houseDirection',\n",
       " 'nearest_8_lon',\n",
       " 'ward',\n",
       " 'is_street_house',\n",
       " 'nearest_8_lat',\n",
       " 'nearest_5_lat',\n",
       " 'nearest_6_lat',\n",
       " 'nearest_0_lon',\n",
       " 'nearest_4_lon',\n",
       " 'nearest_5_lon',\n",
       " 'nearest_2_lat',\n",
       " 'street',\n",
       " 'certificateOfLandUseRight',\n",
       " 'district_lon',\n",
       " 'nearest_3_lon',\n",
       " 'nearest_6_lon',\n",
       " 'nearest_1_lon',\n",
       " 'nearest_1_lat',\n",
       " 'district_lat']"
      ]
     },
     "execution_count": 8,
     "metadata": {},
     "output_type": "execute_result"
    }
   ],
   "source": [
    "cat_cols"
   ]
  },
  {
   "cell_type": "code",
   "execution_count": 9,
   "metadata": {},
   "outputs": [
    {
     "data": {
      "text/plain": [
       "['endWidth',\n",
       " 'distance_nearest_2',\n",
       " 'nearest_8_district',\n",
       " 'num_of_hospital_in_1000m_radius',\n",
       " 'num_of_kindergarten_in_500m_radius',\n",
       " 'distance_hn_Nguyễn Thị Minh Khai',\n",
       " 'num_of_fuel_in_1000m_radius',\n",
       " 'distance_hn_Đường Lê Anh Xuân, quận 1',\n",
       " 'distance_nearest_0',\n",
       " 'num_of_townhall - community_centre_in_500m_radius',\n",
       " 'facade',\n",
       " 'nearest_0_district',\n",
       " 'num_of_fast_food_in_2000m_radius',\n",
       " 'nearest_2_ward',\n",
       " 'nearest_0_street',\n",
       " 'num_of_cafe_in_2000m_radius',\n",
       " 'num_of_marketplace_in_500m_radius',\n",
       " 'acreage',\n",
       " 'distance_hn_Công viên 30-4',\n",
       " 'nearest_5_district',\n",
       " 'nearest_5_street',\n",
       " 'distance_nearest_1',\n",
       " 'num_of_university_in_2000m_radius',\n",
       " 'numberOfFloors',\n",
       " 'nearest_4_street',\n",
       " 'distance_hn_Nguyễn Tri Phương',\n",
       " 'distance_hn_Đào Trí',\n",
       " 'numberOfBathRooms',\n",
       " 'distance_hn_Công viên khu đô thị Sala',\n",
       " 'distance_hn_Công viên Gia Định',\n",
       " 'nearest_3_ward',\n",
       " 'landSize_ratio_with_administrative_genre',\n",
       " 'frontWidth',\n",
       " 'num_of_atm_in_500m_radius',\n",
       " 'num_of_ward',\n",
       " 'lat',\n",
       " 'num_of_place_of_worship_in_500m_radius',\n",
       " 'distance_nearest_8',\n",
       " 'nearest_6_street',\n",
       " 'distance_hn_TTTM Saigon Centre (Takashimaya)',\n",
       " 'num_of_hospital_in_2000m_radius',\n",
       " 'distance_hn_Công viên cá Koi Rin Rin Park',\n",
       " 'distance_hn_Thảo Cầm Viên',\n",
       " 'distance_hn_Công viên Hoàng Văn Thụ',\n",
       " 'nearest_7_district',\n",
       " 'num_of_cafe_in_1000m_radius',\n",
       " 'nearest_1_street',\n",
       " 'distance_hn_Trần Hưng Đạo',\n",
       " 'distance_hn_Bến Vân Đồn',\n",
       " 'distance_hn_Tôn Thất Thuyết',\n",
       " 'distance_hn_Đường Nguyễn Thị Định',\n",
       " 'distance_hn_Nguyễn Văn Luông',\n",
       " 'num_of_parking_in_500m_radius',\n",
       " 'num_of_school_in_1000m_radius',\n",
       " 'nearest_4_district',\n",
       " 'num_of_hospital_in_500m_radius',\n",
       " 'nearest_2_street',\n",
       " 'distance_hn_Hậu Giang',\n",
       " 'distance_hn_Đường Nguyễn Tất Thành',\n",
       " 'num_of_police_in_500m_radius',\n",
       " 'num_of_parking_entrance_in_1000m_radius',\n",
       " 'num_of_bank_in_1000m_radius',\n",
       " 'num_of_place_of_worship_in_2000m_radius',\n",
       " 'distance_hn_Vincom Đồng Khởi',\n",
       " 'population',\n",
       " 'distance_hn_Đường Hai Bà Trưng',\n",
       " 'nearest_5_ward',\n",
       " 'num_of_kindergarten_in_2000m_radius',\n",
       " 'distance_hn_Công viên Tao Đàn',\n",
       " 'distance_hn_SC VivoCity Shopping Center',\n",
       " 'distance_hn_Công viên 23-9',\n",
       " 'distance_hn_Kinh Dương Vương',\n",
       " 'num_of_university_in_500m_radius',\n",
       " 'nearest_4_ward',\n",
       " 'landSize',\n",
       " 'acreage_ratio_with_meanLandSize',\n",
       " 'num_of_fast_food_in_500m_radius',\n",
       " 'num_of_fast_food_in_1000m_radius',\n",
       " 'distance_hn_Công viên trên mây tại Taka Shimaya',\n",
       " 'num_of_kindergarten_in_1000m_radius',\n",
       " 'num_of_school_in_2000m_radius',\n",
       " 'distance_hn_Công viên Vinhomes Central Park',\n",
       " 'density',\n",
       " 'num_of_bank_in_500m_radius',\n",
       " 'distance_nearest_3',\n",
       " 'num_of_police_in_1000m_radius',\n",
       " 'num_of_parking_in_2000m_radius',\n",
       " 'nearest_3_street',\n",
       " 'distance_hn_Đường Đồng Khởi, quận 1, TPHCM',\n",
       " 'num_of_parking_in_1000m_radius',\n",
       " 'distance_hn_Đường Mạc Thị Bưởi',\n",
       " 'distance_hn_Công viên phép thuật Harry Potter',\n",
       " 'num_of_townhall - community_centre_in_2000m_radius',\n",
       " 'num_of_marketplace_in_2000m_radius',\n",
       " 'num_of_police_in_2000m_radius',\n",
       " 'distance_hn_Bà Huyện Thanh Quan',\n",
       " 'num_of_school_in_500m_radius',\n",
       " 'num_of_atm_in_2000m_radius',\n",
       " 'num_of_townhall - community_centre_in_1000m_radius',\n",
       " 'distance_hn_Đoàn Văn Bơ',\n",
       " 'distance_hn_Đường Nguyễn Huệ, quận 1, TPHCM',\n",
       " 'distance_hn_Hùng Vương',\n",
       " 'distance_hn_Đường Võ Chí Công',\n",
       " 'landSize_ratio',\n",
       " 'distance_hn_Công viên Thỏ Trắng',\n",
       " 'h',\n",
       " 'distance_hn_Nguyễn Văn Linh',\n",
       " 'distance_hn_Diamond Plaza Shopping Center',\n",
       " 'lon',\n",
       " 'num_of_cafe_in_500m_radius',\n",
       " 'num_of_bank_in_2000m_radius',\n",
       " 'nearest_8_street',\n",
       " 'nearest_0_ward',\n",
       " 'num_of_fuel_in_500m_radius',\n",
       " 'num_of_atm_in_1000m_radius',\n",
       " 'num_of_university_in_1000m_radius',\n",
       " 'nearest_2_district',\n",
       " 'nearest_1_district',\n",
       " 'num_of_restaurant_in_2000m_radius',\n",
       " 'num_of_fuel_in_2000m_radius',\n",
       " 'distance_hn_Crescent Mall',\n",
       " 'distance_nearest_4',\n",
       " 'w',\n",
       " 'distance_hn_Saigon Garden',\n",
       " 'distance_hn_Công trường Lam Sơn',\n",
       " 'distance_hn_Đường Lê Duẩn',\n",
       " 'nearest_6_ward',\n",
       " 'distance_hn_Công viên nước Đầm Sen',\n",
       " 'distance_hn_Đường Mai Chí Thọ',\n",
       " 'nearest_7_street',\n",
       " 'distance_hn_Lê Hồng Phong',\n",
       " 'distance_hn_Nguyễn Thị Thập',\n",
       " 'nearest_8_ward',\n",
       " 'numberOfBedRooms',\n",
       " 'num_of_restaurant_in_1000m_radius',\n",
       " 'distance_district',\n",
       " 'num_of_parking_entrance_in_500m_radius',\n",
       " 'nearest_1_ward',\n",
       " 'num_of_marketplace_in_1000m_radius',\n",
       " 'distance_nearest_7',\n",
       " 'nearest_6_district',\n",
       " 'distance_hn_Đường Nam Kỳ Khởi Nghĩa',\n",
       " 'distance_hn_Công viên cầu Ánh Sao – Hồ Bán Nguyệt',\n",
       " 'distance_nearest_6',\n",
       " 'distance_nearest_5',\n",
       " 'distance_hn_Lê Văn Sỹ',\n",
       " 'distance_hn_Công viên nước Củ Chi',\n",
       " 'administrative_genre',\n",
       " 'distance_hn_Aeon Mall Shopping Center Tân Phú',\n",
       " 'num_of_parking_entrance_in_2000m_radius',\n",
       " 'nearest_3_district',\n",
       " 'distance_hn_Công viên Lê Văn Tám',\n",
       " 'num_of_restaurant_in_500m_radius',\n",
       " 'distance_hn_Đường Lê Lợi, quận 1, TPHCM',\n",
       " 'nearest_7_ward',\n",
       " 'num_of_place_of_worship_in_1000m_radius']"
      ]
     },
     "execution_count": 9,
     "metadata": {},
     "output_type": "execute_result"
    }
   ],
   "source": [
    "num_cols"
   ]
  },
  {
   "cell_type": "code",
   "execution_count": 10,
   "metadata": {},
   "outputs": [
    {
     "name": "stdout",
     "output_type": "stream",
     "text": [
      "156\n"
     ]
    }
   ],
   "source": [
    "print(len(num_cols))"
   ]
  },
  {
   "cell_type": "code",
   "execution_count": 11,
   "metadata": {},
   "outputs": [],
   "source": [
    "df[cat_cols] = df[cat_cols].fillna(100)\n",
    "df[cat_cols] = df[cat_cols].astype(np.int32)"
   ]
  },
  {
   "cell_type": "code",
   "execution_count": 12,
   "metadata": {},
   "outputs": [],
   "source": [
    "df = df[cat_cols + num_cols + time_cols + target_cols]"
   ]
  },
  {
   "cell_type": "code",
   "execution_count": 13,
   "metadata": {},
   "outputs": [],
   "source": [
    "df = df[df[target_cols[0]] != np.inf]\n",
    "df = df[df[target_cols[0]] != -np.inf]"
   ]
  },
  {
   "cell_type": "code",
   "execution_count": 14,
   "metadata": {},
   "outputs": [
    {
     "data": {
      "text/plain": [
       "(49052, 186)"
      ]
     },
     "execution_count": 14,
     "metadata": {},
     "output_type": "execute_result"
    }
   ],
   "source": [
    "df.shape"
   ]
  },
  {
   "cell_type": "code",
   "execution_count": 15,
   "metadata": {},
   "outputs": [],
   "source": [
    "df = df[df[target_cols[0]] >= 10]\n",
    "df = df[df[target_cols[0]] < 100 * 10]\n",
    "# df = pd.concat([df[df['w'] < 50], df[df['w'].isnull()]])\n",
    "# df = pd.concat([df[df['h'] < 50], df[df['w'].isnull()]])"
   ]
  },
  {
   "cell_type": "code",
   "execution_count": 16,
   "metadata": {},
   "outputs": [],
   "source": [
    "df.to_csv('../data/process_v1/process_data_7_hcm.csv', index = False)"
   ]
  }
 ],
 "metadata": {
  "kernelspec": {
   "display_name": "mlops-env",
   "language": "python",
   "name": "python3"
  },
  "language_info": {
   "codemirror_mode": {
    "name": "ipython",
    "version": 3
   },
   "file_extension": ".py",
   "mimetype": "text/x-python",
   "name": "python",
   "nbconvert_exporter": "python",
   "pygments_lexer": "ipython3",
   "version": "3.10.4"
  }
 },
 "nbformat": 4,
 "nbformat_minor": 2
}
