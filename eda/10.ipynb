{
 "cells": [
  {
   "cell_type": "code",
   "execution_count": 4,
   "metadata": {},
   "outputs": [],
   "source": [
    "\n",
    "import pandas as pd\n",
    "import numpy as np\n",
    "import matplotlib.pyplot as plt\n",
    "import seaborn as sns"
   ]
  },
  {
   "cell_type": "code",
   "execution_count": 5,
   "metadata": {},
   "outputs": [],
   "source": [
    "df = pd.read_csv('../data/process_v1/process_data_6.csv')"
   ]
  },
  {
   "cell_type": "code",
   "execution_count": 8,
   "metadata": {},
   "outputs": [],
   "source": [
    "alley_width_format_strs = [\n",
    "    'hẻm {}m',\n",
    "    'hẻm {} m',\n",
    "    'hẻm {}m',\n",
    "    'hẻm {} m',\n",
    "    'hẻm vào nhà {}m',\n",
    "    'hẻm vào nhà {} m',\n",
    "    'hẻm thẳng {}m',\n",
    "    'hẻm thẳng {}m',\n",
    "    'hẻm nhựa {}m',\n",
    "    'hẻm nhựa {} m',\n",
    "    'hẻm trc nhà {} m',\n",
    "    'hẻm oto {} m',\n",
    "    'hẻm ôtô {} m',\n",
    "    'hẻm ôtô {}m',\n",
    "    'hẻm ô tô {} m',\n",
    "    'hẻm ô tô {}m',\n",
    "    'hẻm oto {}m',\n",
    "    'hẻm o to {}m',\n",
    "    'hẻm o to {} m',\n",
    "    'hẻm trc nhà {}m',\n",
    "    'hẻm chuẩn {}m',\n",
    "    'hẻm chuẩn {} m',\n",
    "    'hẻm thông {}m',\n",
    "    'hẻm thông {} m',\n",
    "\n",
    "    'hẻm gần {}m',\n",
    "    'hẻm gần {} m',\n",
    "    'hẻm hơn {} m',\n",
    "    'hẻm hơn {}m',\n",
    "    'hẻm bêtông {}m',\n",
    "    'hẻm bêtông {} m',\n",
    "    'hẻm nhỏ {}m',\n",
    "    'hẻm nhỏ {} m',\n",
    "\n",
    "    'hẻm trước nhà rộng {}m',\n",
    "    'hẻm thông trước nhà gần {}m',\n",
    "    'hẻm thông trước nhà gần {} m',\n",
    "    'hẻm trước nhà rộng {} m',\n",
    "    'hẻm trước nhà hơn {}m',\n",
    "    'hẻm trước nhà hơn {} m',\n",
    "    'trước nhà {}m',\n",
    "    'trước nhà {} m',\n",
    "    'hẻm: {} m',\n",
    "    'hẻm: {}m',\n",
    "    'hẻm ô tô tránh {} m',\n",
    "    'hẻm ô tô tránh {}m',\n",
    "    'hẻm ô tô 7 chỗ {}m',\n",
    "    'hẻm ô tô 7 chỗ {} m',\n",
    "    'mặt trước nhà {}m',\n",
    "    'mặt trước nhà {} m',\n",
    "    'hẻm to {}m',\n",
    "    'hẻm to {} m',\n",
    "\n",
    "    'hẻm trước nhà {}m',\n",
    "    'xe tải {}m',\n",
    "    'xe tải {} m',\n",
    "    'hẻm trước nhà {} m',\n",
    "    'hẻm nhựa thông {}m',\n",
    "    'hẻm nhựa thông {} m',\n",
    "    'hẻm bê tông rộng {}m',\n",
    "    'hẻm bê tông rộng {} m',\n",
    "    'hẻm trước nhà gần {}m',\n",
    "    'hẻm trước nhà gần {} m',\n",
    "    'hẻm nhựa chuẩn {}m',\n",
    "    'hẻm 1 trục {}m',\n",
    "    'hẻm 1 trục {} m',\n",
    "    'hẻm lớn {} m',\n",
    "    'hẻm lớn {}m',\n",
    "    'hẻm phụ {}m',\n",
    "    'hẻm phụ {} m',\n",
    "    'hẻm nhựa chuẩn {} m',\n",
    "    'hẻm nhỏ {}m',\n",
    "    'hẻm xe ba gác {}m',\n",
    "    'hẻm xe ba gác {} m',\n",
    "    'hẻm nhỏ {} m',\n",
    "    'hẻm hông {}m',\n",
    "    'hẻm hông {} m',\n",
    "    'hẻm hong {}m',\n",
    "    'hẻm hong {} m',\n",
    "    'hẻm sau {} m',\n",
    "    'hẻm sau {}m',\n",
    "    'hẻm hậu {} m',\n",
    "    'hẻm hậu {}m',\n",
    "    'hẻm hông rộng {}m',\n",
    "    'hẻm hông rộng {} m',\n",
    "    'hẻm sau xe hơi {}m',\n",
    "    'hẻm sau xe hơi {} m',\n",
    "    'hẻm hậu xe hơi {}m',\n",
    "    'hẻm hậu xe hơi {} m',\n",
    "    'hẻm bên hông {} m',\n",
    "    'hẻm bên hông {}m',\n",
    "    'hẻm hông đường {} m',\n",
    "    'hẻm hông đường {}m',\n",
    "\n",
    "]\n",
    "\n",
    "def extract_alley_width(content):\n",
    "    for width in range(4, 17):\n",
    "        for filter_str in alley_width_format_strs:\n",
    "\n",
    "            if filter_str.format(width / 2) in content:\n",
    "                return width / 2\n",
    "            if filter_str.format(width / 2).replace('.', ',') in content:\n",
    "                return width / 2\n",
    "            if filter_str.format(f'0{width / 2}').replace('.', ',') in content:\n",
    "                return width / 2\n",
    "            if filter_str.format(int(width / 2)) in content:\n",
    "                return int(width / 2)\n",
    "            filter_str = filter_str.replace(\"hẻm\", \"ngõ\")\n",
    "            if filter_str.format(width / 2) in content:\n",
    "                return width / 2\n",
    "            if filter_str.format(width / 2).replace('.', ',') in content:\n",
    "                return width / 2\n",
    "            if filter_str.format(f'0{width / 2}').replace('.', ',') in content:\n",
    "                return width / 2\n",
    "            if filter_str.format(int(width / 2)) in content:\n",
    "                return int(width / 2)\n",
    "    for width in range(8, 20):\n",
    "        for filter_str in alley_width_format_strs:\n",
    "            if filter_str.format(width) in content:\n",
    "                return width\n",
    "    return np.nan\n",
    "\n",
    "df['alley_width'] = df.apply(lambda x: extract_alley_width(x['description']), axis=1)"
   ]
  },
  {
   "cell_type": "code",
   "execution_count": 13,
   "metadata": {},
   "outputs": [
    {
     "data": {
      "text/plain": [
       "<Axes: >"
      ]
     },
     "execution_count": 13,
     "metadata": {},
     "output_type": "execute_result"
    },
    {
     "data": {
      "image/png": "[encoded data removed]",
      "text/plain": [
       "<Figure size 640x480 with 1 Axes>"
      ]
     },
     "metadata": {},
     "output_type": "display_data"
    }
   ],
   "source": [
    "df['alley_width'].plot()"
   ]
  },
  {
   "cell_type": "code",
   "execution_count": 14,
   "metadata": {},
   "outputs": [],
   "source": [
    "df.to_csv('../data/process_v1/process_data_7.csv', index = False)"
   ]
  }
 ],
 "metadata": {
  "kernelspec": {
   "display_name": "mlops-env",
   "language": "python",
   "name": "python3"
  },
  "language_info": {
   "codemirror_mode": {
    "name": "ipython",
    "version": 3
   },
   "file_extension": ".py",
   "mimetype": "text/x-python",
   "name": "python",
   "nbconvert_exporter": "python",
   "pygments_lexer": "ipython3",
   "version": "3.10.4"
  }
 },
 "nbformat": 4,
 "nbformat_minor": 2
}
